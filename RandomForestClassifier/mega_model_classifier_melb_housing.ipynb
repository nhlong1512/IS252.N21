{
  "nbformat": 4,
  "nbformat_minor": 0,
  "metadata": {
    "colab": {
      "provenance": [],
      "authorship_tag": "ABX9TyNmbc6J+Dth9/l4HDplhl0J",
      "include_colab_link": true
    },
    "kernelspec": {
      "name": "python3",
      "display_name": "Python 3"
    },
    "language_info": {
      "name": "python"
    }
  },
  "cells": [
    {
      "cell_type": "markdown",
      "metadata": {
        "id": "view-in-github",
        "colab_type": "text"
      },
      "source": [
        "<a href=\"https://colab.research.google.com/github/nhlong1512/IS252.N21/blob/main/RandomForestClassifier/mega_model_classifier_melb_housing.ipynb\" target=\"_parent\"><img src=\"https://colab.research.google.com/assets/colab-badge.svg\" alt=\"Open In Colab\"/></a>"
      ]
    },
    {
      "cell_type": "code",
      "execution_count": 1,
      "metadata": {
        "colab": {
          "base_uri": "https://localhost:8080/"
        },
        "id": "5M-m_-edSuhf",
        "outputId": "def94234-c303-49ce-c3fb-c005029707dd"
      },
      "outputs": [
        {
          "output_type": "stream",
          "name": "stdout",
          "text": [
            "Looking in indexes: https://pypi.org/simple, https://us-python.pkg.dev/colab-wheels/public/simple/\n",
            "Collecting catboost\n",
            "  Downloading catboost-1.2-cp310-cp310-manylinux2014_x86_64.whl (98.6 MB)\n",
            "\u001b[2K     \u001b[90m━━━━━━━━━━━━━━━━━━━━━━━━━━━━━━━━━━━━━━━━\u001b[0m \u001b[32m98.6/98.6 MB\u001b[0m \u001b[31m10.8 MB/s\u001b[0m eta \u001b[36m0:00:00\u001b[0m\n",
            "\u001b[?25hRequirement already satisfied: graphviz in /usr/local/lib/python3.10/dist-packages (from catboost) (0.20.1)\n",
            "Requirement already satisfied: matplotlib in /usr/local/lib/python3.10/dist-packages (from catboost) (3.7.1)\n",
            "Requirement already satisfied: numpy>=1.16.0 in /usr/local/lib/python3.10/dist-packages (from catboost) (1.22.4)\n",
            "Requirement already satisfied: pandas>=0.24 in /usr/local/lib/python3.10/dist-packages (from catboost) (1.5.3)\n",
            "Requirement already satisfied: scipy in /usr/local/lib/python3.10/dist-packages (from catboost) (1.10.1)\n",
            "Requirement already satisfied: plotly in /usr/local/lib/python3.10/dist-packages (from catboost) (5.13.1)\n",
            "Requirement already satisfied: six in /usr/local/lib/python3.10/dist-packages (from catboost) (1.16.0)\n",
            "Requirement already satisfied: python-dateutil>=2.8.1 in /usr/local/lib/python3.10/dist-packages (from pandas>=0.24->catboost) (2.8.2)\n",
            "Requirement already satisfied: pytz>=2020.1 in /usr/local/lib/python3.10/dist-packages (from pandas>=0.24->catboost) (2022.7.1)\n",
            "Requirement already satisfied: contourpy>=1.0.1 in /usr/local/lib/python3.10/dist-packages (from matplotlib->catboost) (1.0.7)\n",
            "Requirement already satisfied: cycler>=0.10 in /usr/local/lib/python3.10/dist-packages (from matplotlib->catboost) (0.11.0)\n",
            "Requirement already satisfied: fonttools>=4.22.0 in /usr/local/lib/python3.10/dist-packages (from matplotlib->catboost) (4.39.3)\n",
            "Requirement already satisfied: kiwisolver>=1.0.1 in /usr/local/lib/python3.10/dist-packages (from matplotlib->catboost) (1.4.4)\n",
            "Requirement already satisfied: packaging>=20.0 in /usr/local/lib/python3.10/dist-packages (from matplotlib->catboost) (23.1)\n",
            "Requirement already satisfied: pillow>=6.2.0 in /usr/local/lib/python3.10/dist-packages (from matplotlib->catboost) (8.4.0)\n",
            "Requirement already satisfied: pyparsing>=2.3.1 in /usr/local/lib/python3.10/dist-packages (from matplotlib->catboost) (3.0.9)\n",
            "Requirement already satisfied: tenacity>=6.2.0 in /usr/local/lib/python3.10/dist-packages (from plotly->catboost) (8.2.2)\n",
            "Installing collected packages: catboost\n",
            "Successfully installed catboost-1.2\n"
          ]
        }
      ],
      "source": [
        "# importing libraries\n",
        "!pip install catboost\n",
        "import pandas as pd\n",
        "import numpy as np\n",
        "import matplotlib.pyplot as plt\n",
        "import seaborn as sns\n",
        "import missingno as msno\n",
        "\n",
        "import warnings\n",
        "warnings.filterwarnings('ignore')\n",
        "\n",
        "from sklearn.model_selection import train_test_split, GridSearchCV\n",
        "from sklearn.preprocessing import StandardScaler\n",
        "from sklearn.metrics import accuracy_score, confusion_matrix, classification_report\n",
        "from sklearn.linear_model import LogisticRegression\n",
        "from sklearn.neighbors import KNeighborsClassifier\n",
        "from sklearn.svm import SVC\n",
        "from sklearn.tree import DecisionTreeClassifier\n",
        "from sklearn.ensemble import RandomForestClassifier\n",
        "from sklearn.ensemble import RandomForestClassifier\n",
        "from sklearn.ensemble import AdaBoostClassifier\n",
        "from sklearn.ensemble import GradientBoostingClassifier\n",
        "from xgboost import XGBClassifier\n",
        "from catboost import CatBoostClassifier\n",
        "from sklearn.ensemble import ExtraTreesClassifier\n",
        "from lightgbm import LGBMClassifier\n",
        "from sklearn.ensemble import VotingClassifier\n",
        "\n",
        "import folium\n",
        "from folium.plugins import HeatMap\n",
        "import plotly.express as px\n",
        "\n",
        "plt.style.use('fivethirtyeight')\n",
        "%matplotlib inline\n",
        "pd.set_option('display.max_columns', 32)\n"
      ]
    },
    {
      "cell_type": "code",
      "source": [
        "import warnings\n",
        "\n",
        "warnings.filterwarnings('ignore')"
      ],
      "metadata": {
        "id": "kIpUHhmtS4I3"
      },
      "execution_count": 2,
      "outputs": []
    },
    {
      "cell_type": "code",
      "source": [
        "# Đọc dữ liệu từ file CSV vào DataFrame\n",
        "df = pd.read_csv('melb_data1.csv')\n",
        "\n",
        "# Tính trung bình cộng giá\n",
        "average_price = df['Price'].mean()\n",
        "\n",
        "print(f\"Trung bình cộng giá: {average_price}\")"
      ],
      "metadata": {
        "colab": {
          "base_uri": "https://localhost:8080/"
        },
        "id": "KCZ54UlVTHNZ",
        "outputId": "4adbd511-bd81-4361-be2d-0e0ab469e287"
      },
      "execution_count": 7,
      "outputs": [
        {
          "output_type": "stream",
          "name": "stdout",
          "text": [
            "Trung bình cộng giá: 1075684.079455081\n"
          ]
        }
      ]
    },
    {
      "cell_type": "code",
      "source": [
        "df.shape"
      ],
      "metadata": {
        "colab": {
          "base_uri": "https://localhost:8080/"
        },
        "id": "JMOrT4XCTJOO",
        "outputId": "c4b0cd8f-3391-4564-f17c-57d158bf5588"
      },
      "execution_count": 4,
      "outputs": [
        {
          "output_type": "execute_result",
          "data": {
            "text/plain": [
              "(13580, 19)"
            ]
          },
          "metadata": {},
          "execution_count": 4
        }
      ]
    },
    {
      "cell_type": "code",
      "source": [
        "def encode_price(value):\n",
        "    if value < average_price:\n",
        "        return 0\n",
        "    else:\n",
        "        return 1\n",
        "\n",
        "# Áp dụng hàm mã hóa lên cột Price\n",
        "df['Encoded_Price'] = df['Price'].apply(encode_price)\n",
        "\n",
        "print(df)"
      ],
      "metadata": {
        "colab": {
          "base_uri": "https://localhost:8080/"
        },
        "id": "XgIG12xu_A7O",
        "outputId": "6b179dda-10f3-4992-e1db-60002751e95a"
      },
      "execution_count": 8,
      "outputs": [
        {
          "output_type": "stream",
          "name": "stdout",
          "text": [
            "               Suburb            Address  Rooms Type    Price        SellerG  \\\n",
            "0        Airport West      154 Halsey Rd      3    t   840000         Nelson   \n",
            "1         Albert Park     105 Kerferd Rd      2    h  1275000  hockingstuart   \n",
            "2         Albert Park   85 Richardson St      2    h  1455000        Thomson   \n",
            "3          Alphington         6 Smith St      4    h  2000000          Brace   \n",
            "4          Alphington    5/6 Yarralea St      3    h  1110000         Jellis   \n",
            "...               ...                ...    ...  ...      ...            ...   \n",
            "13575  West Footscray    32 Richelieu St      5    h  1030000        Village   \n",
            "13576  West Footscray     121 Suffolk St      3    h   878000        Village   \n",
            "13577          Albion       3 Barclay St      2    h   460000          Barry   \n",
            "13578          Albion     5/25 Ridley St      2    u   190000        Burnham   \n",
            "13579        Oakleigh  9/126 Atherton Rd      3    u   665000        O'Brien   \n",
            "\n",
            "             Date  Distance  Postcode  Bathroom  Car  Landsize  BuildingArea  \\\n",
            "0        3/9/2016      13.5      3042         2  1.0       303         225.0   \n",
            "1        3/9/2016       3.3      3206         1  0.0       120          82.0   \n",
            "2        3/9/2016       3.3      3206         1  0.0       159           NaN   \n",
            "3        3/9/2016       6.4      3078         2  4.0       853         263.0   \n",
            "4        3/9/2016       6.4      3078         2  2.0       208           NaN   \n",
            "...           ...       ...       ...       ...  ...       ...           ...   \n",
            "13575  30/07/2016       8.2      3012         2  2.0       352           NaN   \n",
            "13576  30/07/2016       8.2      3012         1  1.0       397         127.0   \n",
            "13577  30/07/2016      13.9      3020         1  2.0       463          85.0   \n",
            "13578  30/07/2016      13.9      3020         1  1.0         0           NaN   \n",
            "13579  30/07/2016      14.0      3166         1  1.0       112           NaN   \n",
            "\n",
            "       YearBuilt    CouncilArea  Lattitude  Longtitude             Regionname  \\\n",
            "0         2016.0  Moonee Valley   -37.7180    144.8780   Western Metropolitan   \n",
            "1         1900.0   Port Phillip   -37.8459    144.9555  Southern Metropolitan   \n",
            "2            NaN   Port Phillip   -37.8450    144.9538  Southern Metropolitan   \n",
            "3         1930.0        Darebin   -37.7707    145.0318  Northern Metropolitan   \n",
            "4         2013.0          Yarra   -37.7854    145.0325  Northern Metropolitan   \n",
            "...          ...            ...        ...         ...                    ...   \n",
            "13575        NaN    Maribyrnong   -37.7908    144.8711   Western Metropolitan   \n",
            "13576     1960.0    Maribyrnong   -37.7901    144.8682   Western Metropolitan   \n",
            "13577        NaN       Brimbank   -37.7813    144.8234   Western Metropolitan   \n",
            "13578        NaN       Brimbank   -37.7839    144.8239   Western Metropolitan   \n",
            "13579        NaN         Monash   -37.9008    145.0980  Southern Metropolitan   \n",
            "\n",
            "       Propertycount  Encoded_Price  \n",
            "0               3464              0  \n",
            "1               3280              1  \n",
            "2               3280              1  \n",
            "3               2211              1  \n",
            "4               2211              1  \n",
            "...              ...            ...  \n",
            "13575           5058              0  \n",
            "13576           5058              0  \n",
            "13577           2185              0  \n",
            "13578           2185              0  \n",
            "13579           3224              0  \n",
            "\n",
            "[13580 rows x 20 columns]\n"
          ]
        }
      ]
    },
    {
      "cell_type": "code",
      "source": [
        "import warnings\n",
        "\n",
        "warnings.filterwarnings('ignore')"
      ],
      "metadata": {
        "id": "0mFkdd8Q_fLu"
      },
      "execution_count": 9,
      "outputs": []
    },
    {
      "cell_type": "code",
      "source": [
        "df.shape"
      ],
      "metadata": {
        "colab": {
          "base_uri": "https://localhost:8080/"
        },
        "id": "pEadAuTU_ikd",
        "outputId": "14f0ccb4-f389-43b6-cf10-fd102235c5d9"
      },
      "execution_count": 10,
      "outputs": [
        {
          "output_type": "execute_result",
          "data": {
            "text/plain": [
              "(13580, 20)"
            ]
          },
          "metadata": {},
          "execution_count": 10
        }
      ]
    },
    {
      "cell_type": "code",
      "source": [
        "# Tính ma trận tương quan giữa các thuộc tính\n",
        "correlation_matrix = df.corr()\n",
        "\n",
        "# Sắp xếp theo độ tương quan với cột 'Price' giảm dần\n",
        "correlation_with_price = correlation_matrix['Price'].abs().sort_values(ascending=False)\n",
        "print(correlation_with_price)\n",
        "\n"
      ],
      "metadata": {
        "colab": {
          "base_uri": "https://localhost:8080/"
        },
        "id": "fv2pI882_kb1",
        "outputId": "7fb5977f-0713-4b0c-83a6-b8f9ee7af686"
      },
      "execution_count": 11,
      "outputs": [
        {
          "output_type": "stream",
          "name": "stdout",
          "text": [
            "Price            1.000000\n",
            "Encoded_Price    0.744073\n",
            "Rooms            0.496634\n",
            "Bathroom         0.467038\n",
            "YearBuilt        0.323617\n",
            "Car              0.238979\n",
            "Lattitude        0.212934\n",
            "Longtitude       0.203656\n",
            "Distance         0.162522\n",
            "Postcode         0.107867\n",
            "BuildingArea     0.090981\n",
            "Propertycount    0.042153\n",
            "Landsize         0.037507\n",
            "Name: Price, dtype: float64\n"
          ]
        }
      ]
    },
    {
      "cell_type": "code",
      "source": [
        "selected_columns = ['Type','Rooms','Distance','Bathroom','Car','Landsize','BuildingArea','YearBuilt', 'Encoded_Price', 'Regionname', 'Price']\n",
        "df = df[selected_columns]"
      ],
      "metadata": {
        "id": "EvtR7N_XTLDo"
      },
      "execution_count": 12,
      "outputs": []
    },
    {
      "cell_type": "code",
      "source": [
        "df.head()"
      ],
      "metadata": {
        "colab": {
          "base_uri": "https://localhost:8080/",
          "height": 206
        },
        "id": "udinshQrTUfz",
        "outputId": "04214433-a5b8-4826-da30-9f89f1a2dec8"
      },
      "execution_count": 13,
      "outputs": [
        {
          "output_type": "execute_result",
          "data": {
            "text/plain": [
              "  Type  Rooms  Distance  Bathroom  Car  Landsize  BuildingArea  YearBuilt  \\\n",
              "0    t      3      13.5         2  1.0       303         225.0     2016.0   \n",
              "1    h      2       3.3         1  0.0       120          82.0     1900.0   \n",
              "2    h      2       3.3         1  0.0       159           NaN        NaN   \n",
              "3    h      4       6.4         2  4.0       853         263.0     1930.0   \n",
              "4    h      3       6.4         2  2.0       208           NaN     2013.0   \n",
              "\n",
              "   Encoded_Price             Regionname    Price  \n",
              "0              0   Western Metropolitan   840000  \n",
              "1              1  Southern Metropolitan  1275000  \n",
              "2              1  Southern Metropolitan  1455000  \n",
              "3              1  Northern Metropolitan  2000000  \n",
              "4              1  Northern Metropolitan  1110000  "
            ],
            "text/html": [
              "\n",
              "  <div id=\"df-5ec559d2-99c1-424f-82fe-e4f1a51befdd\">\n",
              "    <div class=\"colab-df-container\">\n",
              "      <div>\n",
              "<style scoped>\n",
              "    .dataframe tbody tr th:only-of-type {\n",
              "        vertical-align: middle;\n",
              "    }\n",
              "\n",
              "    .dataframe tbody tr th {\n",
              "        vertical-align: top;\n",
              "    }\n",
              "\n",
              "    .dataframe thead th {\n",
              "        text-align: right;\n",
              "    }\n",
              "</style>\n",
              "<table border=\"1\" class=\"dataframe\">\n",
              "  <thead>\n",
              "    <tr style=\"text-align: right;\">\n",
              "      <th></th>\n",
              "      <th>Type</th>\n",
              "      <th>Rooms</th>\n",
              "      <th>Distance</th>\n",
              "      <th>Bathroom</th>\n",
              "      <th>Car</th>\n",
              "      <th>Landsize</th>\n",
              "      <th>BuildingArea</th>\n",
              "      <th>YearBuilt</th>\n",
              "      <th>Encoded_Price</th>\n",
              "      <th>Regionname</th>\n",
              "      <th>Price</th>\n",
              "    </tr>\n",
              "  </thead>\n",
              "  <tbody>\n",
              "    <tr>\n",
              "      <th>0</th>\n",
              "      <td>t</td>\n",
              "      <td>3</td>\n",
              "      <td>13.5</td>\n",
              "      <td>2</td>\n",
              "      <td>1.0</td>\n",
              "      <td>303</td>\n",
              "      <td>225.0</td>\n",
              "      <td>2016.0</td>\n",
              "      <td>0</td>\n",
              "      <td>Western Metropolitan</td>\n",
              "      <td>840000</td>\n",
              "    </tr>\n",
              "    <tr>\n",
              "      <th>1</th>\n",
              "      <td>h</td>\n",
              "      <td>2</td>\n",
              "      <td>3.3</td>\n",
              "      <td>1</td>\n",
              "      <td>0.0</td>\n",
              "      <td>120</td>\n",
              "      <td>82.0</td>\n",
              "      <td>1900.0</td>\n",
              "      <td>1</td>\n",
              "      <td>Southern Metropolitan</td>\n",
              "      <td>1275000</td>\n",
              "    </tr>\n",
              "    <tr>\n",
              "      <th>2</th>\n",
              "      <td>h</td>\n",
              "      <td>2</td>\n",
              "      <td>3.3</td>\n",
              "      <td>1</td>\n",
              "      <td>0.0</td>\n",
              "      <td>159</td>\n",
              "      <td>NaN</td>\n",
              "      <td>NaN</td>\n",
              "      <td>1</td>\n",
              "      <td>Southern Metropolitan</td>\n",
              "      <td>1455000</td>\n",
              "    </tr>\n",
              "    <tr>\n",
              "      <th>3</th>\n",
              "      <td>h</td>\n",
              "      <td>4</td>\n",
              "      <td>6.4</td>\n",
              "      <td>2</td>\n",
              "      <td>4.0</td>\n",
              "      <td>853</td>\n",
              "      <td>263.0</td>\n",
              "      <td>1930.0</td>\n",
              "      <td>1</td>\n",
              "      <td>Northern Metropolitan</td>\n",
              "      <td>2000000</td>\n",
              "    </tr>\n",
              "    <tr>\n",
              "      <th>4</th>\n",
              "      <td>h</td>\n",
              "      <td>3</td>\n",
              "      <td>6.4</td>\n",
              "      <td>2</td>\n",
              "      <td>2.0</td>\n",
              "      <td>208</td>\n",
              "      <td>NaN</td>\n",
              "      <td>2013.0</td>\n",
              "      <td>1</td>\n",
              "      <td>Northern Metropolitan</td>\n",
              "      <td>1110000</td>\n",
              "    </tr>\n",
              "  </tbody>\n",
              "</table>\n",
              "</div>\n",
              "      <button class=\"colab-df-convert\" onclick=\"convertToInteractive('df-5ec559d2-99c1-424f-82fe-e4f1a51befdd')\"\n",
              "              title=\"Convert this dataframe to an interactive table.\"\n",
              "              style=\"display:none;\">\n",
              "        \n",
              "  <svg xmlns=\"http://www.w3.org/2000/svg\" height=\"24px\"viewBox=\"0 0 24 24\"\n",
              "       width=\"24px\">\n",
              "    <path d=\"M0 0h24v24H0V0z\" fill=\"none\"/>\n",
              "    <path d=\"M18.56 5.44l.94 2.06.94-2.06 2.06-.94-2.06-.94-.94-2.06-.94 2.06-2.06.94zm-11 1L8.5 8.5l.94-2.06 2.06-.94-2.06-.94L8.5 2.5l-.94 2.06-2.06.94zm10 10l.94 2.06.94-2.06 2.06-.94-2.06-.94-.94-2.06-.94 2.06-2.06.94z\"/><path d=\"M17.41 7.96l-1.37-1.37c-.4-.4-.92-.59-1.43-.59-.52 0-1.04.2-1.43.59L10.3 9.45l-7.72 7.72c-.78.78-.78 2.05 0 2.83L4 21.41c.39.39.9.59 1.41.59.51 0 1.02-.2 1.41-.59l7.78-7.78 2.81-2.81c.8-.78.8-2.07 0-2.86zM5.41 20L4 18.59l7.72-7.72 1.47 1.35L5.41 20z\"/>\n",
              "  </svg>\n",
              "      </button>\n",
              "      \n",
              "  <style>\n",
              "    .colab-df-container {\n",
              "      display:flex;\n",
              "      flex-wrap:wrap;\n",
              "      gap: 12px;\n",
              "    }\n",
              "\n",
              "    .colab-df-convert {\n",
              "      background-color: #E8F0FE;\n",
              "      border: none;\n",
              "      border-radius: 50%;\n",
              "      cursor: pointer;\n",
              "      display: none;\n",
              "      fill: #1967D2;\n",
              "      height: 32px;\n",
              "      padding: 0 0 0 0;\n",
              "      width: 32px;\n",
              "    }\n",
              "\n",
              "    .colab-df-convert:hover {\n",
              "      background-color: #E2EBFA;\n",
              "      box-shadow: 0px 1px 2px rgba(60, 64, 67, 0.3), 0px 1px 3px 1px rgba(60, 64, 67, 0.15);\n",
              "      fill: #174EA6;\n",
              "    }\n",
              "\n",
              "    [theme=dark] .colab-df-convert {\n",
              "      background-color: #3B4455;\n",
              "      fill: #D2E3FC;\n",
              "    }\n",
              "\n",
              "    [theme=dark] .colab-df-convert:hover {\n",
              "      background-color: #434B5C;\n",
              "      box-shadow: 0px 1px 3px 1px rgba(0, 0, 0, 0.15);\n",
              "      filter: drop-shadow(0px 1px 2px rgba(0, 0, 0, 0.3));\n",
              "      fill: #FFFFFF;\n",
              "    }\n",
              "  </style>\n",
              "\n",
              "      <script>\n",
              "        const buttonEl =\n",
              "          document.querySelector('#df-5ec559d2-99c1-424f-82fe-e4f1a51befdd button.colab-df-convert');\n",
              "        buttonEl.style.display =\n",
              "          google.colab.kernel.accessAllowed ? 'block' : 'none';\n",
              "\n",
              "        async function convertToInteractive(key) {\n",
              "          const element = document.querySelector('#df-5ec559d2-99c1-424f-82fe-e4f1a51befdd');\n",
              "          const dataTable =\n",
              "            await google.colab.kernel.invokeFunction('convertToInteractive',\n",
              "                                                     [key], {});\n",
              "          if (!dataTable) return;\n",
              "\n",
              "          const docLinkHtml = 'Like what you see? Visit the ' +\n",
              "            '<a target=\"_blank\" href=https://colab.research.google.com/notebooks/data_table.ipynb>data table notebook</a>'\n",
              "            + ' to learn more about interactive tables.';\n",
              "          element.innerHTML = '';\n",
              "          dataTable['output_type'] = 'display_data';\n",
              "          await google.colab.output.renderOutput(dataTable, element);\n",
              "          const docLink = document.createElement('div');\n",
              "          docLink.innerHTML = docLinkHtml;\n",
              "          element.appendChild(docLink);\n",
              "        }\n",
              "      </script>\n",
              "    </div>\n",
              "  </div>\n",
              "  "
            ]
          },
          "metadata": {},
          "execution_count": 13
        }
      ]
    },
    {
      "cell_type": "code",
      "source": [
        "df.info()"
      ],
      "metadata": {
        "colab": {
          "base_uri": "https://localhost:8080/"
        },
        "id": "81hdQYwbTWDb",
        "outputId": "942d3578-b5eb-4353-c1c3-ce5ce54eb22e"
      },
      "execution_count": 16,
      "outputs": [
        {
          "output_type": "stream",
          "name": "stdout",
          "text": [
            "<class 'pandas.core.frame.DataFrame'>\n",
            "RangeIndex: 6830 entries, 0 to 6829\n",
            "Data columns (total 11 columns):\n",
            " #   Column         Non-Null Count  Dtype  \n",
            "---  ------         --------------  -----  \n",
            " 0   Type           6830 non-null   object \n",
            " 1   Rooms          6830 non-null   int64  \n",
            " 2   Distance       6830 non-null   float64\n",
            " 3   Bathroom       6830 non-null   int64  \n",
            " 4   Car            6830 non-null   float64\n",
            " 5   Landsize       6830 non-null   int64  \n",
            " 6   BuildingArea   6830 non-null   float64\n",
            " 7   YearBuilt      6830 non-null   float64\n",
            " 8   Encoded_Price  6830 non-null   int64  \n",
            " 9   Regionname     6830 non-null   object \n",
            " 10  Price          6830 non-null   int64  \n",
            "dtypes: float64(4), int64(5), object(2)\n",
            "memory usage: 587.1+ KB\n"
          ]
        }
      ]
    },
    {
      "cell_type": "code",
      "source": [
        "df_dropna=df.dropna()\n",
        "df = df_dropna.reset_index(drop=True)\n",
        "df.info()"
      ],
      "metadata": {
        "colab": {
          "base_uri": "https://localhost:8080/"
        },
        "id": "4S_fEMVnTXUX",
        "outputId": "76b119c2-22d9-4291-ae70-6f7f694b3c2f"
      },
      "execution_count": 17,
      "outputs": [
        {
          "output_type": "stream",
          "name": "stdout",
          "text": [
            "<class 'pandas.core.frame.DataFrame'>\n",
            "RangeIndex: 6830 entries, 0 to 6829\n",
            "Data columns (total 11 columns):\n",
            " #   Column         Non-Null Count  Dtype  \n",
            "---  ------         --------------  -----  \n",
            " 0   Type           6830 non-null   object \n",
            " 1   Rooms          6830 non-null   int64  \n",
            " 2   Distance       6830 non-null   float64\n",
            " 3   Bathroom       6830 non-null   int64  \n",
            " 4   Car            6830 non-null   float64\n",
            " 5   Landsize       6830 non-null   int64  \n",
            " 6   BuildingArea   6830 non-null   float64\n",
            " 7   YearBuilt      6830 non-null   float64\n",
            " 8   Encoded_Price  6830 non-null   int64  \n",
            " 9   Regionname     6830 non-null   object \n",
            " 10  Price          6830 non-null   int64  \n",
            "dtypes: float64(4), int64(5), object(2)\n",
            "memory usage: 587.1+ KB\n"
          ]
        }
      ]
    },
    {
      "cell_type": "code",
      "source": [
        "col_names = [['Type','Rooms','Distance','Bathroom','Car','Landsize','BuildingArea','YearBuilt', 'Encoded_Price', 'Regionname', 'Price']]\n",
        "\n",
        "\n",
        "for col in col_names:\n",
        "    \n",
        "    print(df[col].value_counts())   "
      ],
      "metadata": {
        "colab": {
          "base_uri": "https://localhost:8080/"
        },
        "id": "9o152WG0TZb1",
        "outputId": "fde1f575-e5a6-4643-e135-dc1573a4edf5"
      },
      "execution_count": 18,
      "outputs": [
        {
          "output_type": "stream",
          "name": "stdout",
          "text": [
            "Type  Rooms  Distance  Bathroom  Car  Landsize  BuildingArea  YearBuilt  Encoded_Price  Regionname                  Price  \n",
            "t     3      5.2       2         1.0  0         112.0         1900.0     0              Northern Metropolitan       641000     2\n",
            "u     2      2.4       2         2.0  180       123.0         1940.0     0              Northern Metropolitan       890500     2\n",
            "             11.2      1         2.0  132       83.0          1980.0     0              Northern Metropolitan       440000     2\n",
            "t     3      7.8       2         2.0  531       112.0         2016.0     0              Northern Metropolitan       720000     2\n",
            "h     4      21.5      2         2.0  597       150.0         1970.0     1              South-Eastern Metropolitan  1300000    2\n",
            "                                                                                                                              ..\n",
            "      3      13.5      1         4.0  699       125.0         1960.0     0              Western Metropolitan        620000     1\n",
            "                                 3.0  582       115.0         1970.0     0              Western Metropolitan        560000     1\n",
            "                                 2.0  971       113.0         1960.0     0              Western Metropolitan        830000     1\n",
            "                                      726       144.0         1966.0     0              Western Metropolitan        680000     1\n",
            "u     6      8.2       2         1.0  0         171.0         1970.0     0              Western Metropolitan        520000     1\n",
            "Length: 6814, dtype: int64\n"
          ]
        }
      ]
    },
    {
      "cell_type": "code",
      "source": [
        "df['Encoded_Price'].value_counts()"
      ],
      "metadata": {
        "colab": {
          "base_uri": "https://localhost:8080/"
        },
        "id": "3OKg2H_9Td6_",
        "outputId": "00d7804b-7013-4f71-8fe1-417b053019cc"
      },
      "execution_count": 20,
      "outputs": [
        {
          "output_type": "execute_result",
          "data": {
            "text/plain": [
              "0    4246\n",
              "1    2584\n",
              "Name: Encoded_Price, dtype: int64"
            ]
          },
          "metadata": {},
          "execution_count": 20
        }
      ]
    },
    {
      "cell_type": "code",
      "source": [
        "# check missing values in variables\n",
        "\n",
        "df.isnull().sum()"
      ],
      "metadata": {
        "colab": {
          "base_uri": "https://localhost:8080/"
        },
        "id": "yVMP4yzkTgW8",
        "outputId": "d9e23a84-7519-43fc-e78e-b4b098d85467"
      },
      "execution_count": 21,
      "outputs": [
        {
          "output_type": "execute_result",
          "data": {
            "text/plain": [
              "Type             0\n",
              "Rooms            0\n",
              "Distance         0\n",
              "Bathroom         0\n",
              "Car              0\n",
              "Landsize         0\n",
              "BuildingArea     0\n",
              "YearBuilt        0\n",
              "Encoded_Price    0\n",
              "Regionname       0\n",
              "Price            0\n",
              "dtype: int64"
            ]
          },
          "metadata": {},
          "execution_count": 21
        }
      ]
    },
    {
      "cell_type": "code",
      "source": [
        "# filling null values with zero\n",
        "\n",
        "df.fillna(0, inplace = True)"
      ],
      "metadata": {
        "id": "81Ekxc7tThof"
      },
      "execution_count": 22,
      "outputs": []
    },
    {
      "cell_type": "code",
      "source": [
        "# visualizing null values\n",
        "msno.bar(df)\n",
        "plt.show()"
      ],
      "metadata": {
        "colab": {
          "base_uri": "https://localhost:8080/",
          "height": 513
        },
        "id": "RljXbCriTmhF",
        "outputId": "a130c2ab-b312-42d2-ed81-889efa0cf048"
      },
      "execution_count": 23,
      "outputs": [
        {
          "output_type": "display_data",
          "data": {
            "text/plain": [
              "<Figure size 2500x1000 with 3 Axes>"
            ],
            "image/png": "[encoded data removed]"
          },
          "metadata": {}
        }
      ]
    },
    {
      "cell_type": "code",
      "source": [
        "# import category encoders\n",
        "!pip install --upgrade category_encoders\n",
        "import category_encoders as ce"
      ],
      "metadata": {
        "colab": {
          "base_uri": "https://localhost:8080/"
        },
        "id": "o3_4N8CJTosi",
        "outputId": "0ad806b1-4e91-4155-f6f5-75125d0017cb"
      },
      "execution_count": 24,
      "outputs": [
        {
          "output_type": "stream",
          "name": "stdout",
          "text": [
            "Looking in indexes: https://pypi.org/simple, https://us-python.pkg.dev/colab-wheels/public/simple/\n",
            "Collecting category_encoders\n",
            "  Downloading category_encoders-2.6.1-py2.py3-none-any.whl (81 kB)\n",
            "\u001b[2K     \u001b[90m━━━━━━━━━━━━━━━━━━━━━━━━━━━━━━━━━━━━━━━━\u001b[0m \u001b[32m81.9/81.9 kB\u001b[0m \u001b[31m7.2 MB/s\u001b[0m eta \u001b[36m0:00:00\u001b[0m\n",
            "\u001b[?25hRequirement already satisfied: numpy>=1.14.0 in /usr/local/lib/python3.10/dist-packages (from category_encoders) (1.22.4)\n",
            "Requirement already satisfied: scikit-learn>=0.20.0 in /usr/local/lib/python3.10/dist-packages (from category_encoders) (1.2.2)\n",
            "Requirement already satisfied: scipy>=1.0.0 in /usr/local/lib/python3.10/dist-packages (from category_encoders) (1.10.1)\n",
            "Requirement already satisfied: statsmodels>=0.9.0 in /usr/local/lib/python3.10/dist-packages (from category_encoders) (0.13.5)\n",
            "Requirement already satisfied: pandas>=1.0.5 in /usr/local/lib/python3.10/dist-packages (from category_encoders) (1.5.3)\n",
            "Requirement already satisfied: patsy>=0.5.1 in /usr/local/lib/python3.10/dist-packages (from category_encoders) (0.5.3)\n",
            "Requirement already satisfied: python-dateutil>=2.8.1 in /usr/local/lib/python3.10/dist-packages (from pandas>=1.0.5->category_encoders) (2.8.2)\n",
            "Requirement already satisfied: pytz>=2020.1 in /usr/local/lib/python3.10/dist-packages (from pandas>=1.0.5->category_encoders) (2022.7.1)\n",
            "Requirement already satisfied: six in /usr/local/lib/python3.10/dist-packages (from patsy>=0.5.1->category_encoders) (1.16.0)\n",
            "Requirement already satisfied: joblib>=1.1.1 in /usr/local/lib/python3.10/dist-packages (from scikit-learn>=0.20.0->category_encoders) (1.2.0)\n",
            "Requirement already satisfied: threadpoolctl>=2.0.0 in /usr/local/lib/python3.10/dist-packages (from scikit-learn>=0.20.0->category_encoders) (3.1.0)\n",
            "Requirement already satisfied: packaging>=21.3 in /usr/local/lib/python3.10/dist-packages (from statsmodels>=0.9.0->category_encoders) (23.1)\n",
            "Installing collected packages: category_encoders\n",
            "Successfully installed category_encoders-2.6.1\n"
          ]
        }
      ]
    },
    {
      "cell_type": "code",
      "source": [
        "# encode categorical variables with ordinal encoding\n",
        "\n",
        "encoder = ce.OrdinalEncoder(cols=['Type','Rooms','Distance','Bathroom','Car','Landsize','BuildingArea','YearBuilt', 'Encoded_Price', 'Regionname', 'Price'])\n",
        "\n",
        "\n",
        "df = encoder.fit_transform(df)"
      ],
      "metadata": {
        "id": "1qJ-VuKuTs0E"
      },
      "execution_count": 26,
      "outputs": []
    },
    {
      "cell_type": "code",
      "source": [
        "df"
      ],
      "metadata": {
        "colab": {
          "base_uri": "https://localhost:8080/",
          "height": 423
        },
        "id": "UEFR5u-zUISz",
        "outputId": "3a67e949-f0f6-4618-82a4-af7e7b20f359"
      },
      "execution_count": 27,
      "outputs": [
        {
          "output_type": "execute_result",
          "data": {
            "text/plain": [
              "      Type  Rooms  Distance  Bathroom  Car  Landsize  BuildingArea  YearBuilt  \\\n",
              "0        1      1         1         1    1         1             1          1   \n",
              "1        2      2         2         2    2         2             2          2   \n",
              "2        2      3         3         1    3         3             3          3   \n",
              "3        2      1         4         1    1         4             4          4   \n",
              "4        2      4         5         3    4         5             5          5   \n",
              "...    ...    ...       ...       ...  ...       ...           ...        ...   \n",
              "6825     2      1        65         3    5       263           560         45   \n",
              "6826     2      1        65         2    5         7            19         12   \n",
              "6827     3      5        22         2    1         7           149         13   \n",
              "6828     1      2        36         2    1       476            38          8   \n",
              "6829     2      1        67         2    1       655           131         13   \n",
              "\n",
              "      Encoded_Price  Regionname  Price  \n",
              "0                 1           1      1  \n",
              "1                 2           2      2  \n",
              "2                 2           3      3  \n",
              "3                 1           1      4  \n",
              "4                 2           1      5  \n",
              "...             ...         ...    ...  \n",
              "6825              1           4    410  \n",
              "6826              2           4    474  \n",
              "6827              1           1   1299  \n",
              "6828              1           2   1647  \n",
              "6829              1           1   1520  \n",
              "\n",
              "[6830 rows x 11 columns]"
            ],
            "text/html": [
              "\n",
              "  <div id=\"df-9d9248b9-9d5d-441b-b4f9-9ace353efad3\">\n",
              "    <div class=\"colab-df-container\">\n",
              "      <div>\n",
              "<style scoped>\n",
              "    .dataframe tbody tr th:only-of-type {\n",
              "        vertical-align: middle;\n",
              "    }\n",
              "\n",
              "    .dataframe tbody tr th {\n",
              "        vertical-align: top;\n",
              "    }\n",
              "\n",
              "    .dataframe thead th {\n",
              "        text-align: right;\n",
              "    }\n",
              "</style>\n",
              "<table border=\"1\" class=\"dataframe\">\n",
              "  <thead>\n",
              "    <tr style=\"text-align: right;\">\n",
              "      <th></th>\n",
              "      <th>Type</th>\n",
              "      <th>Rooms</th>\n",
              "      <th>Distance</th>\n",
              "      <th>Bathroom</th>\n",
              "      <th>Car</th>\n",
              "      <th>Landsize</th>\n",
              "      <th>BuildingArea</th>\n",
              "      <th>YearBuilt</th>\n",
              "      <th>Encoded_Price</th>\n",
              "      <th>Regionname</th>\n",
              "      <th>Price</th>\n",
              "    </tr>\n",
              "  </thead>\n",
              "  <tbody>\n",
              "    <tr>\n",
              "      <th>0</th>\n",
              "      <td>1</td>\n",
              "      <td>1</td>\n",
              "      <td>1</td>\n",
              "      <td>1</td>\n",
              "      <td>1</td>\n",
              "      <td>1</td>\n",
              "      <td>1</td>\n",
              "      <td>1</td>\n",
              "      <td>1</td>\n",
              "      <td>1</td>\n",
              "      <td>1</td>\n",
              "    </tr>\n",
              "    <tr>\n",
              "      <th>1</th>\n",
              "      <td>2</td>\n",
              "      <td>2</td>\n",
              "      <td>2</td>\n",
              "      <td>2</td>\n",
              "      <td>2</td>\n",
              "      <td>2</td>\n",
              "      <td>2</td>\n",
              "      <td>2</td>\n",
              "      <td>2</td>\n",
              "      <td>2</td>\n",
              "      <td>2</td>\n",
              "    </tr>\n",
              "    <tr>\n",
              "      <th>2</th>\n",
              "      <td>2</td>\n",
              "      <td>3</td>\n",
              "      <td>3</td>\n",
              "      <td>1</td>\n",
              "      <td>3</td>\n",
              "      <td>3</td>\n",
              "      <td>3</td>\n",
              "      <td>3</td>\n",
              "      <td>2</td>\n",
              "      <td>3</td>\n",
              "      <td>3</td>\n",
              "    </tr>\n",
              "    <tr>\n",
              "      <th>3</th>\n",
              "      <td>2</td>\n",
              "      <td>1</td>\n",
              "      <td>4</td>\n",
              "      <td>1</td>\n",
              "      <td>1</td>\n",
              "      <td>4</td>\n",
              "      <td>4</td>\n",
              "      <td>4</td>\n",
              "      <td>1</td>\n",
              "      <td>1</td>\n",
              "      <td>4</td>\n",
              "    </tr>\n",
              "    <tr>\n",
              "      <th>4</th>\n",
              "      <td>2</td>\n",
              "      <td>4</td>\n",
              "      <td>5</td>\n",
              "      <td>3</td>\n",
              "      <td>4</td>\n",
              "      <td>5</td>\n",
              "      <td>5</td>\n",
              "      <td>5</td>\n",
              "      <td>2</td>\n",
              "      <td>1</td>\n",
              "      <td>5</td>\n",
              "    </tr>\n",
              "    <tr>\n",
              "      <th>...</th>\n",
              "      <td>...</td>\n",
              "      <td>...</td>\n",
              "      <td>...</td>\n",
              "      <td>...</td>\n",
              "      <td>...</td>\n",
              "      <td>...</td>\n",
              "      <td>...</td>\n",
              "      <td>...</td>\n",
              "      <td>...</td>\n",
              "      <td>...</td>\n",
              "      <td>...</td>\n",
              "    </tr>\n",
              "    <tr>\n",
              "      <th>6825</th>\n",
              "      <td>2</td>\n",
              "      <td>1</td>\n",
              "      <td>65</td>\n",
              "      <td>3</td>\n",
              "      <td>5</td>\n",
              "      <td>263</td>\n",
              "      <td>560</td>\n",
              "      <td>45</td>\n",
              "      <td>1</td>\n",
              "      <td>4</td>\n",
              "      <td>410</td>\n",
              "    </tr>\n",
              "    <tr>\n",
              "      <th>6826</th>\n",
              "      <td>2</td>\n",
              "      <td>1</td>\n",
              "      <td>65</td>\n",
              "      <td>2</td>\n",
              "      <td>5</td>\n",
              "      <td>7</td>\n",
              "      <td>19</td>\n",
              "      <td>12</td>\n",
              "      <td>2</td>\n",
              "      <td>4</td>\n",
              "      <td>474</td>\n",
              "    </tr>\n",
              "    <tr>\n",
              "      <th>6827</th>\n",
              "      <td>3</td>\n",
              "      <td>5</td>\n",
              "      <td>22</td>\n",
              "      <td>2</td>\n",
              "      <td>1</td>\n",
              "      <td>7</td>\n",
              "      <td>149</td>\n",
              "      <td>13</td>\n",
              "      <td>1</td>\n",
              "      <td>1</td>\n",
              "      <td>1299</td>\n",
              "    </tr>\n",
              "    <tr>\n",
              "      <th>6828</th>\n",
              "      <td>1</td>\n",
              "      <td>2</td>\n",
              "      <td>36</td>\n",
              "      <td>2</td>\n",
              "      <td>1</td>\n",
              "      <td>476</td>\n",
              "      <td>38</td>\n",
              "      <td>8</td>\n",
              "      <td>1</td>\n",
              "      <td>2</td>\n",
              "      <td>1647</td>\n",
              "    </tr>\n",
              "    <tr>\n",
              "      <th>6829</th>\n",
              "      <td>2</td>\n",
              "      <td>1</td>\n",
              "      <td>67</td>\n",
              "      <td>2</td>\n",
              "      <td>1</td>\n",
              "      <td>655</td>\n",
              "      <td>131</td>\n",
              "      <td>13</td>\n",
              "      <td>1</td>\n",
              "      <td>1</td>\n",
              "      <td>1520</td>\n",
              "    </tr>\n",
              "  </tbody>\n",
              "</table>\n",
              "<p>6830 rows × 11 columns</p>\n",
              "</div>\n",
              "      <button class=\"colab-df-convert\" onclick=\"convertToInteractive('df-9d9248b9-9d5d-441b-b4f9-9ace353efad3')\"\n",
              "              title=\"Convert this dataframe to an interactive table.\"\n",
              "              style=\"display:none;\">\n",
              "        \n",
              "  <svg xmlns=\"http://www.w3.org/2000/svg\" height=\"24px\"viewBox=\"0 0 24 24\"\n",
              "       width=\"24px\">\n",
              "    <path d=\"M0 0h24v24H0V0z\" fill=\"none\"/>\n",
              "    <path d=\"M18.56 5.44l.94 2.06.94-2.06 2.06-.94-2.06-.94-.94-2.06-.94 2.06-2.06.94zm-11 1L8.5 8.5l.94-2.06 2.06-.94-2.06-.94L8.5 2.5l-.94 2.06-2.06.94zm10 10l.94 2.06.94-2.06 2.06-.94-2.06-.94-.94-2.06-.94 2.06-2.06.94z\"/><path d=\"M17.41 7.96l-1.37-1.37c-.4-.4-.92-.59-1.43-.59-.52 0-1.04.2-1.43.59L10.3 9.45l-7.72 7.72c-.78.78-.78 2.05 0 2.83L4 21.41c.39.39.9.59 1.41.59.51 0 1.02-.2 1.41-.59l7.78-7.78 2.81-2.81c.8-.78.8-2.07 0-2.86zM5.41 20L4 18.59l7.72-7.72 1.47 1.35L5.41 20z\"/>\n",
              "  </svg>\n",
              "      </button>\n",
              "      \n",
              "  <style>\n",
              "    .colab-df-container {\n",
              "      display:flex;\n",
              "      flex-wrap:wrap;\n",
              "      gap: 12px;\n",
              "    }\n",
              "\n",
              "    .colab-df-convert {\n",
              "      background-color: #E8F0FE;\n",
              "      border: none;\n",
              "      border-radius: 50%;\n",
              "      cursor: pointer;\n",
              "      display: none;\n",
              "      fill: #1967D2;\n",
              "      height: 32px;\n",
              "      padding: 0 0 0 0;\n",
              "      width: 32px;\n",
              "    }\n",
              "\n",
              "    .colab-df-convert:hover {\n",
              "      background-color: #E2EBFA;\n",
              "      box-shadow: 0px 1px 2px rgba(60, 64, 67, 0.3), 0px 1px 3px 1px rgba(60, 64, 67, 0.15);\n",
              "      fill: #174EA6;\n",
              "    }\n",
              "\n",
              "    [theme=dark] .colab-df-convert {\n",
              "      background-color: #3B4455;\n",
              "      fill: #D2E3FC;\n",
              "    }\n",
              "\n",
              "    [theme=dark] .colab-df-convert:hover {\n",
              "      background-color: #434B5C;\n",
              "      box-shadow: 0px 1px 3px 1px rgba(0, 0, 0, 0.15);\n",
              "      filter: drop-shadow(0px 1px 2px rgba(0, 0, 0, 0.3));\n",
              "      fill: #FFFFFF;\n",
              "    }\n",
              "  </style>\n",
              "\n",
              "      <script>\n",
              "        const buttonEl =\n",
              "          document.querySelector('#df-9d9248b9-9d5d-441b-b4f9-9ace353efad3 button.colab-df-convert');\n",
              "        buttonEl.style.display =\n",
              "          google.colab.kernel.accessAllowed ? 'block' : 'none';\n",
              "\n",
              "        async function convertToInteractive(key) {\n",
              "          const element = document.querySelector('#df-9d9248b9-9d5d-441b-b4f9-9ace353efad3');\n",
              "          const dataTable =\n",
              "            await google.colab.kernel.invokeFunction('convertToInteractive',\n",
              "                                                     [key], {});\n",
              "          if (!dataTable) return;\n",
              "\n",
              "          const docLinkHtml = 'Like what you see? Visit the ' +\n",
              "            '<a target=\"_blank\" href=https://colab.research.google.com/notebooks/data_table.ipynb>data table notebook</a>'\n",
              "            + ' to learn more about interactive tables.';\n",
              "          element.innerHTML = '';\n",
              "          dataTable['output_type'] = 'display_data';\n",
              "          await google.colab.output.renderOutput(dataTable, element);\n",
              "          const docLink = document.createElement('div');\n",
              "          docLink.innerHTML = docLinkHtml;\n",
              "          element.appendChild(docLink);\n",
              "        }\n",
              "      </script>\n",
              "    </div>\n",
              "  </div>\n",
              "  "
            ]
          },
          "metadata": {},
          "execution_count": 27
        }
      ]
    },
    {
      "cell_type": "code",
      "source": [
        "plt.figure(figsize = (24, 12))\n",
        "\n",
        "corr = df.corr()\n",
        "sns.heatmap(corr, annot = True, linewidths = 1)\n",
        "plt.show()"
      ],
      "metadata": {
        "colab": {
          "base_uri": "https://localhost:8080/",
          "height": 576
        },
        "id": "wp7bCJQcUaYK",
        "outputId": "49390e08-4e62-4bbc-84d1-49103f0448b3"
      },
      "execution_count": 28,
      "outputs": [
        {
          "output_type": "display_data",
          "data": {
            "text/plain": [
              "<Figure size 2400x1200 with 2 Axes>"
            ],
            "image/png": "[encoded data removed]"
          },
          "metadata": {}
        }
      ]
    },
    {
      "cell_type": "code",
      "source": [
        "correlation = df.corr()['Encoded_Price'].abs().sort_values(ascending = False)\n",
        "correlation"
      ],
      "metadata": {
        "colab": {
          "base_uri": "https://localhost:8080/"
        },
        "id": "57o5K1QNU18m",
        "outputId": "1deaf78c-a5bb-4a25-fa37-042e91efeb33"
      },
      "execution_count": 29,
      "outputs": [
        {
          "output_type": "execute_result",
          "data": {
            "text/plain": [
              "Encoded_Price    1.000000\n",
              "Car              0.242526\n",
              "Type             0.231270\n",
              "BuildingArea     0.124313\n",
              "Landsize         0.116302\n",
              "Rooms            0.086655\n",
              "Distance         0.083239\n",
              "Regionname       0.049627\n",
              "Price            0.039615\n",
              "YearBuilt        0.021808\n",
              "Bathroom         0.012242\n",
              "Name: Encoded_Price, dtype: float64"
            ]
          },
          "metadata": {},
          "execution_count": 29
        }
      ]
    },
    {
      "cell_type": "code",
      "source": [
        "# printing unique values of each column\n",
        "for col in df.columns:\n",
        "    print(f\"{col}: \\n{df[col].unique()}\\n\")"
      ],
      "metadata": {
        "colab": {
          "base_uri": "https://localhost:8080/"
        },
        "id": "qK1wJv8fU6eU",
        "outputId": "e84ff153-a314-48ee-8d16-b77bb5ae0e4a"
      },
      "execution_count": 30,
      "outputs": [
        {
          "output_type": "stream",
          "name": "stdout",
          "text": [
            "Type: \n",
            "[1 2 3]\n",
            "\n",
            "Rooms: \n",
            "[1 2 3 4 5 6 7 8]\n",
            "\n",
            "Distance: \n",
            "[  1   2   3   4   5   6   7   8   9  10  11  12  13  14  15  16  17  18\n",
            "  19  20  21  22  23  24  25  26  27  28  29  30  31  32  33  34  35  36\n",
            "  37  38  39  40  41  42  43  44  45  46  47  48  49  50  51  52  53  54\n",
            "  55  56  57  58  59  60  61  62  63  64  65  66  67  68  69  70  71  72\n",
            "  73  74  75  76  77  78  79  80  81  82  83  84  85  86  87  88  89  90\n",
            "  91  92  93  94  95  96  97  98  99 100 101 102 103 104 105 106 107 108\n",
            " 109 110 111 112 113 114 115 116 117 118 119 120 121 122 123 124 125 126\n",
            " 127 128 129 130 131 132 133 134 135 136 137 138 139 140 141 142 143 144\n",
            " 145 146 147 148 149 150 151 152 153 154 155 156 157 158 159 160 161 162\n",
            " 163 164 165 166 167 168 169 170 171 172 173 174 175 176 177 178 179 180\n",
            " 181 182 183 184 185 186 187 188 189 190 191 192 193 194 195 196 197]\n",
            "\n",
            "Bathroom: \n",
            "[1 2 3 4 5 6 7 8]\n",
            "\n",
            "Car: \n",
            "[ 1  2  3  4  5  6  7  8  9 10 11]\n",
            "\n",
            "Landsize: \n",
            "[   1    2    3 ... 1159 1160 1161]\n",
            "\n",
            "BuildingArea: \n",
            "[  1   2   3   4   5   6   7   8   9  10  11  12  13  14  15  16  17  18\n",
            "  19  20  21  22  23  24  25  26  27  28  29  30  31  32  33  34  35  36\n",
            "  37  38  39  40  41  42  43  44  45  46  47  48  49  50  51  52  53  54\n",
            "  55  56  57  58  59  60  61  62  63  64  65  66  67  68  69  70  71  72\n",
            "  73  74  75  76  77  78  79  80  81  82  83  84  85  86  87  88  89  90\n",
            "  91  92  93  94  95  96  97  98  99 100 101 102 103 104 105 106 107 108\n",
            " 109 110 111 112 113 114 115 116 117 118 119 120 121 122 123 124 125 126\n",
            " 127 128 129 130 131 132 133 134 135 136 137 138 139 140 141 142 143 144\n",
            " 145 146 147 148 149 150 151 152 153 154 155 156 157 158 159 160 161 162\n",
            " 163 164 165 166 167 168 169 170 171 172 173 174 175 176 177 178 179 180\n",
            " 181 182 183 184 185 186 187 188 189 190 191 192 193 194 195 196 197 198\n",
            " 199 200 201 202 203 204 205 206 207 208 209 210 211 212 213 214 215 216\n",
            " 217 218 219 220 221 222 223 224 225 226 227 228 229 230 231 232 233 234\n",
            " 235 236 237 238 239 240 241 242 243 244 245 246 247 248 249 250 251 252\n",
            " 253 254 255 256 257 258 259 260 261 262 263 264 265 266 267 268 269 270\n",
            " 271 272 273 274 275 276 277 278 279 280 281 282 283 284 285 286 287 288\n",
            " 289 290 291 292 293 294 295 296 297 298 299 300 301 302 303 304 305 306\n",
            " 307 308 309 310 311 312 313 314 315 316 317 318 319 320 321 322 323 324\n",
            " 325 326 327 328 329 330 331 332 333 334 335 336 337 338 339 340 341 342\n",
            " 343 344 345 346 347 348 349 350 351 352 353 354 355 356 357 358 359 360\n",
            " 361 362 363 364 365 366 367 368 369 370 371 372 373 374 375 376 377 378\n",
            " 379 380 381 382 383 384 385 386 387 388 389 390 391 392 393 394 395 396\n",
            " 397 398 399 400 401 402 403 404 405 406 407 408 409 410 411 412 413 414\n",
            " 415 416 417 418 419 420 421 422 423 424 425 426 427 428 429 430 431 432\n",
            " 433 434 435 436 437 438 439 440 441 442 443 444 445 446 447 448 449 450\n",
            " 451 452 453 454 455 456 457 458 459 460 461 462 463 464 465 466 467 468\n",
            " 469 470 471 472 473 474 475 476 477 478 479 480 481 482 483 484 485 486\n",
            " 487 488 489 490 491 492 493 494 495 496 497 498 499 500 501 502 503 504\n",
            " 505 506 507 508 509 510 511 512 513 514 515 516 517 518 519 520 521 522\n",
            " 523 524 525 526 527 528 529 530 531 532 533 534 535 536 537 538 539 540\n",
            " 541 542 543 544 545 546 547 548 549 550 551 552 553 554 555 556 557 558\n",
            " 559 560]\n",
            "\n",
            "YearBuilt: \n",
            "[  1   2   3   4   5   6   7   8   9  10  11  12  13  14  15  16  17  18\n",
            "  19  20  21  22  23  24  25  26  27  28  29  30  31  32  33  34  35  36\n",
            "  37  38  39  40  41  42  43  44  45  46  47  48  49  50  51  52  53  54\n",
            "  55  56  57  58  59  60  61  62  63  64  65  66  67  68  69  70  71  72\n",
            "  73  74  75  76  77  78  79  80  81  82  83  84  85  86  87  88  89  90\n",
            "  91  92  93  94  95  96  97  98  99 100 101 102 103 104 105 106 107 108\n",
            " 109 110 111 112 113 114 115 116 117 118 119 120 121 122 123 124 125 126\n",
            " 127 128 129 130 131 132 133 134 135 136]\n",
            "\n",
            "Encoded_Price: \n",
            "[1 2]\n",
            "\n",
            "Regionname: \n",
            "[1 2 3 4 5 6 7 8]\n",
            "\n",
            "Price: \n",
            "[   1    2    3 ... 1645 1646 1647]\n",
            "\n"
          ]
        }
      ]
    },
    {
      "cell_type": "code",
      "source": [
        "X = df.drop(['Encoded_Price'], axis=1)\n",
        "y = df['Encoded_Price']"
      ],
      "metadata": {
        "id": "tCHqqXE0VWZ3"
      },
      "execution_count": 31,
      "outputs": []
    },
    {
      "cell_type": "code",
      "source": [
        "# split data into training and testing sets\n",
        "\n",
        "from sklearn.model_selection import train_test_split\n",
        "\n",
        "X_train, X_test, y_train, y_test = train_test_split(X, y, test_size = 0.33, random_state = 42)"
      ],
      "metadata": {
        "id": "O7ryIUbIV0yu"
      },
      "execution_count": 32,
      "outputs": []
    },
    {
      "cell_type": "code",
      "source": [
        "# check the shape of X_train and X_test\n",
        "\n",
        "X_train.shape, X_test.shape"
      ],
      "metadata": {
        "colab": {
          "base_uri": "https://localhost:8080/"
        },
        "id": "ZjJoWuLfV6Mn",
        "outputId": "3713141b-7907-4f3d-c8a9-23a7cb3d8e8a"
      },
      "execution_count": 33,
      "outputs": [
        {
          "output_type": "execute_result",
          "data": {
            "text/plain": [
              "((4576, 10), (2254, 10))"
            ]
          },
          "metadata": {},
          "execution_count": 33
        }
      ]
    },
    {
      "cell_type": "code",
      "source": [
        "# splitting data into training set and test set\n",
        "\n",
        "X_train, X_test, y_train, y_test = train_test_split(X, y, test_size = 0.30)"
      ],
      "metadata": {
        "id": "09P8JpCBWVPZ"
      },
      "execution_count": 34,
      "outputs": []
    },
    {
      "cell_type": "code",
      "source": [
        "X_train.head()"
      ],
      "metadata": {
        "colab": {
          "base_uri": "https://localhost:8080/",
          "height": 206
        },
        "id": "m9RP9SZLWkzw",
        "outputId": "142a1ac0-1731-42f8-8151-7c20bf61a2fb"
      },
      "execution_count": 35,
      "outputs": [
        {
          "output_type": "execute_result",
          "data": {
            "text/plain": [
              "      Type  Rooms  Distance  Bathroom  Car  Landsize  BuildingArea  YearBuilt  \\\n",
              "1585     3      2        25         2    1       422            37         13   \n",
              "5669     2      2       147         1    5       749            55         13   \n",
              "6796     2      2        46         2    1       311            84         33   \n",
              "3458     2      4       135         3    5       960           229         13   \n",
              "977      2      3        37         3    5       530            99         44   \n",
              "\n",
              "      Regionname  Price  \n",
              "1585           4     10  \n",
              "5669           4     98  \n",
              "6796           3    303  \n",
              "3458           4    136  \n",
              "977            2     47  "
            ],
            "text/html": [
              "\n",
              "  <div id=\"df-0679572c-50a4-4e84-9ca0-b2bc1770c873\">\n",
              "    <div class=\"colab-df-container\">\n",
              "      <div>\n",
              "<style scoped>\n",
              "    .dataframe tbody tr th:only-of-type {\n",
              "        vertical-align: middle;\n",
              "    }\n",
              "\n",
              "    .dataframe tbody tr th {\n",
              "        vertical-align: top;\n",
              "    }\n",
              "\n",
              "    .dataframe thead th {\n",
              "        text-align: right;\n",
              "    }\n",
              "</style>\n",
              "<table border=\"1\" class=\"dataframe\">\n",
              "  <thead>\n",
              "    <tr style=\"text-align: right;\">\n",
              "      <th></th>\n",
              "      <th>Type</th>\n",
              "      <th>Rooms</th>\n",
              "      <th>Distance</th>\n",
              "      <th>Bathroom</th>\n",
              "      <th>Car</th>\n",
              "      <th>Landsize</th>\n",
              "      <th>BuildingArea</th>\n",
              "      <th>YearBuilt</th>\n",
              "      <th>Regionname</th>\n",
              "      <th>Price</th>\n",
              "    </tr>\n",
              "  </thead>\n",
              "  <tbody>\n",
              "    <tr>\n",
              "      <th>1585</th>\n",
              "      <td>3</td>\n",
              "      <td>2</td>\n",
              "      <td>25</td>\n",
              "      <td>2</td>\n",
              "      <td>1</td>\n",
              "      <td>422</td>\n",
              "      <td>37</td>\n",
              "      <td>13</td>\n",
              "      <td>4</td>\n",
              "      <td>10</td>\n",
              "    </tr>\n",
              "    <tr>\n",
              "      <th>5669</th>\n",
              "      <td>2</td>\n",
              "      <td>2</td>\n",
              "      <td>147</td>\n",
              "      <td>1</td>\n",
              "      <td>5</td>\n",
              "      <td>749</td>\n",
              "      <td>55</td>\n",
              "      <td>13</td>\n",
              "      <td>4</td>\n",
              "      <td>98</td>\n",
              "    </tr>\n",
              "    <tr>\n",
              "      <th>6796</th>\n",
              "      <td>2</td>\n",
              "      <td>2</td>\n",
              "      <td>46</td>\n",
              "      <td>2</td>\n",
              "      <td>1</td>\n",
              "      <td>311</td>\n",
              "      <td>84</td>\n",
              "      <td>33</td>\n",
              "      <td>3</td>\n",
              "      <td>303</td>\n",
              "    </tr>\n",
              "    <tr>\n",
              "      <th>3458</th>\n",
              "      <td>2</td>\n",
              "      <td>4</td>\n",
              "      <td>135</td>\n",
              "      <td>3</td>\n",
              "      <td>5</td>\n",
              "      <td>960</td>\n",
              "      <td>229</td>\n",
              "      <td>13</td>\n",
              "      <td>4</td>\n",
              "      <td>136</td>\n",
              "    </tr>\n",
              "    <tr>\n",
              "      <th>977</th>\n",
              "      <td>2</td>\n",
              "      <td>3</td>\n",
              "      <td>37</td>\n",
              "      <td>3</td>\n",
              "      <td>5</td>\n",
              "      <td>530</td>\n",
              "      <td>99</td>\n",
              "      <td>44</td>\n",
              "      <td>2</td>\n",
              "      <td>47</td>\n",
              "    </tr>\n",
              "  </tbody>\n",
              "</table>\n",
              "</div>\n",
              "      <button class=\"colab-df-convert\" onclick=\"convertToInteractive('df-0679572c-50a4-4e84-9ca0-b2bc1770c873')\"\n",
              "              title=\"Convert this dataframe to an interactive table.\"\n",
              "              style=\"display:none;\">\n",
              "        \n",
              "  <svg xmlns=\"http://www.w3.org/2000/svg\" height=\"24px\"viewBox=\"0 0 24 24\"\n",
              "       width=\"24px\">\n",
              "    <path d=\"M0 0h24v24H0V0z\" fill=\"none\"/>\n",
              "    <path d=\"M18.56 5.44l.94 2.06.94-2.06 2.06-.94-2.06-.94-.94-2.06-.94 2.06-2.06.94zm-11 1L8.5 8.5l.94-2.06 2.06-.94-2.06-.94L8.5 2.5l-.94 2.06-2.06.94zm10 10l.94 2.06.94-2.06 2.06-.94-2.06-.94-.94-2.06-.94 2.06-2.06.94z\"/><path d=\"M17.41 7.96l-1.37-1.37c-.4-.4-.92-.59-1.43-.59-.52 0-1.04.2-1.43.59L10.3 9.45l-7.72 7.72c-.78.78-.78 2.05 0 2.83L4 21.41c.39.39.9.59 1.41.59.51 0 1.02-.2 1.41-.59l7.78-7.78 2.81-2.81c.8-.78.8-2.07 0-2.86zM5.41 20L4 18.59l7.72-7.72 1.47 1.35L5.41 20z\"/>\n",
              "  </svg>\n",
              "      </button>\n",
              "      \n",
              "  <style>\n",
              "    .colab-df-container {\n",
              "      display:flex;\n",
              "      flex-wrap:wrap;\n",
              "      gap: 12px;\n",
              "    }\n",
              "\n",
              "    .colab-df-convert {\n",
              "      background-color: #E8F0FE;\n",
              "      border: none;\n",
              "      border-radius: 50%;\n",
              "      cursor: pointer;\n",
              "      display: none;\n",
              "      fill: #1967D2;\n",
              "      height: 32px;\n",
              "      padding: 0 0 0 0;\n",
              "      width: 32px;\n",
              "    }\n",
              "\n",
              "    .colab-df-convert:hover {\n",
              "      background-color: #E2EBFA;\n",
              "      box-shadow: 0px 1px 2px rgba(60, 64, 67, 0.3), 0px 1px 3px 1px rgba(60, 64, 67, 0.15);\n",
              "      fill: #174EA6;\n",
              "    }\n",
              "\n",
              "    [theme=dark] .colab-df-convert {\n",
              "      background-color: #3B4455;\n",
              "      fill: #D2E3FC;\n",
              "    }\n",
              "\n",
              "    [theme=dark] .colab-df-convert:hover {\n",
              "      background-color: #434B5C;\n",
              "      box-shadow: 0px 1px 3px 1px rgba(0, 0, 0, 0.15);\n",
              "      filter: drop-shadow(0px 1px 2px rgba(0, 0, 0, 0.3));\n",
              "      fill: #FFFFFF;\n",
              "    }\n",
              "  </style>\n",
              "\n",
              "      <script>\n",
              "        const buttonEl =\n",
              "          document.querySelector('#df-0679572c-50a4-4e84-9ca0-b2bc1770c873 button.colab-df-convert');\n",
              "        buttonEl.style.display =\n",
              "          google.colab.kernel.accessAllowed ? 'block' : 'none';\n",
              "\n",
              "        async function convertToInteractive(key) {\n",
              "          const element = document.querySelector('#df-0679572c-50a4-4e84-9ca0-b2bc1770c873');\n",
              "          const dataTable =\n",
              "            await google.colab.kernel.invokeFunction('convertToInteractive',\n",
              "                                                     [key], {});\n",
              "          if (!dataTable) return;\n",
              "\n",
              "          const docLinkHtml = 'Like what you see? Visit the ' +\n",
              "            '<a target=\"_blank\" href=https://colab.research.google.com/notebooks/data_table.ipynb>data table notebook</a>'\n",
              "            + ' to learn more about interactive tables.';\n",
              "          element.innerHTML = '';\n",
              "          dataTable['output_type'] = 'display_data';\n",
              "          await google.colab.output.renderOutput(dataTable, element);\n",
              "          const docLink = document.createElement('div');\n",
              "          docLink.innerHTML = docLinkHtml;\n",
              "          element.appendChild(docLink);\n",
              "        }\n",
              "      </script>\n",
              "    </div>\n",
              "  </div>\n",
              "  "
            ]
          },
          "metadata": {},
          "execution_count": 35
        }
      ]
    },
    {
      "cell_type": "code",
      "source": [
        "X_test.head()"
      ],
      "metadata": {
        "colab": {
          "base_uri": "https://localhost:8080/",
          "height": 206
        },
        "id": "FX9_MYTMWmUO",
        "outputId": "56fb1efc-c0fe-4f9b-e790-59c5221efe12"
      },
      "execution_count": 36,
      "outputs": [
        {
          "output_type": "execute_result",
          "data": {
            "text/plain": [
              "      Type  Rooms  Distance  Bathroom  Car  Landsize  BuildingArea  YearBuilt  \\\n",
              "6663     2      1       162         1    1       540           218         13   \n",
              "1724     2      2         6         2    2       311           125          2   \n",
              "374      2      3        43         1    1       264             4          4   \n",
              "4399     3      1        35         1    5        36           156         14   \n",
              "4070     2      1        16         2    1       182            70          6   \n",
              "\n",
              "      Regionname  Price  \n",
              "6663           4    786  \n",
              "1724           1     95  \n",
              "374            2    284  \n",
              "4399           2   1249  \n",
              "4070           3     96  "
            ],
            "text/html": [
              "\n",
              "  <div id=\"df-2b7afb05-58df-4bd5-bf86-20bf3a6305e6\">\n",
              "    <div class=\"colab-df-container\">\n",
              "      <div>\n",
              "<style scoped>\n",
              "    .dataframe tbody tr th:only-of-type {\n",
              "        vertical-align: middle;\n",
              "    }\n",
              "\n",
              "    .dataframe tbody tr th {\n",
              "        vertical-align: top;\n",
              "    }\n",
              "\n",
              "    .dataframe thead th {\n",
              "        text-align: right;\n",
              "    }\n",
              "</style>\n",
              "<table border=\"1\" class=\"dataframe\">\n",
              "  <thead>\n",
              "    <tr style=\"text-align: right;\">\n",
              "      <th></th>\n",
              "      <th>Type</th>\n",
              "      <th>Rooms</th>\n",
              "      <th>Distance</th>\n",
              "      <th>Bathroom</th>\n",
              "      <th>Car</th>\n",
              "      <th>Landsize</th>\n",
              "      <th>BuildingArea</th>\n",
              "      <th>YearBuilt</th>\n",
              "      <th>Regionname</th>\n",
              "      <th>Price</th>\n",
              "    </tr>\n",
              "  </thead>\n",
              "  <tbody>\n",
              "    <tr>\n",
              "      <th>6663</th>\n",
              "      <td>2</td>\n",
              "      <td>1</td>\n",
              "      <td>162</td>\n",
              "      <td>1</td>\n",
              "      <td>1</td>\n",
              "      <td>540</td>\n",
              "      <td>218</td>\n",
              "      <td>13</td>\n",
              "      <td>4</td>\n",
              "      <td>786</td>\n",
              "    </tr>\n",
              "    <tr>\n",
              "      <th>1724</th>\n",
              "      <td>2</td>\n",
              "      <td>2</td>\n",
              "      <td>6</td>\n",
              "      <td>2</td>\n",
              "      <td>2</td>\n",
              "      <td>311</td>\n",
              "      <td>125</td>\n",
              "      <td>2</td>\n",
              "      <td>1</td>\n",
              "      <td>95</td>\n",
              "    </tr>\n",
              "    <tr>\n",
              "      <th>374</th>\n",
              "      <td>2</td>\n",
              "      <td>3</td>\n",
              "      <td>43</td>\n",
              "      <td>1</td>\n",
              "      <td>1</td>\n",
              "      <td>264</td>\n",
              "      <td>4</td>\n",
              "      <td>4</td>\n",
              "      <td>2</td>\n",
              "      <td>284</td>\n",
              "    </tr>\n",
              "    <tr>\n",
              "      <th>4399</th>\n",
              "      <td>3</td>\n",
              "      <td>1</td>\n",
              "      <td>35</td>\n",
              "      <td>1</td>\n",
              "      <td>5</td>\n",
              "      <td>36</td>\n",
              "      <td>156</td>\n",
              "      <td>14</td>\n",
              "      <td>2</td>\n",
              "      <td>1249</td>\n",
              "    </tr>\n",
              "    <tr>\n",
              "      <th>4070</th>\n",
              "      <td>2</td>\n",
              "      <td>1</td>\n",
              "      <td>16</td>\n",
              "      <td>2</td>\n",
              "      <td>1</td>\n",
              "      <td>182</td>\n",
              "      <td>70</td>\n",
              "      <td>6</td>\n",
              "      <td>3</td>\n",
              "      <td>96</td>\n",
              "    </tr>\n",
              "  </tbody>\n",
              "</table>\n",
              "</div>\n",
              "      <button class=\"colab-df-convert\" onclick=\"convertToInteractive('df-2b7afb05-58df-4bd5-bf86-20bf3a6305e6')\"\n",
              "              title=\"Convert this dataframe to an interactive table.\"\n",
              "              style=\"display:none;\">\n",
              "        \n",
              "  <svg xmlns=\"http://www.w3.org/2000/svg\" height=\"24px\"viewBox=\"0 0 24 24\"\n",
              "       width=\"24px\">\n",
              "    <path d=\"M0 0h24v24H0V0z\" fill=\"none\"/>\n",
              "    <path d=\"M18.56 5.44l.94 2.06.94-2.06 2.06-.94-2.06-.94-.94-2.06-.94 2.06-2.06.94zm-11 1L8.5 8.5l.94-2.06 2.06-.94-2.06-.94L8.5 2.5l-.94 2.06-2.06.94zm10 10l.94 2.06.94-2.06 2.06-.94-2.06-.94-.94-2.06-.94 2.06-2.06.94z\"/><path d=\"M17.41 7.96l-1.37-1.37c-.4-.4-.92-.59-1.43-.59-.52 0-1.04.2-1.43.59L10.3 9.45l-7.72 7.72c-.78.78-.78 2.05 0 2.83L4 21.41c.39.39.9.59 1.41.59.51 0 1.02-.2 1.41-.59l7.78-7.78 2.81-2.81c.8-.78.8-2.07 0-2.86zM5.41 20L4 18.59l7.72-7.72 1.47 1.35L5.41 20z\"/>\n",
              "  </svg>\n",
              "      </button>\n",
              "      \n",
              "  <style>\n",
              "    .colab-df-container {\n",
              "      display:flex;\n",
              "      flex-wrap:wrap;\n",
              "      gap: 12px;\n",
              "    }\n",
              "\n",
              "    .colab-df-convert {\n",
              "      background-color: #E8F0FE;\n",
              "      border: none;\n",
              "      border-radius: 50%;\n",
              "      cursor: pointer;\n",
              "      display: none;\n",
              "      fill: #1967D2;\n",
              "      height: 32px;\n",
              "      padding: 0 0 0 0;\n",
              "      width: 32px;\n",
              "    }\n",
              "\n",
              "    .colab-df-convert:hover {\n",
              "      background-color: #E2EBFA;\n",
              "      box-shadow: 0px 1px 2px rgba(60, 64, 67, 0.3), 0px 1px 3px 1px rgba(60, 64, 67, 0.15);\n",
              "      fill: #174EA6;\n",
              "    }\n",
              "\n",
              "    [theme=dark] .colab-df-convert {\n",
              "      background-color: #3B4455;\n",
              "      fill: #D2E3FC;\n",
              "    }\n",
              "\n",
              "    [theme=dark] .colab-df-convert:hover {\n",
              "      background-color: #434B5C;\n",
              "      box-shadow: 0px 1px 3px 1px rgba(0, 0, 0, 0.15);\n",
              "      filter: drop-shadow(0px 1px 2px rgba(0, 0, 0, 0.3));\n",
              "      fill: #FFFFFF;\n",
              "    }\n",
              "  </style>\n",
              "\n",
              "      <script>\n",
              "        const buttonEl =\n",
              "          document.querySelector('#df-2b7afb05-58df-4bd5-bf86-20bf3a6305e6 button.colab-df-convert');\n",
              "        buttonEl.style.display =\n",
              "          google.colab.kernel.accessAllowed ? 'block' : 'none';\n",
              "\n",
              "        async function convertToInteractive(key) {\n",
              "          const element = document.querySelector('#df-2b7afb05-58df-4bd5-bf86-20bf3a6305e6');\n",
              "          const dataTable =\n",
              "            await google.colab.kernel.invokeFunction('convertToInteractive',\n",
              "                                                     [key], {});\n",
              "          if (!dataTable) return;\n",
              "\n",
              "          const docLinkHtml = 'Like what you see? Visit the ' +\n",
              "            '<a target=\"_blank\" href=https://colab.research.google.com/notebooks/data_table.ipynb>data table notebook</a>'\n",
              "            + ' to learn more about interactive tables.';\n",
              "          element.innerHTML = '';\n",
              "          dataTable['output_type'] = 'display_data';\n",
              "          await google.colab.output.renderOutput(dataTable, element);\n",
              "          const docLink = document.createElement('div');\n",
              "          docLink.innerHTML = docLinkHtml;\n",
              "          element.appendChild(docLink);\n",
              "        }\n",
              "      </script>\n",
              "    </div>\n",
              "  </div>\n",
              "  "
            ]
          },
          "metadata": {},
          "execution_count": 36
        }
      ]
    },
    {
      "cell_type": "code",
      "source": [
        "y_train.head(), y_test.head()"
      ],
      "metadata": {
        "colab": {
          "base_uri": "https://localhost:8080/"
        },
        "id": "h1PqFRoCWoX-",
        "outputId": "f8b1ee1f-7ce1-47f6-d232-f5e6eeac3288"
      },
      "execution_count": 37,
      "outputs": [
        {
          "output_type": "execute_result",
          "data": {
            "text/plain": [
              "(1585    1\n",
              " 5669    1\n",
              " 6796    1\n",
              " 3458    2\n",
              " 977     2\n",
              " Name: Encoded_Price, dtype: int64,\n",
              " 6663    1\n",
              " 1724    1\n",
              " 374     2\n",
              " 4399    1\n",
              " 4070    1\n",
              " Name: Encoded_Price, dtype: int64)"
            ]
          },
          "metadata": {},
          "execution_count": 37
        }
      ]
    },
    {
      "cell_type": "markdown",
      "source": [
        "**Logistic Regression**"
      ],
      "metadata": {
        "id": "M3SiCUQGWtLI"
      }
    },
    {
      "cell_type": "code",
      "source": [
        "lr = LogisticRegression()\n",
        "lr.fit(X_train, y_train)\n",
        "\n",
        "y_pred_lr = lr.predict(X_test)\n",
        "\n",
        "acc_lr = accuracy_score(y_test, y_pred_lr)\n",
        "conf = confusion_matrix(y_test, y_pred_lr)\n",
        "clf_report = classification_report(y_test, y_pred_lr)\n",
        "\n",
        "print(f\"Accuracy Score of Logistic Regression is : {acc_lr}\")\n",
        "print(f\"Confusion Matrix : \\n{conf}\")\n",
        "print(f\"Classification Report : \\n{clf_report}\")"
      ],
      "metadata": {
        "colab": {
          "base_uri": "https://localhost:8080/"
        },
        "id": "Q92dtEK8Wpsu",
        "outputId": "49a853c2-5f3b-405e-8885-3db1e4332793"
      },
      "execution_count": 38,
      "outputs": [
        {
          "output_type": "stream",
          "name": "stdout",
          "text": [
            "Accuracy Score of Logistic Regression is : 0.6442166910688141\n",
            "Confusion Matrix : \n",
            "[[1014  233]\n",
            " [ 496  306]]\n",
            "Classification Report : \n",
            "              precision    recall  f1-score   support\n",
            "\n",
            "           1       0.67      0.81      0.74      1247\n",
            "           2       0.57      0.38      0.46       802\n",
            "\n",
            "    accuracy                           0.64      2049\n",
            "   macro avg       0.62      0.60      0.60      2049\n",
            "weighted avg       0.63      0.64      0.63      2049\n",
            "\n"
          ]
        }
      ]
    },
    {
      "cell_type": "markdown",
      "source": [
        "**KNN**"
      ],
      "metadata": {
        "id": "MiZIJcNqXCu_"
      }
    },
    {
      "cell_type": "code",
      "source": [
        "knn = KNeighborsClassifier()\n",
        "knn.fit(X_train, y_train)\n",
        "\n",
        "y_pred_knn = knn.predict(X_test)\n",
        "\n",
        "acc_knn = accuracy_score(y_test, y_pred_knn)\n",
        "conf = confusion_matrix(y_test, y_pred_knn)\n",
        "clf_report = classification_report(y_test, y_pred_knn)\n",
        "\n",
        "print(f\"Accuracy Score of KNN is : {acc_knn}\")\n",
        "print(f\"Confusion Matrix : \\n{conf}\")\n",
        "print(f\"Classification Report : \\n{clf_report}\")"
      ],
      "metadata": {
        "colab": {
          "base_uri": "https://localhost:8080/"
        },
        "id": "LF2MWaWbWwDr",
        "outputId": "465c8d45-0db9-40c0-b1d0-217365010e38"
      },
      "execution_count": 39,
      "outputs": [
        {
          "output_type": "stream",
          "name": "stdout",
          "text": [
            "Accuracy Score of KNN is : 0.5949243533430942\n",
            "Confusion Matrix : \n",
            "[[900 347]\n",
            " [483 319]]\n",
            "Classification Report : \n",
            "              precision    recall  f1-score   support\n",
            "\n",
            "           1       0.65      0.72      0.68      1247\n",
            "           2       0.48      0.40      0.43       802\n",
            "\n",
            "    accuracy                           0.59      2049\n",
            "   macro avg       0.56      0.56      0.56      2049\n",
            "weighted avg       0.58      0.59      0.59      2049\n",
            "\n"
          ]
        }
      ]
    },
    {
      "cell_type": "markdown",
      "source": [
        "**Decision Tree Classifier**"
      ],
      "metadata": {
        "id": "vkNc28NiXIM-"
      }
    },
    {
      "cell_type": "code",
      "source": [
        "dtc = DecisionTreeClassifier()\n",
        "dtc.fit(X_train, y_train)\n",
        "\n",
        "y_pred_dtc = dtc.predict(X_test)\n",
        "\n",
        "acc_dtc = accuracy_score(y_test, y_pred_dtc)\n",
        "conf = confusion_matrix(y_test, y_pred_dtc)\n",
        "clf_report = classification_report(y_test, y_pred_dtc)\n",
        "\n",
        "print(f\"Accuracy Score of Decision Tree is : {acc_dtc}\")\n",
        "print(f\"Confusion Matrix : \\n{conf}\")\n",
        "print(f\"Classification Report : \\n{clf_report}\")"
      ],
      "metadata": {
        "colab": {
          "base_uri": "https://localhost:8080/"
        },
        "id": "GcLiIRdRXFRL",
        "outputId": "55cdde58-1888-4bc1-f2c1-e7ec2527e7f6"
      },
      "execution_count": 40,
      "outputs": [
        {
          "output_type": "stream",
          "name": "stdout",
          "text": [
            "Accuracy Score of Decision Tree is : 0.7950219619326501\n",
            "Confusion Matrix : \n",
            "[[1044  203]\n",
            " [ 217  585]]\n",
            "Classification Report : \n",
            "              precision    recall  f1-score   support\n",
            "\n",
            "           1       0.83      0.84      0.83      1247\n",
            "           2       0.74      0.73      0.74       802\n",
            "\n",
            "    accuracy                           0.80      2049\n",
            "   macro avg       0.79      0.78      0.78      2049\n",
            "weighted avg       0.79      0.80      0.79      2049\n",
            "\n"
          ]
        }
      ]
    },
    {
      "cell_type": "markdown",
      "source": [
        "**Random Forest Classifier**"
      ],
      "metadata": {
        "id": "uLtEUE2DYgXW"
      }
    },
    {
      "cell_type": "code",
      "source": [
        "rd_clf = RandomForestClassifier()\n",
        "rd_clf.fit(X_train, y_train)\n",
        "\n",
        "y_pred_rd_clf = rd_clf.predict(X_test)\n",
        "\n",
        "acc_rd_clf = accuracy_score(y_test, y_pred_rd_clf)\n",
        "conf = confusion_matrix(y_test, y_pred_rd_clf)\n",
        "clf_report = classification_report(y_test, y_pred_rd_clf)\n",
        "\n",
        "print(f\"Accuracy Score of Random Forest is : {acc_rd_clf}\")\n",
        "print(f\"Confusion Matrix : \\n{conf}\")\n",
        "print(f\"Classification Report : \\n{clf_report}\")"
      ],
      "metadata": {
        "colab": {
          "base_uri": "https://localhost:8080/"
        },
        "id": "qY0D0cXIXJ--",
        "outputId": "46fdcd69-b966-43ca-9277-d03c7f8a3485"
      },
      "execution_count": 41,
      "outputs": [
        {
          "output_type": "stream",
          "name": "stdout",
          "text": [
            "Accuracy Score of Random Forest is : 0.8506588579795022\n",
            "Confusion Matrix : \n",
            "[[1142  105]\n",
            " [ 201  601]]\n",
            "Classification Report : \n",
            "              precision    recall  f1-score   support\n",
            "\n",
            "           1       0.85      0.92      0.88      1247\n",
            "           2       0.85      0.75      0.80       802\n",
            "\n",
            "    accuracy                           0.85      2049\n",
            "   macro avg       0.85      0.83      0.84      2049\n",
            "weighted avg       0.85      0.85      0.85      2049\n",
            "\n"
          ]
        }
      ]
    },
    {
      "cell_type": "markdown",
      "source": [
        "**Ada Boost Classifier**"
      ],
      "metadata": {
        "id": "k3vU9pJYYkw-"
      }
    },
    {
      "cell_type": "code",
      "source": [
        "ada = AdaBoostClassifier(base_estimator = dtc)\n",
        "ada.fit(X_train, y_train)\n",
        "\n",
        "y_pred_ada = ada.predict(X_test)\n",
        "\n",
        "acc_ada = accuracy_score(y_test, y_pred_ada)\n",
        "conf = confusion_matrix(y_test, y_pred_ada)\n",
        "clf_report = classification_report(y_test, y_pred_ada)\n",
        "\n",
        "print(f\"Accuracy Score of Ada Boost Classifier is : {acc_ada}\")\n",
        "print(f\"Confusion Matrix : \\n{conf}\")\n",
        "print(f\"Classification Report : \\n{clf_report}\")"
      ],
      "metadata": {
        "colab": {
          "base_uri": "https://localhost:8080/"
        },
        "id": "UmSF78E4Yitc",
        "outputId": "5193fab8-1cf7-42d7-a548-914590fbc4de"
      },
      "execution_count": 42,
      "outputs": [
        {
          "output_type": "stream",
          "name": "stdout",
          "text": [
            "Accuracy Score of Ada Boost Classifier is : 0.7867252318204002\n",
            "Confusion Matrix : \n",
            "[[1034  213]\n",
            " [ 224  578]]\n",
            "Classification Report : \n",
            "              precision    recall  f1-score   support\n",
            "\n",
            "           1       0.82      0.83      0.83      1247\n",
            "           2       0.73      0.72      0.73       802\n",
            "\n",
            "    accuracy                           0.79      2049\n",
            "   macro avg       0.78      0.77      0.78      2049\n",
            "weighted avg       0.79      0.79      0.79      2049\n",
            "\n"
          ]
        }
      ]
    },
    {
      "cell_type": "markdown",
      "source": [
        "**Gradient Boosting Classifier**"
      ],
      "metadata": {
        "id": "fRGwo3KHY-6x"
      }
    },
    {
      "cell_type": "code",
      "source": [
        "gb = GradientBoostingClassifier()\n",
        "gb.fit(X_train, y_train)\n",
        "\n",
        "y_pred_gb = gb.predict(X_test)\n",
        "\n",
        "acc_gb = accuracy_score(y_test, y_pred_gb)\n",
        "conf = confusion_matrix(y_test, y_pred_gb)\n",
        "clf_report = classification_report(y_test, y_pred_gb)\n",
        "\n",
        "print(f\"Accuracy Score of Ada Boost Classifier is : {acc_gb}\")\n",
        "print(f\"Confusion Matrix : \\n{conf}\")\n",
        "print(f\"Classification Report : \\n{clf_report}\")"
      ],
      "metadata": {
        "colab": {
          "base_uri": "https://localhost:8080/"
        },
        "id": "dZ6dCfl4Ynpe",
        "outputId": "7f02f0fd-5b2f-4943-f11a-84cf8999031e"
      },
      "execution_count": 43,
      "outputs": [
        {
          "output_type": "stream",
          "name": "stdout",
          "text": [
            "Accuracy Score of Ada Boost Classifier is : 0.8628599316739873\n",
            "Confusion Matrix : \n",
            "[[1168   79]\n",
            " [ 202  600]]\n",
            "Classification Report : \n",
            "              precision    recall  f1-score   support\n",
            "\n",
            "           1       0.85      0.94      0.89      1247\n",
            "           2       0.88      0.75      0.81       802\n",
            "\n",
            "    accuracy                           0.86      2049\n",
            "   macro avg       0.87      0.84      0.85      2049\n",
            "weighted avg       0.86      0.86      0.86      2049\n",
            "\n"
          ]
        }
      ]
    },
    {
      "cell_type": "markdown",
      "source": [
        "**Cat Boost Classifier**"
      ],
      "metadata": {
        "id": "FOoBxiTAZCwX"
      }
    },
    {
      "cell_type": "code",
      "source": [
        "cat = CatBoostClassifier(iterations=100)\n",
        "cat.fit(X_train, y_train)\n",
        "\n",
        "y_pred_cat = cat.predict(X_test)\n",
        "\n",
        "acc_cat = accuracy_score(y_test, y_pred_cat)\n",
        "conf = confusion_matrix(y_test, y_pred_cat)\n",
        "clf_report = classification_report(y_test, y_pred_cat)"
      ],
      "metadata": {
        "colab": {
          "base_uri": "https://localhost:8080/"
        },
        "id": "69744eIsZBHW",
        "outputId": "9d480e9a-14d4-4802-cf5b-2243535e12f4"
      },
      "execution_count": 44,
      "outputs": [
        {
          "output_type": "stream",
          "name": "stdout",
          "text": [
            "Learning rate set to 0.165993\n",
            "0:\tlearn: 0.6327959\ttotal: 49.2ms\tremaining: 4.87s\n",
            "1:\tlearn: 0.5888762\ttotal: 50.7ms\tremaining: 2.48s\n",
            "2:\tlearn: 0.5591977\ttotal: 52.2ms\tremaining: 1.69s\n",
            "3:\tlearn: 0.5364266\ttotal: 53.8ms\tremaining: 1.29s\n",
            "4:\tlearn: 0.5106470\ttotal: 55.4ms\tremaining: 1.05s\n",
            "5:\tlearn: 0.4926638\ttotal: 57.1ms\tremaining: 894ms\n",
            "6:\tlearn: 0.4773108\ttotal: 58.8ms\tremaining: 781ms\n",
            "7:\tlearn: 0.4654444\ttotal: 60.7ms\tremaining: 698ms\n",
            "8:\tlearn: 0.4548127\ttotal: 62.3ms\tremaining: 630ms\n",
            "9:\tlearn: 0.4475457\ttotal: 64ms\tremaining: 576ms\n",
            "10:\tlearn: 0.4404534\ttotal: 65.7ms\tremaining: 531ms\n",
            "11:\tlearn: 0.4341341\ttotal: 68.3ms\tremaining: 501ms\n",
            "12:\tlearn: 0.4284233\ttotal: 69.6ms\tremaining: 466ms\n",
            "13:\tlearn: 0.4240891\ttotal: 71.2ms\tremaining: 437ms\n",
            "14:\tlearn: 0.4191751\ttotal: 72.8ms\tremaining: 413ms\n",
            "15:\tlearn: 0.4162976\ttotal: 74.3ms\tremaining: 390ms\n",
            "16:\tlearn: 0.4121377\ttotal: 75.9ms\tremaining: 371ms\n",
            "17:\tlearn: 0.4079583\ttotal: 77.4ms\tremaining: 353ms\n",
            "18:\tlearn: 0.4048371\ttotal: 78.9ms\tremaining: 336ms\n",
            "19:\tlearn: 0.4030566\ttotal: 80.4ms\tremaining: 322ms\n",
            "20:\tlearn: 0.4002510\ttotal: 82.1ms\tremaining: 309ms\n",
            "21:\tlearn: 0.3980447\ttotal: 84.1ms\tremaining: 298ms\n",
            "22:\tlearn: 0.3953785\ttotal: 85.8ms\tremaining: 287ms\n",
            "23:\tlearn: 0.3929351\ttotal: 87.4ms\tremaining: 277ms\n",
            "24:\tlearn: 0.3911385\ttotal: 89.1ms\tremaining: 267ms\n",
            "25:\tlearn: 0.3902553\ttotal: 90.6ms\tremaining: 258ms\n",
            "26:\tlearn: 0.3891427\ttotal: 92.1ms\tremaining: 249ms\n",
            "27:\tlearn: 0.3861136\ttotal: 93.7ms\tremaining: 241ms\n",
            "28:\tlearn: 0.3848685\ttotal: 95.2ms\tremaining: 233ms\n",
            "29:\tlearn: 0.3828480\ttotal: 96.7ms\tremaining: 226ms\n",
            "30:\tlearn: 0.3808497\ttotal: 98.2ms\tremaining: 219ms\n",
            "31:\tlearn: 0.3793138\ttotal: 99.7ms\tremaining: 212ms\n",
            "32:\tlearn: 0.3783438\ttotal: 107ms\tremaining: 218ms\n",
            "33:\tlearn: 0.3774139\ttotal: 110ms\tremaining: 213ms\n",
            "34:\tlearn: 0.3745318\ttotal: 112ms\tremaining: 208ms\n",
            "35:\tlearn: 0.3731640\ttotal: 115ms\tremaining: 204ms\n",
            "36:\tlearn: 0.3716708\ttotal: 116ms\tremaining: 198ms\n",
            "37:\tlearn: 0.3687319\ttotal: 118ms\tremaining: 192ms\n",
            "38:\tlearn: 0.3655037\ttotal: 119ms\tremaining: 186ms\n",
            "39:\tlearn: 0.3628716\ttotal: 120ms\tremaining: 181ms\n",
            "40:\tlearn: 0.3605777\ttotal: 122ms\tremaining: 176ms\n",
            "41:\tlearn: 0.3589296\ttotal: 124ms\tremaining: 171ms\n",
            "42:\tlearn: 0.3564534\ttotal: 125ms\tremaining: 166ms\n",
            "43:\tlearn: 0.3555197\ttotal: 127ms\tremaining: 161ms\n",
            "44:\tlearn: 0.3529806\ttotal: 128ms\tremaining: 157ms\n",
            "45:\tlearn: 0.3512036\ttotal: 130ms\tremaining: 152ms\n",
            "46:\tlearn: 0.3507480\ttotal: 131ms\tremaining: 148ms\n",
            "47:\tlearn: 0.3496680\ttotal: 133ms\tremaining: 144ms\n",
            "48:\tlearn: 0.3480794\ttotal: 134ms\tremaining: 140ms\n",
            "49:\tlearn: 0.3466060\ttotal: 136ms\tremaining: 136ms\n",
            "50:\tlearn: 0.3454990\ttotal: 137ms\tremaining: 132ms\n",
            "51:\tlearn: 0.3448375\ttotal: 139ms\tremaining: 128ms\n",
            "52:\tlearn: 0.3428725\ttotal: 140ms\tremaining: 124ms\n",
            "53:\tlearn: 0.3424065\ttotal: 143ms\tremaining: 122ms\n",
            "54:\tlearn: 0.3410908\ttotal: 146ms\tremaining: 119ms\n",
            "55:\tlearn: 0.3377821\ttotal: 148ms\tremaining: 116ms\n",
            "56:\tlearn: 0.3363898\ttotal: 150ms\tremaining: 114ms\n",
            "57:\tlearn: 0.3340842\ttotal: 152ms\tremaining: 110ms\n",
            "58:\tlearn: 0.3323776\ttotal: 153ms\tremaining: 107ms\n",
            "59:\tlearn: 0.3307436\ttotal: 155ms\tremaining: 103ms\n",
            "60:\tlearn: 0.3289626\ttotal: 156ms\tremaining: 99.7ms\n",
            "61:\tlearn: 0.3263075\ttotal: 157ms\tremaining: 96.5ms\n",
            "62:\tlearn: 0.3254133\ttotal: 159ms\tremaining: 93.2ms\n",
            "63:\tlearn: 0.3243648\ttotal: 160ms\tremaining: 90.1ms\n",
            "64:\tlearn: 0.3213155\ttotal: 162ms\tremaining: 87ms\n",
            "65:\tlearn: 0.3182811\ttotal: 163ms\tremaining: 84ms\n",
            "66:\tlearn: 0.3168326\ttotal: 166ms\tremaining: 81.5ms\n",
            "67:\tlearn: 0.3156898\ttotal: 167ms\tremaining: 78.7ms\n",
            "68:\tlearn: 0.3134067\ttotal: 169ms\tremaining: 75.9ms\n",
            "69:\tlearn: 0.3117019\ttotal: 170ms\tremaining: 73.1ms\n",
            "70:\tlearn: 0.3105243\ttotal: 172ms\tremaining: 70.3ms\n",
            "71:\tlearn: 0.3088881\ttotal: 174ms\tremaining: 67.5ms\n",
            "72:\tlearn: 0.3070371\ttotal: 175ms\tremaining: 64.8ms\n",
            "73:\tlearn: 0.3061171\ttotal: 177ms\tremaining: 62.1ms\n",
            "74:\tlearn: 0.3046486\ttotal: 178ms\tremaining: 59.5ms\n",
            "75:\tlearn: 0.3034876\ttotal: 180ms\tremaining: 56.9ms\n",
            "76:\tlearn: 0.3018542\ttotal: 182ms\tremaining: 54.3ms\n",
            "77:\tlearn: 0.3006225\ttotal: 183ms\tremaining: 51.7ms\n",
            "78:\tlearn: 0.2996190\ttotal: 185ms\tremaining: 49.2ms\n",
            "79:\tlearn: 0.2984502\ttotal: 186ms\tremaining: 46.6ms\n",
            "80:\tlearn: 0.2977893\ttotal: 190ms\tremaining: 44.6ms\n",
            "81:\tlearn: 0.2968366\ttotal: 192ms\tremaining: 42.1ms\n",
            "82:\tlearn: 0.2964510\ttotal: 193ms\tremaining: 39.6ms\n",
            "83:\tlearn: 0.2952871\ttotal: 194ms\tremaining: 37ms\n",
            "84:\tlearn: 0.2931835\ttotal: 196ms\tremaining: 34.6ms\n",
            "85:\tlearn: 0.2922717\ttotal: 197ms\tremaining: 32.1ms\n",
            "86:\tlearn: 0.2916385\ttotal: 199ms\tremaining: 29.7ms\n",
            "87:\tlearn: 0.2913181\ttotal: 200ms\tremaining: 27.3ms\n",
            "88:\tlearn: 0.2896439\ttotal: 201ms\tremaining: 24.9ms\n",
            "89:\tlearn: 0.2889035\ttotal: 203ms\tremaining: 22.6ms\n",
            "90:\tlearn: 0.2879936\ttotal: 205ms\tremaining: 20.3ms\n",
            "91:\tlearn: 0.2876099\ttotal: 206ms\tremaining: 18ms\n",
            "92:\tlearn: 0.2871481\ttotal: 208ms\tremaining: 15.7ms\n",
            "93:\tlearn: 0.2855642\ttotal: 210ms\tremaining: 13.4ms\n",
            "94:\tlearn: 0.2847955\ttotal: 211ms\tremaining: 11.1ms\n",
            "95:\tlearn: 0.2842124\ttotal: 213ms\tremaining: 8.86ms\n",
            "96:\tlearn: 0.2832418\ttotal: 214ms\tremaining: 6.62ms\n",
            "97:\tlearn: 0.2825676\ttotal: 216ms\tremaining: 4.41ms\n",
            "98:\tlearn: 0.2809053\ttotal: 218ms\tremaining: 2.2ms\n",
            "99:\tlearn: 0.2796041\ttotal: 219ms\tremaining: 0us\n"
          ]
        }
      ]
    },
    {
      "cell_type": "code",
      "source": [
        "print(f\"Accuracy Score of Ada Boost Classifier is : {acc_cat}\")\n",
        "print(f\"Confusion Matrix : \\n{conf}\")\n",
        "print(f\"Classification Report : \\n{clf_report}\")"
      ],
      "metadata": {
        "colab": {
          "base_uri": "https://localhost:8080/"
        },
        "id": "mOeM9fWWZFdI",
        "outputId": "daaed36e-0792-4368-a78b-03659abc1dd1"
      },
      "execution_count": 45,
      "outputs": [
        {
          "output_type": "stream",
          "name": "stdout",
          "text": [
            "Accuracy Score of Ada Boost Classifier is : 0.8799414348462665\n",
            "Confusion Matrix : \n",
            "[[1171   76]\n",
            " [ 170  632]]\n",
            "Classification Report : \n",
            "              precision    recall  f1-score   support\n",
            "\n",
            "           1       0.87      0.94      0.90      1247\n",
            "           2       0.89      0.79      0.84       802\n",
            "\n",
            "    accuracy                           0.88      2049\n",
            "   macro avg       0.88      0.86      0.87      2049\n",
            "weighted avg       0.88      0.88      0.88      2049\n",
            "\n"
          ]
        }
      ]
    },
    {
      "cell_type": "markdown",
      "source": [
        "**Extra Trees Classifier**"
      ],
      "metadata": {
        "id": "E2gVj3c9Z1cQ"
      }
    },
    {
      "cell_type": "code",
      "source": [
        "etc = ExtraTreesClassifier()\n",
        "etc.fit(X_train, y_train)\n",
        "\n",
        "y_pred_etc = etc.predict(X_test)\n",
        "\n",
        "acc_etc = accuracy_score(y_test, y_pred_etc)\n",
        "conf = confusion_matrix(y_test, y_pred_etc)\n",
        "clf_report = classification_report(y_test, y_pred_etc)\n",
        "\n",
        "print(f\"Accuracy Score of Ada Boost Classifier is : {acc_etc}\")\n",
        "print(f\"Confusion Matrix : \\n{conf}\")\n",
        "print(f\"Classification Report : \\n{clf_report}\")"
      ],
      "metadata": {
        "colab": {
          "base_uri": "https://localhost:8080/"
        },
        "id": "lprxSh0EZxmV",
        "outputId": "3b53882c-4c82-4323-8a7a-67187d5aadfa"
      },
      "execution_count": 46,
      "outputs": [
        {
          "output_type": "stream",
          "name": "stdout",
          "text": [
            "Accuracy Score of Ada Boost Classifier is : 0.8296730112249878\n",
            "Confusion Matrix : \n",
            "[[1127  120]\n",
            " [ 229  573]]\n",
            "Classification Report : \n",
            "              precision    recall  f1-score   support\n",
            "\n",
            "           1       0.83      0.90      0.87      1247\n",
            "           2       0.83      0.71      0.77       802\n",
            "\n",
            "    accuracy                           0.83      2049\n",
            "   macro avg       0.83      0.81      0.82      2049\n",
            "weighted avg       0.83      0.83      0.83      2049\n",
            "\n"
          ]
        }
      ]
    },
    {
      "cell_type": "markdown",
      "source": [
        "**LGBM Classifier**"
      ],
      "metadata": {
        "id": "Qh8jnt6gagBO"
      }
    },
    {
      "cell_type": "code",
      "source": [
        "lgbm = LGBMClassifier(learning_rate = 1)\n",
        "lgbm.fit(X_train, y_train)\n",
        "\n",
        "y_pred_lgbm = lgbm.predict(X_test)\n",
        "\n",
        "acc_lgbm = accuracy_score(y_test, y_pred_lgbm)\n",
        "conf = confusion_matrix(y_test, y_pred_lgbm)\n",
        "clf_report = classification_report(y_test, y_pred_lgbm)\n",
        "\n",
        "print(f\"Accuracy Score of Ada Boost Classifier is : {acc_lgbm}\")\n",
        "print(f\"Confusion Matrix : \\n{conf}\")\n",
        "print(f\"Classification Report : \\n{clf_report}\")"
      ],
      "metadata": {
        "colab": {
          "base_uri": "https://localhost:8080/"
        },
        "id": "CH25DduFZ4Lm",
        "outputId": "50d61413-d3dc-4daf-9956-74ddf22d6f79"
      },
      "execution_count": 47,
      "outputs": [
        {
          "output_type": "stream",
          "name": "stdout",
          "text": [
            "Accuracy Score of Ada Boost Classifier is : 0.9043435822352367\n",
            "Confusion Matrix : \n",
            "[[1160   87]\n",
            " [ 109  693]]\n",
            "Classification Report : \n",
            "              precision    recall  f1-score   support\n",
            "\n",
            "           1       0.91      0.93      0.92      1247\n",
            "           2       0.89      0.86      0.88       802\n",
            "\n",
            "    accuracy                           0.90      2049\n",
            "   macro avg       0.90      0.90      0.90      2049\n",
            "weighted avg       0.90      0.90      0.90      2049\n",
            "\n"
          ]
        }
      ]
    },
    {
      "cell_type": "markdown",
      "source": [
        "**Models Comparison**"
      ],
      "metadata": {
        "id": "EgES7ORQavwg"
      }
    },
    {
      "cell_type": "code",
      "source": [
        "models = pd.DataFrame({\n",
        "    'Model' : ['Logistic Regression', 'KNN', 'Decision Tree Classifier', 'Random Forest Classifier','Ada Boost Classifier',\n",
        "             'Gradient Boosting Classifier', 'Cat Boost', 'Extra Trees Classifier', 'LGBM'],\n",
        "    'Score' : [acc_lr, acc_knn, acc_dtc, acc_rd_clf, acc_ada, acc_gb, acc_cat, acc_etc, acc_lgbm]\n",
        "})\n",
        "\n",
        "\n",
        "models.sort_values(by = 'Score', ascending = False)"
      ],
      "metadata": {
        "colab": {
          "base_uri": "https://localhost:8080/",
          "height": 331
        },
        "id": "x_fnYxXuayJE",
        "outputId": "6cb55c64-d946-455b-b7c8-d7f7b0532ccc"
      },
      "execution_count": 48,
      "outputs": [
        {
          "output_type": "execute_result",
          "data": {
            "text/plain": [
              "                          Model     Score\n",
              "8                          LGBM  0.904344\n",
              "6                     Cat Boost  0.879941\n",
              "5  Gradient Boosting Classifier  0.862860\n",
              "3      Random Forest Classifier  0.850659\n",
              "7        Extra Trees Classifier  0.829673\n",
              "2      Decision Tree Classifier  0.795022\n",
              "4          Ada Boost Classifier  0.786725\n",
              "0           Logistic Regression  0.644217\n",
              "1                           KNN  0.594924"
            ],
            "text/html": [
              "\n",
              "  <div id=\"df-39dd4f0b-6d04-41ea-8873-b8aeebcc4094\">\n",
              "    <div class=\"colab-df-container\">\n",
              "      <div>\n",
              "<style scoped>\n",
              "    .dataframe tbody tr th:only-of-type {\n",
              "        vertical-align: middle;\n",
              "    }\n",
              "\n",
              "    .dataframe tbody tr th {\n",
              "        vertical-align: top;\n",
              "    }\n",
              "\n",
              "    .dataframe thead th {\n",
              "        text-align: right;\n",
              "    }\n",
              "</style>\n",
              "<table border=\"1\" class=\"dataframe\">\n",
              "  <thead>\n",
              "    <tr style=\"text-align: right;\">\n",
              "      <th></th>\n",
              "      <th>Model</th>\n",
              "      <th>Score</th>\n",
              "    </tr>\n",
              "  </thead>\n",
              "  <tbody>\n",
              "    <tr>\n",
              "      <th>8</th>\n",
              "      <td>LGBM</td>\n",
              "      <td>0.904344</td>\n",
              "    </tr>\n",
              "    <tr>\n",
              "      <th>6</th>\n",
              "      <td>Cat Boost</td>\n",
              "      <td>0.879941</td>\n",
              "    </tr>\n",
              "    <tr>\n",
              "      <th>5</th>\n",
              "      <td>Gradient Boosting Classifier</td>\n",
              "      <td>0.862860</td>\n",
              "    </tr>\n",
              "    <tr>\n",
              "      <th>3</th>\n",
              "      <td>Random Forest Classifier</td>\n",
              "      <td>0.850659</td>\n",
              "    </tr>\n",
              "    <tr>\n",
              "      <th>7</th>\n",
              "      <td>Extra Trees Classifier</td>\n",
              "      <td>0.829673</td>\n",
              "    </tr>\n",
              "    <tr>\n",
              "      <th>2</th>\n",
              "      <td>Decision Tree Classifier</td>\n",
              "      <td>0.795022</td>\n",
              "    </tr>\n",
              "    <tr>\n",
              "      <th>4</th>\n",
              "      <td>Ada Boost Classifier</td>\n",
              "      <td>0.786725</td>\n",
              "    </tr>\n",
              "    <tr>\n",
              "      <th>0</th>\n",
              "      <td>Logistic Regression</td>\n",
              "      <td>0.644217</td>\n",
              "    </tr>\n",
              "    <tr>\n",
              "      <th>1</th>\n",
              "      <td>KNN</td>\n",
              "      <td>0.594924</td>\n",
              "    </tr>\n",
              "  </tbody>\n",
              "</table>\n",
              "</div>\n",
              "      <button class=\"colab-df-convert\" onclick=\"convertToInteractive('df-39dd4f0b-6d04-41ea-8873-b8aeebcc4094')\"\n",
              "              title=\"Convert this dataframe to an interactive table.\"\n",
              "              style=\"display:none;\">\n",
              "        \n",
              "  <svg xmlns=\"http://www.w3.org/2000/svg\" height=\"24px\"viewBox=\"0 0 24 24\"\n",
              "       width=\"24px\">\n",
              "    <path d=\"M0 0h24v24H0V0z\" fill=\"none\"/>\n",
              "    <path d=\"M18.56 5.44l.94 2.06.94-2.06 2.06-.94-2.06-.94-.94-2.06-.94 2.06-2.06.94zm-11 1L8.5 8.5l.94-2.06 2.06-.94-2.06-.94L8.5 2.5l-.94 2.06-2.06.94zm10 10l.94 2.06.94-2.06 2.06-.94-2.06-.94-.94-2.06-.94 2.06-2.06.94z\"/><path d=\"M17.41 7.96l-1.37-1.37c-.4-.4-.92-.59-1.43-.59-.52 0-1.04.2-1.43.59L10.3 9.45l-7.72 7.72c-.78.78-.78 2.05 0 2.83L4 21.41c.39.39.9.59 1.41.59.51 0 1.02-.2 1.41-.59l7.78-7.78 2.81-2.81c.8-.78.8-2.07 0-2.86zM5.41 20L4 18.59l7.72-7.72 1.47 1.35L5.41 20z\"/>\n",
              "  </svg>\n",
              "      </button>\n",
              "      \n",
              "  <style>\n",
              "    .colab-df-container {\n",
              "      display:flex;\n",
              "      flex-wrap:wrap;\n",
              "      gap: 12px;\n",
              "    }\n",
              "\n",
              "    .colab-df-convert {\n",
              "      background-color: #E8F0FE;\n",
              "      border: none;\n",
              "      border-radius: 50%;\n",
              "      cursor: pointer;\n",
              "      display: none;\n",
              "      fill: #1967D2;\n",
              "      height: 32px;\n",
              "      padding: 0 0 0 0;\n",
              "      width: 32px;\n",
              "    }\n",
              "\n",
              "    .colab-df-convert:hover {\n",
              "      background-color: #E2EBFA;\n",
              "      box-shadow: 0px 1px 2px rgba(60, 64, 67, 0.3), 0px 1px 3px 1px rgba(60, 64, 67, 0.15);\n",
              "      fill: #174EA6;\n",
              "    }\n",
              "\n",
              "    [theme=dark] .colab-df-convert {\n",
              "      background-color: #3B4455;\n",
              "      fill: #D2E3FC;\n",
              "    }\n",
              "\n",
              "    [theme=dark] .colab-df-convert:hover {\n",
              "      background-color: #434B5C;\n",
              "      box-shadow: 0px 1px 3px 1px rgba(0, 0, 0, 0.15);\n",
              "      filter: drop-shadow(0px 1px 2px rgba(0, 0, 0, 0.3));\n",
              "      fill: #FFFFFF;\n",
              "    }\n",
              "  </style>\n",
              "\n",
              "      <script>\n",
              "        const buttonEl =\n",
              "          document.querySelector('#df-39dd4f0b-6d04-41ea-8873-b8aeebcc4094 button.colab-df-convert');\n",
              "        buttonEl.style.display =\n",
              "          google.colab.kernel.accessAllowed ? 'block' : 'none';\n",
              "\n",
              "        async function convertToInteractive(key) {\n",
              "          const element = document.querySelector('#df-39dd4f0b-6d04-41ea-8873-b8aeebcc4094');\n",
              "          const dataTable =\n",
              "            await google.colab.kernel.invokeFunction('convertToInteractive',\n",
              "                                                     [key], {});\n",
              "          if (!dataTable) return;\n",
              "\n",
              "          const docLinkHtml = 'Like what you see? Visit the ' +\n",
              "            '<a target=\"_blank\" href=https://colab.research.google.com/notebooks/data_table.ipynb>data table notebook</a>'\n",
              "            + ' to learn more about interactive tables.';\n",
              "          element.innerHTML = '';\n",
              "          dataTable['output_type'] = 'display_data';\n",
              "          await google.colab.output.renderOutput(dataTable, element);\n",
              "          const docLink = document.createElement('div');\n",
              "          docLink.innerHTML = docLinkHtml;\n",
              "          element.appendChild(docLink);\n",
              "        }\n",
              "      </script>\n",
              "    </div>\n",
              "  </div>\n",
              "  "
            ]
          },
          "metadata": {},
          "execution_count": 48
        }
      ]
    },
    {
      "cell_type": "code",
      "source": [
        "px.bar(data_frame = models, x = 'Score', y = 'Model', color = 'Score', template = 'plotly_dark', title = 'Models Comparison')"
      ],
      "metadata": {
        "colab": {
          "base_uri": "https://localhost:8080/",
          "height": 542
        },
        "id": "sJyz2tVQc-F3",
        "outputId": "25ab590f-744c-48e2-d847-2766d3dff16e"
      },
      "execution_count": 49,
      "outputs": [
        {
          "output_type": "display_data",
          "data": {
            "text/html": [
              "<html>\n",
              "<head><meta charset=\"utf-8\" /></head>\n",
              "<body>\n",
              "    <div>            <script src=\"https://cdnjs.cloudflare.com/ajax/libs/mathjax/2.7.5/MathJax.js?config=TeX-AMS-MML_SVG\"></script><script type=\"text/javascript\">if (window.MathJax && window.MathJax.Hub && window.MathJax.Hub.Config) {window.MathJax.Hub.Config({SVG: {font: \"STIX-Web\"}});}</script>                <script type=\"text/javascript\">window.PlotlyConfig = {MathJaxConfig: 'local'};</script>\n",
              "        <script src=\"https://cdn.plot.ly/plotly-2.18.2.min.js\"></script>                <div id=\"07897bf1-2b06-426b-b992-0f44bb2c8b90\" class=\"plotly-graph-div\" style=\"height:525px; width:100%;\"></div>            <script type=\"text/javascript\">                                    window.PLOTLYENV=window.PLOTLYENV || {};                                    if (document.getElementById(\"07897bf1-2b06-426b-b992-0f44bb2c8b90\")) {                    Plotly.newPlot(                        \"07897bf1-2b06-426b-b992-0f44bb2c8b90\",                        [{\"alignmentgroup\":\"True\",\"hovertemplate\":\"Score=%{marker.color}<br>Model=%{y}<extra></extra>\",\"legendgroup\":\"\",\"marker\":{\"color\":[0.6442166910688141,0.5949243533430942,0.7950219619326501,0.8506588579795022,0.7867252318204002,0.8628599316739873,0.8799414348462665,0.8296730112249878,0.9043435822352367],\"coloraxis\":\"coloraxis\",\"pattern\":{\"shape\":\"\"}},\"name\":\"\",\"offsetgroup\":\"\",\"orientation\":\"h\",\"showlegend\":false,\"textposition\":\"auto\",\"x\":[0.6442166910688141,0.5949243533430942,0.7950219619326501,0.8506588579795022,0.7867252318204002,0.8628599316739873,0.8799414348462665,0.8296730112249878,0.9043435822352367],\"xaxis\":\"x\",\"y\":[\"Logistic Regression\",\"KNN\",\"Decision Tree Classifier\",\"Random Forest Classifier\",\"Ada Boost Classifier\",\"Gradient Boosting Classifier\",\"Cat Boost\",\"Extra Trees Classifier\",\"LGBM\"],\"yaxis\":\"y\",\"type\":\"bar\"}],                        {\"template\":{\"data\":{\"barpolar\":[{\"marker\":{\"line\":{\"color\":\"rgb(17,17,17)\",\"width\":0.5},\"pattern\":{\"fillmode\":\"overlay\",\"size\":10,\"solidity\":0.2}},\"type\":\"barpolar\"}],\"bar\":[{\"error_x\":{\"color\":\"#f2f5fa\"},\"error_y\":{\"color\":\"#f2f5fa\"},\"marker\":{\"line\":{\"color\":\"rgb(17,17,17)\",\"width\":0.5},\"pattern\":{\"fillmode\":\"overlay\",\"size\":10,\"solidity\":0.2}},\"type\":\"bar\"}],\"carpet\":[{\"aaxis\":{\"endlinecolor\":\"#A2B1C6\",\"gridcolor\":\"#506784\",\"linecolor\":\"#506784\",\"minorgridcolor\":\"#506784\",\"startlinecolor\":\"#A2B1C6\"},\"baxis\":{\"endlinecolor\":\"#A2B1C6\",\"gridcolor\":\"#506784\",\"linecolor\":\"#506784\",\"minorgridcolor\":\"#506784\",\"startlinecolor\":\"#A2B1C6\"},\"type\":\"carpet\"}],\"choropleth\":[{\"colorbar\":{\"outlinewidth\":0,\"ticks\":\"\"},\"type\":\"choropleth\"}],\"contourcarpet\":[{\"colorbar\":{\"outlinewidth\":0,\"ticks\":\"\"},\"type\":\"contourcarpet\"}],\"contour\":[{\"colorbar\":{\"outlinewidth\":0,\"ticks\":\"\"},\"colorscale\":[[0.0,\"#0d0887\"],[0.1111111111111111,\"#46039f\"],[0.2222222222222222,\"#7201a8\"],[0.3333333333333333,\"#9c179e\"],[0.4444444444444444,\"#bd3786\"],[0.5555555555555556,\"#d8576b\"],[0.6666666666666666,\"#ed7953\"],[0.7777777777777778,\"#fb9f3a\"],[0.8888888888888888,\"#fdca26\"],[1.0,\"#f0f921\"]],\"type\":\"contour\"}],\"heatmapgl\":[{\"colorbar\":{\"outlinewidth\":0,\"ticks\":\"\"},\"colorscale\":[[0.0,\"#0d0887\"],[0.1111111111111111,\"#46039f\"],[0.2222222222222222,\"#7201a8\"],[0.3333333333333333,\"#9c179e\"],[0.4444444444444444,\"#bd3786\"],[0.5555555555555556,\"#d8576b\"],[0.6666666666666666,\"#ed7953\"],[0.7777777777777778,\"#fb9f3a\"],[0.8888888888888888,\"#fdca26\"],[1.0,\"#f0f921\"]],\"type\":\"heatmapgl\"}],\"heatmap\":[{\"colorbar\":{\"outlinewidth\":0,\"ticks\":\"\"},\"colorscale\":[[0.0,\"#0d0887\"],[0.1111111111111111,\"#46039f\"],[0.2222222222222222,\"#7201a8\"],[0.3333333333333333,\"#9c179e\"],[0.4444444444444444,\"#bd3786\"],[0.5555555555555556,\"#d8576b\"],[0.6666666666666666,\"#ed7953\"],[0.7777777777777778,\"#fb9f3a\"],[0.8888888888888888,\"#fdca26\"],[1.0,\"#f0f921\"]],\"type\":\"heatmap\"}],\"histogram2dcontour\":[{\"colorbar\":{\"outlinewidth\":0,\"ticks\":\"\"},\"colorscale\":[[0.0,\"#0d0887\"],[0.1111111111111111,\"#46039f\"],[0.2222222222222222,\"#7201a8\"],[0.3333333333333333,\"#9c179e\"],[0.4444444444444444,\"#bd3786\"],[0.5555555555555556,\"#d8576b\"],[0.6666666666666666,\"#ed7953\"],[0.7777777777777778,\"#fb9f3a\"],[0.8888888888888888,\"#fdca26\"],[1.0,\"#f0f921\"]],\"type\":\"histogram2dcontour\"}],\"histogram2d\":[{\"colorbar\":{\"outlinewidth\":0,\"ticks\":\"\"},\"colorscale\":[[0.0,\"#0d0887\"],[0.1111111111111111,\"#46039f\"],[0.2222222222222222,\"#7201a8\"],[0.3333333333333333,\"#9c179e\"],[0.4444444444444444,\"#bd3786\"],[0.5555555555555556,\"#d8576b\"],[0.6666666666666666,\"#ed7953\"],[0.7777777777777778,\"#fb9f3a\"],[0.8888888888888888,\"#fdca26\"],[1.0,\"#f0f921\"]],\"type\":\"histogram2d\"}],\"histogram\":[{\"marker\":{\"pattern\":{\"fillmode\":\"overlay\",\"size\":10,\"solidity\":0.2}},\"type\":\"histogram\"}],\"mesh3d\":[{\"colorbar\":{\"outlinewidth\":0,\"ticks\":\"\"},\"type\":\"mesh3d\"}],\"parcoords\":[{\"line\":{\"colorbar\":{\"outlinewidth\":0,\"ticks\":\"\"}},\"type\":\"parcoords\"}],\"pie\":[{\"automargin\":true,\"type\":\"pie\"}],\"scatter3d\":[{\"line\":{\"colorbar\":{\"outlinewidth\":0,\"ticks\":\"\"}},\"marker\":{\"colorbar\":{\"outlinewidth\":0,\"ticks\":\"\"}},\"type\":\"scatter3d\"}],\"scattercarpet\":[{\"marker\":{\"colorbar\":{\"outlinewidth\":0,\"ticks\":\"\"}},\"type\":\"scattercarpet\"}],\"scattergeo\":[{\"marker\":{\"colorbar\":{\"outlinewidth\":0,\"ticks\":\"\"}},\"type\":\"scattergeo\"}],\"scattergl\":[{\"marker\":{\"line\":{\"color\":\"#283442\"}},\"type\":\"scattergl\"}],\"scattermapbox\":[{\"marker\":{\"colorbar\":{\"outlinewidth\":0,\"ticks\":\"\"}},\"type\":\"scattermapbox\"}],\"scatterpolargl\":[{\"marker\":{\"colorbar\":{\"outlinewidth\":0,\"ticks\":\"\"}},\"type\":\"scatterpolargl\"}],\"scatterpolar\":[{\"marker\":{\"colorbar\":{\"outlinewidth\":0,\"ticks\":\"\"}},\"type\":\"scatterpolar\"}],\"scatter\":[{\"marker\":{\"line\":{\"color\":\"#283442\"}},\"type\":\"scatter\"}],\"scatterternary\":[{\"marker\":{\"colorbar\":{\"outlinewidth\":0,\"ticks\":\"\"}},\"type\":\"scatterternary\"}],\"surface\":[{\"colorbar\":{\"outlinewidth\":0,\"ticks\":\"\"},\"colorscale\":[[0.0,\"#0d0887\"],[0.1111111111111111,\"#46039f\"],[0.2222222222222222,\"#7201a8\"],[0.3333333333333333,\"#9c179e\"],[0.4444444444444444,\"#bd3786\"],[0.5555555555555556,\"#d8576b\"],[0.6666666666666666,\"#ed7953\"],[0.7777777777777778,\"#fb9f3a\"],[0.8888888888888888,\"#fdca26\"],[1.0,\"#f0f921\"]],\"type\":\"surface\"}],\"table\":[{\"cells\":{\"fill\":{\"color\":\"#506784\"},\"line\":{\"color\":\"rgb(17,17,17)\"}},\"header\":{\"fill\":{\"color\":\"#2a3f5f\"},\"line\":{\"color\":\"rgb(17,17,17)\"}},\"type\":\"table\"}]},\"layout\":{\"annotationdefaults\":{\"arrowcolor\":\"#f2f5fa\",\"arrowhead\":0,\"arrowwidth\":1},\"autotypenumbers\":\"strict\",\"coloraxis\":{\"colorbar\":{\"outlinewidth\":0,\"ticks\":\"\"}},\"colorscale\":{\"diverging\":[[0,\"#8e0152\"],[0.1,\"#c51b7d\"],[0.2,\"#de77ae\"],[0.3,\"#f1b6da\"],[0.4,\"#fde0ef\"],[0.5,\"#f7f7f7\"],[0.6,\"#e6f5d0\"],[0.7,\"#b8e186\"],[0.8,\"#7fbc41\"],[0.9,\"#4d9221\"],[1,\"#276419\"]],\"sequential\":[[0.0,\"#0d0887\"],[0.1111111111111111,\"#46039f\"],[0.2222222222222222,\"#7201a8\"],[0.3333333333333333,\"#9c179e\"],[0.4444444444444444,\"#bd3786\"],[0.5555555555555556,\"#d8576b\"],[0.6666666666666666,\"#ed7953\"],[0.7777777777777778,\"#fb9f3a\"],[0.8888888888888888,\"#fdca26\"],[1.0,\"#f0f921\"]],\"sequentialminus\":[[0.0,\"#0d0887\"],[0.1111111111111111,\"#46039f\"],[0.2222222222222222,\"#7201a8\"],[0.3333333333333333,\"#9c179e\"],[0.4444444444444444,\"#bd3786\"],[0.5555555555555556,\"#d8576b\"],[0.6666666666666666,\"#ed7953\"],[0.7777777777777778,\"#fb9f3a\"],[0.8888888888888888,\"#fdca26\"],[1.0,\"#f0f921\"]]},\"colorway\":[\"#636efa\",\"#EF553B\",\"#00cc96\",\"#ab63fa\",\"#FFA15A\",\"#19d3f3\",\"#FF6692\",\"#B6E880\",\"#FF97FF\",\"#FECB52\"],\"font\":{\"color\":\"#f2f5fa\"},\"geo\":{\"bgcolor\":\"rgb(17,17,17)\",\"lakecolor\":\"rgb(17,17,17)\",\"landcolor\":\"rgb(17,17,17)\",\"showlakes\":true,\"showland\":true,\"subunitcolor\":\"#506784\"},\"hoverlabel\":{\"align\":\"left\"},\"hovermode\":\"closest\",\"mapbox\":{\"style\":\"dark\"},\"paper_bgcolor\":\"rgb(17,17,17)\",\"plot_bgcolor\":\"rgb(17,17,17)\",\"polar\":{\"angularaxis\":{\"gridcolor\":\"#506784\",\"linecolor\":\"#506784\",\"ticks\":\"\"},\"bgcolor\":\"rgb(17,17,17)\",\"radialaxis\":{\"gridcolor\":\"#506784\",\"linecolor\":\"#506784\",\"ticks\":\"\"}},\"scene\":{\"xaxis\":{\"backgroundcolor\":\"rgb(17,17,17)\",\"gridcolor\":\"#506784\",\"gridwidth\":2,\"linecolor\":\"#506784\",\"showbackground\":true,\"ticks\":\"\",\"zerolinecolor\":\"#C8D4E3\"},\"yaxis\":{\"backgroundcolor\":\"rgb(17,17,17)\",\"gridcolor\":\"#506784\",\"gridwidth\":2,\"linecolor\":\"#506784\",\"showbackground\":true,\"ticks\":\"\",\"zerolinecolor\":\"#C8D4E3\"},\"zaxis\":{\"backgroundcolor\":\"rgb(17,17,17)\",\"gridcolor\":\"#506784\",\"gridwidth\":2,\"linecolor\":\"#506784\",\"showbackground\":true,\"ticks\":\"\",\"zerolinecolor\":\"#C8D4E3\"}},\"shapedefaults\":{\"line\":{\"color\":\"#f2f5fa\"}},\"sliderdefaults\":{\"bgcolor\":\"#C8D4E3\",\"bordercolor\":\"rgb(17,17,17)\",\"borderwidth\":1,\"tickwidth\":0},\"ternary\":{\"aaxis\":{\"gridcolor\":\"#506784\",\"linecolor\":\"#506784\",\"ticks\":\"\"},\"baxis\":{\"gridcolor\":\"#506784\",\"linecolor\":\"#506784\",\"ticks\":\"\"},\"bgcolor\":\"rgb(17,17,17)\",\"caxis\":{\"gridcolor\":\"#506784\",\"linecolor\":\"#506784\",\"ticks\":\"\"}},\"title\":{\"x\":0.05},\"updatemenudefaults\":{\"bgcolor\":\"#506784\",\"borderwidth\":0},\"xaxis\":{\"automargin\":true,\"gridcolor\":\"#283442\",\"linecolor\":\"#506784\",\"ticks\":\"\",\"title\":{\"standoff\":15},\"zerolinecolor\":\"#283442\",\"zerolinewidth\":2},\"yaxis\":{\"automargin\":true,\"gridcolor\":\"#283442\",\"linecolor\":\"#506784\",\"ticks\":\"\",\"title\":{\"standoff\":15},\"zerolinecolor\":\"#283442\",\"zerolinewidth\":2}}},\"xaxis\":{\"anchor\":\"y\",\"domain\":[0.0,1.0],\"title\":{\"text\":\"Score\"}},\"yaxis\":{\"anchor\":\"x\",\"domain\":[0.0,1.0],\"title\":{\"text\":\"Model\"}},\"coloraxis\":{\"colorbar\":{\"title\":{\"text\":\"Score\"}},\"colorscale\":[[0.0,\"#0d0887\"],[0.1111111111111111,\"#46039f\"],[0.2222222222222222,\"#7201a8\"],[0.3333333333333333,\"#9c179e\"],[0.4444444444444444,\"#bd3786\"],[0.5555555555555556,\"#d8576b\"],[0.6666666666666666,\"#ed7953\"],[0.7777777777777778,\"#fb9f3a\"],[0.8888888888888888,\"#fdca26\"],[1.0,\"#f0f921\"]]},\"legend\":{\"tracegroupgap\":0},\"title\":{\"text\":\"Models Comparison\"},\"barmode\":\"relative\"},                        {\"responsive\": true}                    ).then(function(){\n",
              "                            \n",
              "var gd = document.getElementById('07897bf1-2b06-426b-b992-0f44bb2c8b90');\n",
              "var x = new MutationObserver(function (mutations, observer) {{\n",
              "        var display = window.getComputedStyle(gd).display;\n",
              "        if (!display || display === 'none') {{\n",
              "            console.log([gd, 'removed!']);\n",
              "            Plotly.purge(gd);\n",
              "            observer.disconnect();\n",
              "        }}\n",
              "}});\n",
              "\n",
              "// Listen for the removal of the full notebook cells\n",
              "var notebookContainer = gd.closest('#notebook-container');\n",
              "if (notebookContainer) {{\n",
              "    x.observe(notebookContainer, {childList: true});\n",
              "}}\n",
              "\n",
              "// Listen for the clearing of the current output cell\n",
              "var outputEl = gd.closest('.output');\n",
              "if (outputEl) {{\n",
              "    x.observe(outputEl, {childList: true});\n",
              "}}\n",
              "\n",
              "                        })                };                            </script>        </div>\n",
              "</body>\n",
              "</html>"
            ]
          },
          "metadata": {}
        }
      ]
    },
    {
      "cell_type": "code",
      "source": [],
      "metadata": {
        "id": "mUgfQ6IOdgs0"
      },
      "execution_count": 49,
      "outputs": []
    }
  ]
}