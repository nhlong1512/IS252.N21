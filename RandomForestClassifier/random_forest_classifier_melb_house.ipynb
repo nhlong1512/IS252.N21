{
  "nbformat": 4,
  "nbformat_minor": 0,
  "metadata": {
    "colab": {
      "provenance": [],
      "authorship_tag": "ABX9TyNASoSrotISJx5RExM5HRNA",
      "include_colab_link": true
    },
    "kernelspec": {
      "name": "python3",
      "display_name": "Python 3"
    },
    "language_info": {
      "name": "python"
    }
  },
  "cells": [
    {
      "cell_type": "markdown",
      "metadata": {
        "id": "view-in-github",
        "colab_type": "text"
      },
      "source": [
        "<a href=\"https://colab.research.google.com/github/nhlong1512/IS252.N21/blob/main/RandomForestClassifier/random_forest_classifier_melb_house.ipynb\" target=\"_parent\"><img src=\"https://colab.research.google.com/assets/colab-badge.svg\" alt=\"Open In Colab\"/></a>"
      ]
    },
    {
      "cell_type": "markdown",
      "source": [
        "<h3>'Price': Giá nhà, ví dụ: 0 (Bé hơn giá trung bình), 1 (Lớn hơn giá trung bình)\n",
        "<br>\n",
        "Với đề tài của em là quyết định loại nhà, em có thể chọn các biến phụ thuộc sau:\n",
        "<br>\n",
        "1. 'Rooms': Số lượng phòng ngủ trong nhà.\n",
        "<br>\n",
        "2. 'Distance': Khoảng cách từ nhà đến trung tâm thành phố hoặc điểm quan trọng gần nhất.\n",
        "<br>\n",
        "3. 'Bathroom': Số lượng phòng tắm trong nhà.\n",
        "<br>\n",
        "4. 'Car': Số lượng chỗ đậu xe trong nhà.\n",
        "<br>\n",
        "5. 'Landsize': Diện tích đất.\n",
        "<br>\n",
        "6. 'BuildingArea': Diện tích xây dựng của nhà.\n",
        "<br>\n",
        "7. 'YearBuilt': Năm xây dựng nhà.\n",
        "<br>\n",
        "8. 'Regionname': Tên khu vực của nhà.\n",
        "</h3>"
      ],
      "metadata": {
        "id": "3pJYgml4pFbX"
      }
    },
    {
      "cell_type": "markdown",
      "source": [
        "Import libraries \n"
      ],
      "metadata": {
        "id": "3EhIqlEAbrAh"
      }
    },
    {
      "cell_type": "code",
      "source": [
        "# This Python 3 environment comes with many helpful analytics libraries installed\n",
        "# It is defined by the kaggle/python docker image: https://github.com/kaggle/docker-python\n",
        "# For example, here's several helpful packages to load in \n",
        "\n",
        "import numpy as np # linear algebra\n",
        "import pandas as pd # data processing, CSV file I/O (e.g. pd.read_csv)\n",
        "import matplotlib.pyplot as plt # data visualization\n",
        "import seaborn as sns # statistical data visualization\n",
        "%matplotlib inline\n",
        "\n",
        "# Input data files are available in the \"../input/\" directory.\n",
        "# For example, running this (by clicking run or pressing Shift+Enter) will list all files under the input directory\n"
      ],
      "metadata": {
        "id": "Lt4USorHbsgl"
      },
      "execution_count": null,
      "outputs": []
    },
    {
      "cell_type": "markdown",
      "source": [
        "Tính trung bình cộng price "
      ],
      "metadata": {
        "id": "oe08_Dl1vcjN"
      }
    },
    {
      "cell_type": "code",
      "source": [
        "# Đọc dữ liệu từ file CSV vào DataFrame\n",
        "df = pd.read_csv('melb_data1.csv')\n",
        "\n",
        "# Tính trung bình cộng giá\n",
        "average_price = df['Price'].mean()\n",
        "\n",
        "print(f\"Trung bình cộng giá: {average_price}\")"
      ],
      "metadata": {
        "colab": {
          "base_uri": "https://localhost:8080/"
        },
        "id": "Mp4P2-ckvB96",
        "outputId": "ce2577b7-8410-4a62-81eb-7fd23002d649"
      },
      "execution_count": null,
      "outputs": [
        {
          "output_type": "stream",
          "name": "stdout",
          "text": [
            "Trung bình cộng giá: 1075684.079455081\n"
          ]
        }
      ]
    },
    {
      "cell_type": "markdown",
      "source": [
        "Mã hóa bộ dữ liệu với giá bé hơn trung bình là 0 và lớn hơn là 1"
      ],
      "metadata": {
        "id": "KyW52P9yvfN6"
      }
    },
    {
      "cell_type": "code",
      "source": [
        "def encode_price(value):\n",
        "    if value < average_price:\n",
        "        return 0\n",
        "    else:\n",
        "        return 1\n",
        "\n",
        "# Áp dụng hàm mã hóa lên cột Price\n",
        "df['Encoded_Price'] = df['Price'].apply(encode_price)\n",
        "\n",
        "print(df)"
      ],
      "metadata": {
        "colab": {
          "base_uri": "https://localhost:8080/"
        },
        "id": "ok57yWLjvusU",
        "outputId": "df2e91c0-be89-43ed-9dfa-6332b4d50af3"
      },
      "execution_count": null,
      "outputs": [
        {
          "output_type": "stream",
          "name": "stdout",
          "text": [
            "               Suburb            Address  Rooms Type    Price        SellerG  \\\n",
            "0        Airport West      154 Halsey Rd      3    t   840000         Nelson   \n",
            "1         Albert Park     105 Kerferd Rd      2    h  1275000  hockingstuart   \n",
            "2         Albert Park   85 Richardson St      2    h  1455000        Thomson   \n",
            "3          Alphington         6 Smith St      4    h  2000000          Brace   \n",
            "4          Alphington    5/6 Yarralea St      3    h  1110000         Jellis   \n",
            "...               ...                ...    ...  ...      ...            ...   \n",
            "13575  West Footscray    32 Richelieu St      5    h  1030000        Village   \n",
            "13576  West Footscray     121 Suffolk St      3    h   878000        Village   \n",
            "13577          Albion       3 Barclay St      2    h   460000          Barry   \n",
            "13578          Albion     5/25 Ridley St      2    u   190000        Burnham   \n",
            "13579        Oakleigh  9/126 Atherton Rd      3    u   665000        O'Brien   \n",
            "\n",
            "             Date  Distance  Postcode  Bathroom  Car  Landsize  BuildingArea  \\\n",
            "0        3/9/2016      13.5      3042         2  1.0       303         225.0   \n",
            "1        3/9/2016       3.3      3206         1  0.0       120          82.0   \n",
            "2        3/9/2016       3.3      3206         1  0.0       159           NaN   \n",
            "3        3/9/2016       6.4      3078         2  4.0       853         263.0   \n",
            "4        3/9/2016       6.4      3078         2  2.0       208           NaN   \n",
            "...           ...       ...       ...       ...  ...       ...           ...   \n",
            "13575  30/07/2016       8.2      3012         2  2.0       352           NaN   \n",
            "13576  30/07/2016       8.2      3012         1  1.0       397         127.0   \n",
            "13577  30/07/2016      13.9      3020         1  2.0       463          85.0   \n",
            "13578  30/07/2016      13.9      3020         1  1.0         0           NaN   \n",
            "13579  30/07/2016      14.0      3166         1  1.0       112           NaN   \n",
            "\n",
            "       YearBuilt    CouncilArea  Lattitude  Longtitude             Regionname  \\\n",
            "0         2016.0  Moonee Valley   -37.7180    144.8780   Western Metropolitan   \n",
            "1         1900.0   Port Phillip   -37.8459    144.9555  Southern Metropolitan   \n",
            "2            NaN   Port Phillip   -37.8450    144.9538  Southern Metropolitan   \n",
            "3         1930.0        Darebin   -37.7707    145.0318  Northern Metropolitan   \n",
            "4         2013.0          Yarra   -37.7854    145.0325  Northern Metropolitan   \n",
            "...          ...            ...        ...         ...                    ...   \n",
            "13575        NaN    Maribyrnong   -37.7908    144.8711   Western Metropolitan   \n",
            "13576     1960.0    Maribyrnong   -37.7901    144.8682   Western Metropolitan   \n",
            "13577        NaN       Brimbank   -37.7813    144.8234   Western Metropolitan   \n",
            "13578        NaN       Brimbank   -37.7839    144.8239   Western Metropolitan   \n",
            "13579        NaN         Monash   -37.9008    145.0980  Southern Metropolitan   \n",
            "\n",
            "       Propertycount  Encoded_Price  \n",
            "0               3464              0  \n",
            "1               3280              1  \n",
            "2               3280              1  \n",
            "3               2211              1  \n",
            "4               2211              1  \n",
            "...              ...            ...  \n",
            "13575           5058              0  \n",
            "13576           5058              0  \n",
            "13577           2185              0  \n",
            "13578           2185              0  \n",
            "13579           3224              0  \n",
            "\n",
            "[13580 rows x 20 columns]\n"
          ]
        }
      ]
    },
    {
      "cell_type": "code",
      "source": [
        "import warnings\n",
        "\n",
        "warnings.filterwarnings('ignore')"
      ],
      "metadata": {
        "id": "-1k6zQkpbwFz"
      },
      "execution_count": null,
      "outputs": []
    },
    {
      "cell_type": "markdown",
      "source": [
        "Import dataset\n"
      ],
      "metadata": {
        "id": "xjpQIs1ccuRf"
      }
    },
    {
      "cell_type": "code",
      "source": [
        "df"
      ],
      "metadata": {
        "colab": {
          "base_uri": "https://localhost:8080/",
          "height": 713
        },
        "id": "J3jeBoBhbzxm",
        "outputId": "48709ba1-4157-40d9-9520-18037386b09c"
      },
      "execution_count": null,
      "outputs": [
        {
          "output_type": "execute_result",
          "data": {
            "text/plain": [
              "               Suburb            Address  Rooms Type    Price        SellerG  \\\n",
              "0        Airport West      154 Halsey Rd      3    t   840000         Nelson   \n",
              "1         Albert Park     105 Kerferd Rd      2    h  1275000  hockingstuart   \n",
              "2         Albert Park   85 Richardson St      2    h  1455000        Thomson   \n",
              "3          Alphington         6 Smith St      4    h  2000000          Brace   \n",
              "4          Alphington    5/6 Yarralea St      3    h  1110000         Jellis   \n",
              "...               ...                ...    ...  ...      ...            ...   \n",
              "13575  West Footscray    32 Richelieu St      5    h  1030000        Village   \n",
              "13576  West Footscray     121 Suffolk St      3    h   878000        Village   \n",
              "13577          Albion       3 Barclay St      2    h   460000          Barry   \n",
              "13578          Albion     5/25 Ridley St      2    u   190000        Burnham   \n",
              "13579        Oakleigh  9/126 Atherton Rd      3    u   665000        O'Brien   \n",
              "\n",
              "             Date  Distance  Postcode  Bathroom  Car  Landsize  BuildingArea  \\\n",
              "0        3/9/2016      13.5      3042         2  1.0       303         225.0   \n",
              "1        3/9/2016       3.3      3206         1  0.0       120          82.0   \n",
              "2        3/9/2016       3.3      3206         1  0.0       159           NaN   \n",
              "3        3/9/2016       6.4      3078         2  4.0       853         263.0   \n",
              "4        3/9/2016       6.4      3078         2  2.0       208           NaN   \n",
              "...           ...       ...       ...       ...  ...       ...           ...   \n",
              "13575  30/07/2016       8.2      3012         2  2.0       352           NaN   \n",
              "13576  30/07/2016       8.2      3012         1  1.0       397         127.0   \n",
              "13577  30/07/2016      13.9      3020         1  2.0       463          85.0   \n",
              "13578  30/07/2016      13.9      3020         1  1.0         0           NaN   \n",
              "13579  30/07/2016      14.0      3166         1  1.0       112           NaN   \n",
              "\n",
              "       YearBuilt    CouncilArea  Lattitude  Longtitude             Regionname  \\\n",
              "0         2016.0  Moonee Valley   -37.7180    144.8780   Western Metropolitan   \n",
              "1         1900.0   Port Phillip   -37.8459    144.9555  Southern Metropolitan   \n",
              "2            NaN   Port Phillip   -37.8450    144.9538  Southern Metropolitan   \n",
              "3         1930.0        Darebin   -37.7707    145.0318  Northern Metropolitan   \n",
              "4         2013.0          Yarra   -37.7854    145.0325  Northern Metropolitan   \n",
              "...          ...            ...        ...         ...                    ...   \n",
              "13575        NaN    Maribyrnong   -37.7908    144.8711   Western Metropolitan   \n",
              "13576     1960.0    Maribyrnong   -37.7901    144.8682   Western Metropolitan   \n",
              "13577        NaN       Brimbank   -37.7813    144.8234   Western Metropolitan   \n",
              "13578        NaN       Brimbank   -37.7839    144.8239   Western Metropolitan   \n",
              "13579        NaN         Monash   -37.9008    145.0980  Southern Metropolitan   \n",
              "\n",
              "       Propertycount  Encoded_Price  \n",
              "0               3464              0  \n",
              "1               3280              1  \n",
              "2               3280              1  \n",
              "3               2211              1  \n",
              "4               2211              1  \n",
              "...              ...            ...  \n",
              "13575           5058              0  \n",
              "13576           5058              0  \n",
              "13577           2185              0  \n",
              "13578           2185              0  \n",
              "13579           3224              0  \n",
              "\n",
              "[13580 rows x 20 columns]"
            ],
            "text/html": [
              "\n",
              "  <div id=\"df-633caac5-c155-44f4-834f-7d3780fe621a\">\n",
              "    <div class=\"colab-df-container\">\n",
              "      <div>\n",
              "<style scoped>\n",
              "    .dataframe tbody tr th:only-of-type {\n",
              "        vertical-align: middle;\n",
              "    }\n",
              "\n",
              "    .dataframe tbody tr th {\n",
              "        vertical-align: top;\n",
              "    }\n",
              "\n",
              "    .dataframe thead th {\n",
              "        text-align: right;\n",
              "    }\n",
              "</style>\n",
              "<table border=\"1\" class=\"dataframe\">\n",
              "  <thead>\n",
              "    <tr style=\"text-align: right;\">\n",
              "      <th></th>\n",
              "      <th>Suburb</th>\n",
              "      <th>Address</th>\n",
              "      <th>Rooms</th>\n",
              "      <th>Type</th>\n",
              "      <th>Price</th>\n",
              "      <th>SellerG</th>\n",
              "      <th>Date</th>\n",
              "      <th>Distance</th>\n",
              "      <th>Postcode</th>\n",
              "      <th>Bathroom</th>\n",
              "      <th>Car</th>\n",
              "      <th>Landsize</th>\n",
              "      <th>BuildingArea</th>\n",
              "      <th>YearBuilt</th>\n",
              "      <th>CouncilArea</th>\n",
              "      <th>Lattitude</th>\n",
              "      <th>Longtitude</th>\n",
              "      <th>Regionname</th>\n",
              "      <th>Propertycount</th>\n",
              "      <th>Encoded_Price</th>\n",
              "    </tr>\n",
              "  </thead>\n",
              "  <tbody>\n",
              "    <tr>\n",
              "      <th>0</th>\n",
              "      <td>Airport West</td>\n",
              "      <td>154 Halsey Rd</td>\n",
              "      <td>3</td>\n",
              "      <td>t</td>\n",
              "      <td>840000</td>\n",
              "      <td>Nelson</td>\n",
              "      <td>3/9/2016</td>\n",
              "      <td>13.5</td>\n",
              "      <td>3042</td>\n",
              "      <td>2</td>\n",
              "      <td>1.0</td>\n",
              "      <td>303</td>\n",
              "      <td>225.0</td>\n",
              "      <td>2016.0</td>\n",
              "      <td>Moonee Valley</td>\n",
              "      <td>-37.7180</td>\n",
              "      <td>144.8780</td>\n",
              "      <td>Western Metropolitan</td>\n",
              "      <td>3464</td>\n",
              "      <td>0</td>\n",
              "    </tr>\n",
              "    <tr>\n",
              "      <th>1</th>\n",
              "      <td>Albert Park</td>\n",
              "      <td>105 Kerferd Rd</td>\n",
              "      <td>2</td>\n",
              "      <td>h</td>\n",
              "      <td>1275000</td>\n",
              "      <td>hockingstuart</td>\n",
              "      <td>3/9/2016</td>\n",
              "      <td>3.3</td>\n",
              "      <td>3206</td>\n",
              "      <td>1</td>\n",
              "      <td>0.0</td>\n",
              "      <td>120</td>\n",
              "      <td>82.0</td>\n",
              "      <td>1900.0</td>\n",
              "      <td>Port Phillip</td>\n",
              "      <td>-37.8459</td>\n",
              "      <td>144.9555</td>\n",
              "      <td>Southern Metropolitan</td>\n",
              "      <td>3280</td>\n",
              "      <td>1</td>\n",
              "    </tr>\n",
              "    <tr>\n",
              "      <th>2</th>\n",
              "      <td>Albert Park</td>\n",
              "      <td>85 Richardson St</td>\n",
              "      <td>2</td>\n",
              "      <td>h</td>\n",
              "      <td>1455000</td>\n",
              "      <td>Thomson</td>\n",
              "      <td>3/9/2016</td>\n",
              "      <td>3.3</td>\n",
              "      <td>3206</td>\n",
              "      <td>1</td>\n",
              "      <td>0.0</td>\n",
              "      <td>159</td>\n",
              "      <td>NaN</td>\n",
              "      <td>NaN</td>\n",
              "      <td>Port Phillip</td>\n",
              "      <td>-37.8450</td>\n",
              "      <td>144.9538</td>\n",
              "      <td>Southern Metropolitan</td>\n",
              "      <td>3280</td>\n",
              "      <td>1</td>\n",
              "    </tr>\n",
              "    <tr>\n",
              "      <th>3</th>\n",
              "      <td>Alphington</td>\n",
              "      <td>6 Smith St</td>\n",
              "      <td>4</td>\n",
              "      <td>h</td>\n",
              "      <td>2000000</td>\n",
              "      <td>Brace</td>\n",
              "      <td>3/9/2016</td>\n",
              "      <td>6.4</td>\n",
              "      <td>3078</td>\n",
              "      <td>2</td>\n",
              "      <td>4.0</td>\n",
              "      <td>853</td>\n",
              "      <td>263.0</td>\n",
              "      <td>1930.0</td>\n",
              "      <td>Darebin</td>\n",
              "      <td>-37.7707</td>\n",
              "      <td>145.0318</td>\n",
              "      <td>Northern Metropolitan</td>\n",
              "      <td>2211</td>\n",
              "      <td>1</td>\n",
              "    </tr>\n",
              "    <tr>\n",
              "      <th>4</th>\n",
              "      <td>Alphington</td>\n",
              "      <td>5/6 Yarralea St</td>\n",
              "      <td>3</td>\n",
              "      <td>h</td>\n",
              "      <td>1110000</td>\n",
              "      <td>Jellis</td>\n",
              "      <td>3/9/2016</td>\n",
              "      <td>6.4</td>\n",
              "      <td>3078</td>\n",
              "      <td>2</td>\n",
              "      <td>2.0</td>\n",
              "      <td>208</td>\n",
              "      <td>NaN</td>\n",
              "      <td>2013.0</td>\n",
              "      <td>Yarra</td>\n",
              "      <td>-37.7854</td>\n",
              "      <td>145.0325</td>\n",
              "      <td>Northern Metropolitan</td>\n",
              "      <td>2211</td>\n",
              "      <td>1</td>\n",
              "    </tr>\n",
              "    <tr>\n",
              "      <th>...</th>\n",
              "      <td>...</td>\n",
              "      <td>...</td>\n",
              "      <td>...</td>\n",
              "      <td>...</td>\n",
              "      <td>...</td>\n",
              "      <td>...</td>\n",
              "      <td>...</td>\n",
              "      <td>...</td>\n",
              "      <td>...</td>\n",
              "      <td>...</td>\n",
              "      <td>...</td>\n",
              "      <td>...</td>\n",
              "      <td>...</td>\n",
              "      <td>...</td>\n",
              "      <td>...</td>\n",
              "      <td>...</td>\n",
              "      <td>...</td>\n",
              "      <td>...</td>\n",
              "      <td>...</td>\n",
              "      <td>...</td>\n",
              "    </tr>\n",
              "    <tr>\n",
              "      <th>13575</th>\n",
              "      <td>West Footscray</td>\n",
              "      <td>32 Richelieu St</td>\n",
              "      <td>5</td>\n",
              "      <td>h</td>\n",
              "      <td>1030000</td>\n",
              "      <td>Village</td>\n",
              "      <td>30/07/2016</td>\n",
              "      <td>8.2</td>\n",
              "      <td>3012</td>\n",
              "      <td>2</td>\n",
              "      <td>2.0</td>\n",
              "      <td>352</td>\n",
              "      <td>NaN</td>\n",
              "      <td>NaN</td>\n",
              "      <td>Maribyrnong</td>\n",
              "      <td>-37.7908</td>\n",
              "      <td>144.8711</td>\n",
              "      <td>Western Metropolitan</td>\n",
              "      <td>5058</td>\n",
              "      <td>0</td>\n",
              "    </tr>\n",
              "    <tr>\n",
              "      <th>13576</th>\n",
              "      <td>West Footscray</td>\n",
              "      <td>121 Suffolk St</td>\n",
              "      <td>3</td>\n",
              "      <td>h</td>\n",
              "      <td>878000</td>\n",
              "      <td>Village</td>\n",
              "      <td>30/07/2016</td>\n",
              "      <td>8.2</td>\n",
              "      <td>3012</td>\n",
              "      <td>1</td>\n",
              "      <td>1.0</td>\n",
              "      <td>397</td>\n",
              "      <td>127.0</td>\n",
              "      <td>1960.0</td>\n",
              "      <td>Maribyrnong</td>\n",
              "      <td>-37.7901</td>\n",
              "      <td>144.8682</td>\n",
              "      <td>Western Metropolitan</td>\n",
              "      <td>5058</td>\n",
              "      <td>0</td>\n",
              "    </tr>\n",
              "    <tr>\n",
              "      <th>13577</th>\n",
              "      <td>Albion</td>\n",
              "      <td>3 Barclay St</td>\n",
              "      <td>2</td>\n",
              "      <td>h</td>\n",
              "      <td>460000</td>\n",
              "      <td>Barry</td>\n",
              "      <td>30/07/2016</td>\n",
              "      <td>13.9</td>\n",
              "      <td>3020</td>\n",
              "      <td>1</td>\n",
              "      <td>2.0</td>\n",
              "      <td>463</td>\n",
              "      <td>85.0</td>\n",
              "      <td>NaN</td>\n",
              "      <td>Brimbank</td>\n",
              "      <td>-37.7813</td>\n",
              "      <td>144.8234</td>\n",
              "      <td>Western Metropolitan</td>\n",
              "      <td>2185</td>\n",
              "      <td>0</td>\n",
              "    </tr>\n",
              "    <tr>\n",
              "      <th>13578</th>\n",
              "      <td>Albion</td>\n",
              "      <td>5/25 Ridley St</td>\n",
              "      <td>2</td>\n",
              "      <td>u</td>\n",
              "      <td>190000</td>\n",
              "      <td>Burnham</td>\n",
              "      <td>30/07/2016</td>\n",
              "      <td>13.9</td>\n",
              "      <td>3020</td>\n",
              "      <td>1</td>\n",
              "      <td>1.0</td>\n",
              "      <td>0</td>\n",
              "      <td>NaN</td>\n",
              "      <td>NaN</td>\n",
              "      <td>Brimbank</td>\n",
              "      <td>-37.7839</td>\n",
              "      <td>144.8239</td>\n",
              "      <td>Western Metropolitan</td>\n",
              "      <td>2185</td>\n",
              "      <td>0</td>\n",
              "    </tr>\n",
              "    <tr>\n",
              "      <th>13579</th>\n",
              "      <td>Oakleigh</td>\n",
              "      <td>9/126 Atherton Rd</td>\n",
              "      <td>3</td>\n",
              "      <td>u</td>\n",
              "      <td>665000</td>\n",
              "      <td>O'Brien</td>\n",
              "      <td>30/07/2016</td>\n",
              "      <td>14.0</td>\n",
              "      <td>3166</td>\n",
              "      <td>1</td>\n",
              "      <td>1.0</td>\n",
              "      <td>112</td>\n",
              "      <td>NaN</td>\n",
              "      <td>NaN</td>\n",
              "      <td>Monash</td>\n",
              "      <td>-37.9008</td>\n",
              "      <td>145.0980</td>\n",
              "      <td>Southern Metropolitan</td>\n",
              "      <td>3224</td>\n",
              "      <td>0</td>\n",
              "    </tr>\n",
              "  </tbody>\n",
              "</table>\n",
              "<p>13580 rows × 20 columns</p>\n",
              "</div>\n",
              "      <button class=\"colab-df-convert\" onclick=\"convertToInteractive('df-633caac5-c155-44f4-834f-7d3780fe621a')\"\n",
              "              title=\"Convert this dataframe to an interactive table.\"\n",
              "              style=\"display:none;\">\n",
              "        \n",
              "  <svg xmlns=\"http://www.w3.org/2000/svg\" height=\"24px\"viewBox=\"0 0 24 24\"\n",
              "       width=\"24px\">\n",
              "    <path d=\"M0 0h24v24H0V0z\" fill=\"none\"/>\n",
              "    <path d=\"M18.56 5.44l.94 2.06.94-2.06 2.06-.94-2.06-.94-.94-2.06-.94 2.06-2.06.94zm-11 1L8.5 8.5l.94-2.06 2.06-.94-2.06-.94L8.5 2.5l-.94 2.06-2.06.94zm10 10l.94 2.06.94-2.06 2.06-.94-2.06-.94-.94-2.06-.94 2.06-2.06.94z\"/><path d=\"M17.41 7.96l-1.37-1.37c-.4-.4-.92-.59-1.43-.59-.52 0-1.04.2-1.43.59L10.3 9.45l-7.72 7.72c-.78.78-.78 2.05 0 2.83L4 21.41c.39.39.9.59 1.41.59.51 0 1.02-.2 1.41-.59l7.78-7.78 2.81-2.81c.8-.78.8-2.07 0-2.86zM5.41 20L4 18.59l7.72-7.72 1.47 1.35L5.41 20z\"/>\n",
              "  </svg>\n",
              "      </button>\n",
              "      \n",
              "  <style>\n",
              "    .colab-df-container {\n",
              "      display:flex;\n",
              "      flex-wrap:wrap;\n",
              "      gap: 12px;\n",
              "    }\n",
              "\n",
              "    .colab-df-convert {\n",
              "      background-color: #E8F0FE;\n",
              "      border: none;\n",
              "      border-radius: 50%;\n",
              "      cursor: pointer;\n",
              "      display: none;\n",
              "      fill: #1967D2;\n",
              "      height: 32px;\n",
              "      padding: 0 0 0 0;\n",
              "      width: 32px;\n",
              "    }\n",
              "\n",
              "    .colab-df-convert:hover {\n",
              "      background-color: #E2EBFA;\n",
              "      box-shadow: 0px 1px 2px rgba(60, 64, 67, 0.3), 0px 1px 3px 1px rgba(60, 64, 67, 0.15);\n",
              "      fill: #174EA6;\n",
              "    }\n",
              "\n",
              "    [theme=dark] .colab-df-convert {\n",
              "      background-color: #3B4455;\n",
              "      fill: #D2E3FC;\n",
              "    }\n",
              "\n",
              "    [theme=dark] .colab-df-convert:hover {\n",
              "      background-color: #434B5C;\n",
              "      box-shadow: 0px 1px 3px 1px rgba(0, 0, 0, 0.15);\n",
              "      filter: drop-shadow(0px 1px 2px rgba(0, 0, 0, 0.3));\n",
              "      fill: #FFFFFF;\n",
              "    }\n",
              "  </style>\n",
              "\n",
              "      <script>\n",
              "        const buttonEl =\n",
              "          document.querySelector('#df-633caac5-c155-44f4-834f-7d3780fe621a button.colab-df-convert');\n",
              "        buttonEl.style.display =\n",
              "          google.colab.kernel.accessAllowed ? 'block' : 'none';\n",
              "\n",
              "        async function convertToInteractive(key) {\n",
              "          const element = document.querySelector('#df-633caac5-c155-44f4-834f-7d3780fe621a');\n",
              "          const dataTable =\n",
              "            await google.colab.kernel.invokeFunction('convertToInteractive',\n",
              "                                                     [key], {});\n",
              "          if (!dataTable) return;\n",
              "\n",
              "          const docLinkHtml = 'Like what you see? Visit the ' +\n",
              "            '<a target=\"_blank\" href=https://colab.research.google.com/notebooks/data_table.ipynb>data table notebook</a>'\n",
              "            + ' to learn more about interactive tables.';\n",
              "          element.innerHTML = '';\n",
              "          dataTable['output_type'] = 'display_data';\n",
              "          await google.colab.output.renderOutput(dataTable, element);\n",
              "          const docLink = document.createElement('div');\n",
              "          docLink.innerHTML = docLinkHtml;\n",
              "          element.appendChild(docLink);\n",
              "        }\n",
              "      </script>\n",
              "    </div>\n",
              "  </div>\n",
              "  "
            ]
          },
          "metadata": {},
          "execution_count": 301
        }
      ]
    },
    {
      "cell_type": "markdown",
      "source": [
        "Phân tích dữ liệu"
      ],
      "metadata": {
        "id": "-yQCirp4cyu4"
      }
    },
    {
      "cell_type": "code",
      "source": [
        "df.shape"
      ],
      "metadata": {
        "colab": {
          "base_uri": "https://localhost:8080/"
        },
        "id": "Od6wVDAXcg8v",
        "outputId": "8301d80c-e8b0-48b4-ecb9-13658915d7a6"
      },
      "execution_count": null,
      "outputs": [
        {
          "output_type": "execute_result",
          "data": {
            "text/plain": [
              "(13580, 20)"
            ]
          },
          "metadata": {},
          "execution_count": 302
        }
      ]
    },
    {
      "cell_type": "markdown",
      "source": [
        "Chúng ta có thể thấy rằng có 13580 trường hợp và 20 biến trong tập dữ liệu."
      ],
      "metadata": {
        "id": "BPuRNY9Vc8yI"
      }
    },
    {
      "cell_type": "code",
      "source": [
        "# Tính ma trận tương quan giữa các thuộc tính\n",
        "correlation_matrix = df.corr()\n",
        "\n",
        "# Sắp xếp theo độ tương quan với cột 'Price' giảm dần\n",
        "correlation_with_price = correlation_matrix['Price'].abs().sort_values(ascending=False)\n",
        "print(correlation_with_price)\n",
        "\n"
      ],
      "metadata": {
        "colab": {
          "base_uri": "https://localhost:8080/"
        },
        "id": "W7hYXRCfwNBz",
        "outputId": "847c4e49-6a21-4bcb-85ff-ccc950d88737"
      },
      "execution_count": null,
      "outputs": [
        {
          "output_type": "stream",
          "name": "stdout",
          "text": [
            "Price            1.000000\n",
            "Encoded_Price    0.744073\n",
            "Rooms            0.496634\n",
            "Bathroom         0.467038\n",
            "YearBuilt        0.323617\n",
            "Car              0.238979\n",
            "Lattitude        0.212934\n",
            "Longtitude       0.203656\n",
            "Distance         0.162522\n",
            "Postcode         0.107867\n",
            "BuildingArea     0.090981\n",
            "Propertycount    0.042153\n",
            "Landsize         0.037507\n",
            "Name: Price, dtype: float64\n"
          ]
        }
      ]
    },
    {
      "cell_type": "markdown",
      "source": [
        "Cắt những dữ liệu cần thiết\n",
        "'Type','Rooms','Distance','Bathroom','Car','Landsize','BuildingArea','YearBuilt'"
      ],
      "metadata": {
        "id": "WXHSrzyrtsby"
      }
    },
    {
      "cell_type": "code",
      "source": [
        "selected_columns = ['Type','Rooms','Distance','Bathroom','Car','Landsize','BuildingArea','YearBuilt', 'Encoded_Price', 'Regionname', 'Price']\n",
        "df = df[selected_columns]"
      ],
      "metadata": {
        "id": "Xvlfsi47twPQ"
      },
      "execution_count": null,
      "outputs": []
    },
    {
      "cell_type": "code",
      "source": [
        "df.head()"
      ],
      "metadata": {
        "colab": {
          "base_uri": "https://localhost:8080/",
          "height": 206
        },
        "id": "yZoqlxypc5Wm",
        "outputId": "2751fab4-5a95-4925-ee81-1716060e467e"
      },
      "execution_count": null,
      "outputs": [
        {
          "output_type": "execute_result",
          "data": {
            "text/plain": [
              "  Type  Rooms  Distance  Bathroom  Car  Landsize  BuildingArea  YearBuilt  \\\n",
              "0    t      3      13.5         2  1.0       303         225.0     2016.0   \n",
              "1    h      2       3.3         1  0.0       120          82.0     1900.0   \n",
              "2    h      2       3.3         1  0.0       159           NaN        NaN   \n",
              "3    h      4       6.4         2  4.0       853         263.0     1930.0   \n",
              "4    h      3       6.4         2  2.0       208           NaN     2013.0   \n",
              "\n",
              "   Encoded_Price             Regionname    Price  \n",
              "0              0   Western Metropolitan   840000  \n",
              "1              1  Southern Metropolitan  1275000  \n",
              "2              1  Southern Metropolitan  1455000  \n",
              "3              1  Northern Metropolitan  2000000  \n",
              "4              1  Northern Metropolitan  1110000  "
            ],
            "text/html": [
              "\n",
              "  <div id=\"df-4b14237e-61d0-42df-914f-9cfdbc4f1129\">\n",
              "    <div class=\"colab-df-container\">\n",
              "      <div>\n",
              "<style scoped>\n",
              "    .dataframe tbody tr th:only-of-type {\n",
              "        vertical-align: middle;\n",
              "    }\n",
              "\n",
              "    .dataframe tbody tr th {\n",
              "        vertical-align: top;\n",
              "    }\n",
              "\n",
              "    .dataframe thead th {\n",
              "        text-align: right;\n",
              "    }\n",
              "</style>\n",
              "<table border=\"1\" class=\"dataframe\">\n",
              "  <thead>\n",
              "    <tr style=\"text-align: right;\">\n",
              "      <th></th>\n",
              "      <th>Type</th>\n",
              "      <th>Rooms</th>\n",
              "      <th>Distance</th>\n",
              "      <th>Bathroom</th>\n",
              "      <th>Car</th>\n",
              "      <th>Landsize</th>\n",
              "      <th>BuildingArea</th>\n",
              "      <th>YearBuilt</th>\n",
              "      <th>Encoded_Price</th>\n",
              "      <th>Regionname</th>\n",
              "      <th>Price</th>\n",
              "    </tr>\n",
              "  </thead>\n",
              "  <tbody>\n",
              "    <tr>\n",
              "      <th>0</th>\n",
              "      <td>t</td>\n",
              "      <td>3</td>\n",
              "      <td>13.5</td>\n",
              "      <td>2</td>\n",
              "      <td>1.0</td>\n",
              "      <td>303</td>\n",
              "      <td>225.0</td>\n",
              "      <td>2016.0</td>\n",
              "      <td>0</td>\n",
              "      <td>Western Metropolitan</td>\n",
              "      <td>840000</td>\n",
              "    </tr>\n",
              "    <tr>\n",
              "      <th>1</th>\n",
              "      <td>h</td>\n",
              "      <td>2</td>\n",
              "      <td>3.3</td>\n",
              "      <td>1</td>\n",
              "      <td>0.0</td>\n",
              "      <td>120</td>\n",
              "      <td>82.0</td>\n",
              "      <td>1900.0</td>\n",
              "      <td>1</td>\n",
              "      <td>Southern Metropolitan</td>\n",
              "      <td>1275000</td>\n",
              "    </tr>\n",
              "    <tr>\n",
              "      <th>2</th>\n",
              "      <td>h</td>\n",
              "      <td>2</td>\n",
              "      <td>3.3</td>\n",
              "      <td>1</td>\n",
              "      <td>0.0</td>\n",
              "      <td>159</td>\n",
              "      <td>NaN</td>\n",
              "      <td>NaN</td>\n",
              "      <td>1</td>\n",
              "      <td>Southern Metropolitan</td>\n",
              "      <td>1455000</td>\n",
              "    </tr>\n",
              "    <tr>\n",
              "      <th>3</th>\n",
              "      <td>h</td>\n",
              "      <td>4</td>\n",
              "      <td>6.4</td>\n",
              "      <td>2</td>\n",
              "      <td>4.0</td>\n",
              "      <td>853</td>\n",
              "      <td>263.0</td>\n",
              "      <td>1930.0</td>\n",
              "      <td>1</td>\n",
              "      <td>Northern Metropolitan</td>\n",
              "      <td>2000000</td>\n",
              "    </tr>\n",
              "    <tr>\n",
              "      <th>4</th>\n",
              "      <td>h</td>\n",
              "      <td>3</td>\n",
              "      <td>6.4</td>\n",
              "      <td>2</td>\n",
              "      <td>2.0</td>\n",
              "      <td>208</td>\n",
              "      <td>NaN</td>\n",
              "      <td>2013.0</td>\n",
              "      <td>1</td>\n",
              "      <td>Northern Metropolitan</td>\n",
              "      <td>1110000</td>\n",
              "    </tr>\n",
              "  </tbody>\n",
              "</table>\n",
              "</div>\n",
              "      <button class=\"colab-df-convert\" onclick=\"convertToInteractive('df-4b14237e-61d0-42df-914f-9cfdbc4f1129')\"\n",
              "              title=\"Convert this dataframe to an interactive table.\"\n",
              "              style=\"display:none;\">\n",
              "        \n",
              "  <svg xmlns=\"http://www.w3.org/2000/svg\" height=\"24px\"viewBox=\"0 0 24 24\"\n",
              "       width=\"24px\">\n",
              "    <path d=\"M0 0h24v24H0V0z\" fill=\"none\"/>\n",
              "    <path d=\"M18.56 5.44l.94 2.06.94-2.06 2.06-.94-2.06-.94-.94-2.06-.94 2.06-2.06.94zm-11 1L8.5 8.5l.94-2.06 2.06-.94-2.06-.94L8.5 2.5l-.94 2.06-2.06.94zm10 10l.94 2.06.94-2.06 2.06-.94-2.06-.94-.94-2.06-.94 2.06-2.06.94z\"/><path d=\"M17.41 7.96l-1.37-1.37c-.4-.4-.92-.59-1.43-.59-.52 0-1.04.2-1.43.59L10.3 9.45l-7.72 7.72c-.78.78-.78 2.05 0 2.83L4 21.41c.39.39.9.59 1.41.59.51 0 1.02-.2 1.41-.59l7.78-7.78 2.81-2.81c.8-.78.8-2.07 0-2.86zM5.41 20L4 18.59l7.72-7.72 1.47 1.35L5.41 20z\"/>\n",
              "  </svg>\n",
              "      </button>\n",
              "      \n",
              "  <style>\n",
              "    .colab-df-container {\n",
              "      display:flex;\n",
              "      flex-wrap:wrap;\n",
              "      gap: 12px;\n",
              "    }\n",
              "\n",
              "    .colab-df-convert {\n",
              "      background-color: #E8F0FE;\n",
              "      border: none;\n",
              "      border-radius: 50%;\n",
              "      cursor: pointer;\n",
              "      display: none;\n",
              "      fill: #1967D2;\n",
              "      height: 32px;\n",
              "      padding: 0 0 0 0;\n",
              "      width: 32px;\n",
              "    }\n",
              "\n",
              "    .colab-df-convert:hover {\n",
              "      background-color: #E2EBFA;\n",
              "      box-shadow: 0px 1px 2px rgba(60, 64, 67, 0.3), 0px 1px 3px 1px rgba(60, 64, 67, 0.15);\n",
              "      fill: #174EA6;\n",
              "    }\n",
              "\n",
              "    [theme=dark] .colab-df-convert {\n",
              "      background-color: #3B4455;\n",
              "      fill: #D2E3FC;\n",
              "    }\n",
              "\n",
              "    [theme=dark] .colab-df-convert:hover {\n",
              "      background-color: #434B5C;\n",
              "      box-shadow: 0px 1px 3px 1px rgba(0, 0, 0, 0.15);\n",
              "      filter: drop-shadow(0px 1px 2px rgba(0, 0, 0, 0.3));\n",
              "      fill: #FFFFFF;\n",
              "    }\n",
              "  </style>\n",
              "\n",
              "      <script>\n",
              "        const buttonEl =\n",
              "          document.querySelector('#df-4b14237e-61d0-42df-914f-9cfdbc4f1129 button.colab-df-convert');\n",
              "        buttonEl.style.display =\n",
              "          google.colab.kernel.accessAllowed ? 'block' : 'none';\n",
              "\n",
              "        async function convertToInteractive(key) {\n",
              "          const element = document.querySelector('#df-4b14237e-61d0-42df-914f-9cfdbc4f1129');\n",
              "          const dataTable =\n",
              "            await google.colab.kernel.invokeFunction('convertToInteractive',\n",
              "                                                     [key], {});\n",
              "          if (!dataTable) return;\n",
              "\n",
              "          const docLinkHtml = 'Like what you see? Visit the ' +\n",
              "            '<a target=\"_blank\" href=https://colab.research.google.com/notebooks/data_table.ipynb>data table notebook</a>'\n",
              "            + ' to learn more about interactive tables.';\n",
              "          element.innerHTML = '';\n",
              "          dataTable['output_type'] = 'display_data';\n",
              "          await google.colab.output.renderOutput(dataTable, element);\n",
              "          const docLink = document.createElement('div');\n",
              "          docLink.innerHTML = docLinkHtml;\n",
              "          element.appendChild(docLink);\n",
              "        }\n",
              "      </script>\n",
              "    </div>\n",
              "  </div>\n",
              "  "
            ]
          },
          "metadata": {},
          "execution_count": 305
        }
      ]
    },
    {
      "cell_type": "code",
      "source": [
        "df_dropna=df.dropna()\n",
        "df = df_dropna.reset_index(drop=True)\n",
        "df.info()"
      ],
      "metadata": {
        "colab": {
          "base_uri": "https://localhost:8080/"
        },
        "id": "19efVkDR39hF",
        "outputId": "c5a2de66-795f-4ada-fc01-f9ea74fa6345"
      },
      "execution_count": null,
      "outputs": [
        {
          "output_type": "stream",
          "name": "stdout",
          "text": [
            "<class 'pandas.core.frame.DataFrame'>\n",
            "RangeIndex: 6830 entries, 0 to 6829\n",
            "Data columns (total 11 columns):\n",
            " #   Column         Non-Null Count  Dtype  \n",
            "---  ------         --------------  -----  \n",
            " 0   Type           6830 non-null   object \n",
            " 1   Rooms          6830 non-null   int64  \n",
            " 2   Distance       6830 non-null   float64\n",
            " 3   Bathroom       6830 non-null   int64  \n",
            " 4   Car            6830 non-null   float64\n",
            " 5   Landsize       6830 non-null   int64  \n",
            " 6   BuildingArea   6830 non-null   float64\n",
            " 7   YearBuilt      6830 non-null   float64\n",
            " 8   Encoded_Price  6830 non-null   int64  \n",
            " 9   Regionname     6830 non-null   object \n",
            " 10  Price          6830 non-null   int64  \n",
            "dtypes: float64(4), int64(5), object(2)\n",
            "memory usage: 587.1+ KB\n"
          ]
        }
      ]
    },
    {
      "cell_type": "code",
      "source": [
        "df.to_csv('export_melb_data.csv', index=False)"
      ],
      "metadata": {
        "id": "e8wBdNtZ1mQW"
      },
      "execution_count": null,
      "outputs": []
    },
    {
      "cell_type": "code",
      "source": [
        "selected_columns = ['Type','Rooms','Distance','Bathroom','Car','Landsize','BuildingArea','YearBuilt', 'Encoded_Price', 'Regionname']\n",
        "df = df[selected_columns]"
      ],
      "metadata": {
        "id": "B0jdo8sC1s_c"
      },
      "execution_count": null,
      "outputs": []
    },
    {
      "cell_type": "markdown",
      "source": [
        "Xem tóm tắt tập dữ liệu"
      ],
      "metadata": {
        "id": "dgvKzCQndQjg"
      }
    },
    {
      "cell_type": "code",
      "source": [
        "df.info()\n"
      ],
      "metadata": {
        "colab": {
          "base_uri": "https://localhost:8080/"
        },
        "id": "_jL2haamdMFL",
        "outputId": "ba8b626d-b6c6-4959-bb41-643b2c6d88ca"
      },
      "execution_count": null,
      "outputs": [
        {
          "output_type": "stream",
          "name": "stdout",
          "text": [
            "<class 'pandas.core.frame.DataFrame'>\n",
            "RangeIndex: 6830 entries, 0 to 6829\n",
            "Data columns (total 10 columns):\n",
            " #   Column         Non-Null Count  Dtype  \n",
            "---  ------         --------------  -----  \n",
            " 0   Type           6830 non-null   object \n",
            " 1   Rooms          6830 non-null   int64  \n",
            " 2   Distance       6830 non-null   float64\n",
            " 3   Bathroom       6830 non-null   int64  \n",
            " 4   Car            6830 non-null   float64\n",
            " 5   Landsize       6830 non-null   int64  \n",
            " 6   BuildingArea   6830 non-null   float64\n",
            " 7   YearBuilt      6830 non-null   float64\n",
            " 8   Encoded_Price  6830 non-null   int64  \n",
            " 9   Regionname     6830 non-null   object \n",
            "dtypes: float64(4), int64(4), object(2)\n",
            "memory usage: 533.7+ KB\n"
          ]
        }
      ]
    },
    {
      "cell_type": "code",
      "source": [
        "df_dropna=df.dropna()\n",
        "df = df_dropna.reset_index(drop=True)\n",
        "df.info()"
      ],
      "metadata": {
        "colab": {
          "base_uri": "https://localhost:8080/"
        },
        "id": "6ZpSAr9Vu0jX",
        "outputId": "c218487c-3fcd-4a28-c7d2-9daef0baf6c7"
      },
      "execution_count": null,
      "outputs": [
        {
          "output_type": "stream",
          "name": "stdout",
          "text": [
            "<class 'pandas.core.frame.DataFrame'>\n",
            "RangeIndex: 6830 entries, 0 to 6829\n",
            "Data columns (total 10 columns):\n",
            " #   Column         Non-Null Count  Dtype  \n",
            "---  ------         --------------  -----  \n",
            " 0   Type           6830 non-null   object \n",
            " 1   Rooms          6830 non-null   int64  \n",
            " 2   Distance       6830 non-null   float64\n",
            " 3   Bathroom       6830 non-null   int64  \n",
            " 4   Car            6830 non-null   float64\n",
            " 5   Landsize       6830 non-null   int64  \n",
            " 6   BuildingArea   6830 non-null   float64\n",
            " 7   YearBuilt      6830 non-null   float64\n",
            " 8   Encoded_Price  6830 non-null   int64  \n",
            " 9   Regionname     6830 non-null   object \n",
            "dtypes: float64(4), int64(4), object(2)\n",
            "memory usage: 533.7+ KB\n"
          ]
        }
      ]
    },
    {
      "cell_type": "markdown",
      "source": [
        "Phân phối tần số của các giá trị trong các biến\n"
      ],
      "metadata": {
        "id": "Nd0dAOyCdV0f"
      }
    },
    {
      "cell_type": "code",
      "source": [
        "col_names = ['Type','Rooms','Distance','Bathroom','Car','Landsize','BuildingArea','YearBuilt', 'Encoded_Price', 'Regionname']\n",
        "\n",
        "\n",
        "for col in col_names:\n",
        "    \n",
        "    print(df[col].value_counts())   "
      ],
      "metadata": {
        "colab": {
          "base_uri": "https://localhost:8080/"
        },
        "id": "EsHPQF7cdSSb",
        "outputId": "1f4217c2-ad67-4042-9ffc-65c05ff85506"
      },
      "execution_count": null,
      "outputs": [
        {
          "output_type": "stream",
          "name": "stdout",
          "text": [
            "h    4660\n",
            "u    1528\n",
            "t     642\n",
            "Name: Type, dtype: int64\n",
            "3    2840\n",
            "2    1784\n",
            "4    1498\n",
            "1     334\n",
            "5     331\n",
            "6      33\n",
            "7       6\n",
            "8       4\n",
            "Name: Rooms, dtype: int64\n",
            "11.2    362\n",
            "9.2     185\n",
            "7.8     180\n",
            "13.9    160\n",
            "5.2     145\n",
            "       ... \n",
            "47.4      1\n",
            "27.1      1\n",
            "23.3      1\n",
            "3.7       1\n",
            "35.5      1\n",
            "Name: Distance, Length: 197, dtype: int64\n",
            "1    3524\n",
            "2    2678\n",
            "3     535\n",
            "4      70\n",
            "5      18\n",
            "6       3\n",
            "7       1\n",
            "8       1\n",
            "Name: Bathroom, dtype: int64\n",
            "1.0     2885\n",
            "2.0     2811\n",
            "0.0      458\n",
            "3.0      361\n",
            "4.0      246\n",
            "5.0       33\n",
            "6.0       26\n",
            "7.0        5\n",
            "10.0       2\n",
            "8.0        2\n",
            "9.0        1\n",
            "Name: Car, dtype: int64\n",
            "0       1015\n",
            "650       36\n",
            "697       33\n",
            "700       25\n",
            "585       23\n",
            "        ... \n",
            "3093       1\n",
            "1317       1\n",
            "3957       1\n",
            "1262       1\n",
            "1659       1\n",
            "Name: Landsize, Length: 1161, dtype: int64\n",
            "120.00    107\n",
            "110.00     87\n",
            "100.00     83\n",
            "130.00     80\n",
            "115.00     73\n",
            "         ... \n",
            "113.76      1\n",
            "107.40      1\n",
            "255.79      1\n",
            "186.36      1\n",
            "357.00      1\n",
            "Name: BuildingArea, Length: 560, dtype: int64\n",
            "1970.0    657\n",
            "1960.0    609\n",
            "1950.0    502\n",
            "1900.0    285\n",
            "1980.0    278\n",
            "         ... \n",
            "1895.0      1\n",
            "1897.0      1\n",
            "1856.0      1\n",
            "1884.0      1\n",
            "1916.0      1\n",
            "Name: YearBuilt, Length: 136, dtype: int64\n",
            "0    4246\n",
            "1    2584\n",
            "Name: Encoded_Price, dtype: int64\n",
            "Southern Metropolitan         2312\n",
            "Northern Metropolitan         2006\n",
            "Western Metropolitan          1539\n",
            "Eastern Metropolitan           686\n",
            "South-Eastern Metropolitan     213\n",
            "Eastern Victoria                28\n",
            "Northern Victoria               26\n",
            "Western Victoria                20\n",
            "Name: Regionname, dtype: int64\n"
          ]
        }
      ]
    },
    {
      "cell_type": "markdown",
      "source": [
        "Có 9 biến trong tập dữ liệu. Tất cả các biến thuộc loại dữ liệu phân loại.\n"
      ],
      "metadata": {
        "id": "wthXwGGNdjw_"
      }
    },
    {
      "cell_type": "markdown",
      "source": [
        "Khám phá biến Type"
      ],
      "metadata": {
        "id": "IvQ6xOMcd0iX"
      }
    },
    {
      "cell_type": "code",
      "source": [
        "df['Encoded_Price'].value_counts()"
      ],
      "metadata": {
        "colab": {
          "base_uri": "https://localhost:8080/"
        },
        "id": "kUQ4DEPhdYsT",
        "outputId": "a6b9de1e-a3d9-44e8-ef97-ed1b81e49889"
      },
      "execution_count": null,
      "outputs": [
        {
          "output_type": "execute_result",
          "data": {
            "text/plain": [
              "0    4246\n",
              "1    2584\n",
              "Name: Encoded_Price, dtype: int64"
            ]
          },
          "metadata": {},
          "execution_count": 312
        }
      ]
    },
    {
      "cell_type": "code",
      "source": [
        "# check missing values in variables\n",
        "\n",
        "df.isnull().sum()"
      ],
      "metadata": {
        "colab": {
          "base_uri": "https://localhost:8080/"
        },
        "id": "u3sBbRYhdwla",
        "outputId": "8c755ce9-145d-499d-e39d-cf73e0a83043"
      },
      "execution_count": null,
      "outputs": [
        {
          "output_type": "execute_result",
          "data": {
            "text/plain": [
              "Type             0\n",
              "Rooms            0\n",
              "Distance         0\n",
              "Bathroom         0\n",
              "Car              0\n",
              "Landsize         0\n",
              "BuildingArea     0\n",
              "YearBuilt        0\n",
              "Encoded_Price    0\n",
              "Regionname       0\n",
              "dtype: int64"
            ]
          },
          "metadata": {},
          "execution_count": 313
        }
      ]
    },
    {
      "cell_type": "markdown",
      "source": [
        "Chúng ta có thể thấy rằng không có giá trị nào bị thiếu trong tập dữ liệu. Tôi đã kiểm tra phân phối tần suất của các giá trị trước đó. Nó cũng xác nhận rằng không có giá trị nào bị thiếu trong tập dữ liệu."
      ],
      "metadata": {
        "id": "md8YRwBed_zw"
      }
    },
    {
      "cell_type": "markdown",
      "source": [
        "Khai báo vector đặc trưng và biến mục tiêu"
      ],
      "metadata": {
        "id": "WeVJW2qneCk5"
      }
    },
    {
      "cell_type": "code",
      "source": [
        "X = df.drop(['Encoded_Price'], axis=1)\n",
        "y = df['Encoded_Price']"
      ],
      "metadata": {
        "id": "nkP36j3Jd76l"
      },
      "execution_count": null,
      "outputs": []
    },
    {
      "cell_type": "markdown",
      "source": [
        "Tách dữ liệu thành tập huấn luyện và kiểm tra riêng biệt"
      ],
      "metadata": {
        "id": "OzXFbNvNeRRw"
      }
    },
    {
      "cell_type": "code",
      "source": [
        "# split data into training and testing sets\n",
        "\n",
        "from sklearn.model_selection import train_test_split\n",
        "\n",
        "X_train, X_test, y_train, y_test = train_test_split(X, y, test_size = 0.33, random_state = 42)"
      ],
      "metadata": {
        "id": "DXp3Ty62eGs9"
      },
      "execution_count": null,
      "outputs": []
    },
    {
      "cell_type": "code",
      "source": [
        "# check the shape of X_train and X_test\n",
        "\n",
        "X_train.shape, X_test.shape"
      ],
      "metadata": {
        "colab": {
          "base_uri": "https://localhost:8080/"
        },
        "id": "XUSIklwDeTCx",
        "outputId": "6b34d1b6-4d92-432f-8249-77e91d597470"
      },
      "execution_count": null,
      "outputs": [
        {
          "output_type": "execute_result",
          "data": {
            "text/plain": [
              "((4576, 9), (2254, 9))"
            ]
          },
          "metadata": {},
          "execution_count": 316
        }
      ]
    },
    {
      "cell_type": "markdown",
      "source": [
        "**Feature Engineering**"
      ],
      "metadata": {
        "id": "oTffEFZBegJ4"
      }
    },
    {
      "cell_type": "code",
      "source": [
        "# check data types in X_train\n",
        "\n",
        "X_train.dtypes"
      ],
      "metadata": {
        "colab": {
          "base_uri": "https://localhost:8080/"
        },
        "id": "qdq-vdoveU2U",
        "outputId": "01d16731-1fc9-4f2a-f1e5-b95ef8096fa6"
      },
      "execution_count": null,
      "outputs": [
        {
          "output_type": "execute_result",
          "data": {
            "text/plain": [
              "Type             object\n",
              "Rooms             int64\n",
              "Distance        float64\n",
              "Bathroom          int64\n",
              "Car             float64\n",
              "Landsize          int64\n",
              "BuildingArea    float64\n",
              "YearBuilt       float64\n",
              "Regionname       object\n",
              "dtype: object"
            ]
          },
          "metadata": {},
          "execution_count": 317
        }
      ]
    },
    {
      "cell_type": "markdown",
      "source": [
        "Mã hóa các biến phân loại\n",
        "\n",
        "Bây giờ, tôi sẽ mã hóa các biến phân loại."
      ],
      "metadata": {
        "id": "ePt98_ufenkj"
      }
    },
    {
      "cell_type": "code",
      "source": [
        "X_train.head()"
      ],
      "metadata": {
        "colab": {
          "base_uri": "https://localhost:8080/",
          "height": 206
        },
        "id": "Ov0UEITgelN9",
        "outputId": "b0c50a8d-40ae-4149-f275-048496538f9c"
      },
      "execution_count": null,
      "outputs": [
        {
          "output_type": "execute_result",
          "data": {
            "text/plain": [
              "     Type  Rooms  Distance  Bathroom  Car  Landsize  BuildingArea  YearBuilt  \\\n",
              "5447    h      4       6.5         2  0.0       387         152.0     1900.0   \n",
              "4813    h      2      11.2         1  2.0       411         165.0     1910.0   \n",
              "219     h      5      11.2         2  2.0       567         327.0     1915.0   \n",
              "1288    h      3       9.2         1  2.0       307          96.0     1950.0   \n",
              "582     h      2       6.4         1  0.0       215          98.0     1910.0   \n",
              "\n",
              "                 Regionname  \n",
              "5447  Northern Metropolitan  \n",
              "4813  Southern Metropolitan  \n",
              "219   Southern Metropolitan  \n",
              "1288  Northern Metropolitan  \n",
              "582    Western Metropolitan  "
            ],
            "text/html": [
              "\n",
              "  <div id=\"df-2cefad07-5045-4229-8540-3f658964a624\">\n",
              "    <div class=\"colab-df-container\">\n",
              "      <div>\n",
              "<style scoped>\n",
              "    .dataframe tbody tr th:only-of-type {\n",
              "        vertical-align: middle;\n",
              "    }\n",
              "\n",
              "    .dataframe tbody tr th {\n",
              "        vertical-align: top;\n",
              "    }\n",
              "\n",
              "    .dataframe thead th {\n",
              "        text-align: right;\n",
              "    }\n",
              "</style>\n",
              "<table border=\"1\" class=\"dataframe\">\n",
              "  <thead>\n",
              "    <tr style=\"text-align: right;\">\n",
              "      <th></th>\n",
              "      <th>Type</th>\n",
              "      <th>Rooms</th>\n",
              "      <th>Distance</th>\n",
              "      <th>Bathroom</th>\n",
              "      <th>Car</th>\n",
              "      <th>Landsize</th>\n",
              "      <th>BuildingArea</th>\n",
              "      <th>YearBuilt</th>\n",
              "      <th>Regionname</th>\n",
              "    </tr>\n",
              "  </thead>\n",
              "  <tbody>\n",
              "    <tr>\n",
              "      <th>5447</th>\n",
              "      <td>h</td>\n",
              "      <td>4</td>\n",
              "      <td>6.5</td>\n",
              "      <td>2</td>\n",
              "      <td>0.0</td>\n",
              "      <td>387</td>\n",
              "      <td>152.0</td>\n",
              "      <td>1900.0</td>\n",
              "      <td>Northern Metropolitan</td>\n",
              "    </tr>\n",
              "    <tr>\n",
              "      <th>4813</th>\n",
              "      <td>h</td>\n",
              "      <td>2</td>\n",
              "      <td>11.2</td>\n",
              "      <td>1</td>\n",
              "      <td>2.0</td>\n",
              "      <td>411</td>\n",
              "      <td>165.0</td>\n",
              "      <td>1910.0</td>\n",
              "      <td>Southern Metropolitan</td>\n",
              "    </tr>\n",
              "    <tr>\n",
              "      <th>219</th>\n",
              "      <td>h</td>\n",
              "      <td>5</td>\n",
              "      <td>11.2</td>\n",
              "      <td>2</td>\n",
              "      <td>2.0</td>\n",
              "      <td>567</td>\n",
              "      <td>327.0</td>\n",
              "      <td>1915.0</td>\n",
              "      <td>Southern Metropolitan</td>\n",
              "    </tr>\n",
              "    <tr>\n",
              "      <th>1288</th>\n",
              "      <td>h</td>\n",
              "      <td>3</td>\n",
              "      <td>9.2</td>\n",
              "      <td>1</td>\n",
              "      <td>2.0</td>\n",
              "      <td>307</td>\n",
              "      <td>96.0</td>\n",
              "      <td>1950.0</td>\n",
              "      <td>Northern Metropolitan</td>\n",
              "    </tr>\n",
              "    <tr>\n",
              "      <th>582</th>\n",
              "      <td>h</td>\n",
              "      <td>2</td>\n",
              "      <td>6.4</td>\n",
              "      <td>1</td>\n",
              "      <td>0.0</td>\n",
              "      <td>215</td>\n",
              "      <td>98.0</td>\n",
              "      <td>1910.0</td>\n",
              "      <td>Western Metropolitan</td>\n",
              "    </tr>\n",
              "  </tbody>\n",
              "</table>\n",
              "</div>\n",
              "      <button class=\"colab-df-convert\" onclick=\"convertToInteractive('df-2cefad07-5045-4229-8540-3f658964a624')\"\n",
              "              title=\"Convert this dataframe to an interactive table.\"\n",
              "              style=\"display:none;\">\n",
              "        \n",
              "  <svg xmlns=\"http://www.w3.org/2000/svg\" height=\"24px\"viewBox=\"0 0 24 24\"\n",
              "       width=\"24px\">\n",
              "    <path d=\"M0 0h24v24H0V0z\" fill=\"none\"/>\n",
              "    <path d=\"M18.56 5.44l.94 2.06.94-2.06 2.06-.94-2.06-.94-.94-2.06-.94 2.06-2.06.94zm-11 1L8.5 8.5l.94-2.06 2.06-.94-2.06-.94L8.5 2.5l-.94 2.06-2.06.94zm10 10l.94 2.06.94-2.06 2.06-.94-2.06-.94-.94-2.06-.94 2.06-2.06.94z\"/><path d=\"M17.41 7.96l-1.37-1.37c-.4-.4-.92-.59-1.43-.59-.52 0-1.04.2-1.43.59L10.3 9.45l-7.72 7.72c-.78.78-.78 2.05 0 2.83L4 21.41c.39.39.9.59 1.41.59.51 0 1.02-.2 1.41-.59l7.78-7.78 2.81-2.81c.8-.78.8-2.07 0-2.86zM5.41 20L4 18.59l7.72-7.72 1.47 1.35L5.41 20z\"/>\n",
              "  </svg>\n",
              "      </button>\n",
              "      \n",
              "  <style>\n",
              "    .colab-df-container {\n",
              "      display:flex;\n",
              "      flex-wrap:wrap;\n",
              "      gap: 12px;\n",
              "    }\n",
              "\n",
              "    .colab-df-convert {\n",
              "      background-color: #E8F0FE;\n",
              "      border: none;\n",
              "      border-radius: 50%;\n",
              "      cursor: pointer;\n",
              "      display: none;\n",
              "      fill: #1967D2;\n",
              "      height: 32px;\n",
              "      padding: 0 0 0 0;\n",
              "      width: 32px;\n",
              "    }\n",
              "\n",
              "    .colab-df-convert:hover {\n",
              "      background-color: #E2EBFA;\n",
              "      box-shadow: 0px 1px 2px rgba(60, 64, 67, 0.3), 0px 1px 3px 1px rgba(60, 64, 67, 0.15);\n",
              "      fill: #174EA6;\n",
              "    }\n",
              "\n",
              "    [theme=dark] .colab-df-convert {\n",
              "      background-color: #3B4455;\n",
              "      fill: #D2E3FC;\n",
              "    }\n",
              "\n",
              "    [theme=dark] .colab-df-convert:hover {\n",
              "      background-color: #434B5C;\n",
              "      box-shadow: 0px 1px 3px 1px rgba(0, 0, 0, 0.15);\n",
              "      filter: drop-shadow(0px 1px 2px rgba(0, 0, 0, 0.3));\n",
              "      fill: #FFFFFF;\n",
              "    }\n",
              "  </style>\n",
              "\n",
              "      <script>\n",
              "        const buttonEl =\n",
              "          document.querySelector('#df-2cefad07-5045-4229-8540-3f658964a624 button.colab-df-convert');\n",
              "        buttonEl.style.display =\n",
              "          google.colab.kernel.accessAllowed ? 'block' : 'none';\n",
              "\n",
              "        async function convertToInteractive(key) {\n",
              "          const element = document.querySelector('#df-2cefad07-5045-4229-8540-3f658964a624');\n",
              "          const dataTable =\n",
              "            await google.colab.kernel.invokeFunction('convertToInteractive',\n",
              "                                                     [key], {});\n",
              "          if (!dataTable) return;\n",
              "\n",
              "          const docLinkHtml = 'Like what you see? Visit the ' +\n",
              "            '<a target=\"_blank\" href=https://colab.research.google.com/notebooks/data_table.ipynb>data table notebook</a>'\n",
              "            + ' to learn more about interactive tables.';\n",
              "          element.innerHTML = '';\n",
              "          dataTable['output_type'] = 'display_data';\n",
              "          await google.colab.output.renderOutput(dataTable, element);\n",
              "          const docLink = document.createElement('div');\n",
              "          docLink.innerHTML = docLinkHtml;\n",
              "          element.appendChild(docLink);\n",
              "        }\n",
              "      </script>\n",
              "    </div>\n",
              "  </div>\n",
              "  "
            ]
          },
          "metadata": {},
          "execution_count": 318
        }
      ]
    },
    {
      "cell_type": "code",
      "source": [
        "# import category encoders\n",
        "!pip install --upgrade category_encoders\n",
        "import category_encoders as ce"
      ],
      "metadata": {
        "colab": {
          "base_uri": "https://localhost:8080/"
        },
        "id": "pAAM8toveowP",
        "outputId": "9317d348-4acd-44ad-ad4e-510445ac1e49"
      },
      "execution_count": null,
      "outputs": [
        {
          "output_type": "stream",
          "name": "stdout",
          "text": [
            "Looking in indexes: https://pypi.org/simple, https://us-python.pkg.dev/colab-wheels/public/simple/\n",
            "Requirement already satisfied: category_encoders in /usr/local/lib/python3.10/dist-packages (2.6.1)\n",
            "Requirement already satisfied: numpy>=1.14.0 in /usr/local/lib/python3.10/dist-packages (from category_encoders) (1.22.4)\n",
            "Requirement already satisfied: scikit-learn>=0.20.0 in /usr/local/lib/python3.10/dist-packages (from category_encoders) (1.2.2)\n",
            "Requirement already satisfied: scipy>=1.0.0 in /usr/local/lib/python3.10/dist-packages (from category_encoders) (1.10.1)\n",
            "Requirement already satisfied: statsmodels>=0.9.0 in /usr/local/lib/python3.10/dist-packages (from category_encoders) (0.13.5)\n",
            "Requirement already satisfied: pandas>=1.0.5 in /usr/local/lib/python3.10/dist-packages (from category_encoders) (1.5.3)\n",
            "Requirement already satisfied: patsy>=0.5.1 in /usr/local/lib/python3.10/dist-packages (from category_encoders) (0.5.3)\n",
            "Requirement already satisfied: python-dateutil>=2.8.1 in /usr/local/lib/python3.10/dist-packages (from pandas>=1.0.5->category_encoders) (2.8.2)\n",
            "Requirement already satisfied: pytz>=2020.1 in /usr/local/lib/python3.10/dist-packages (from pandas>=1.0.5->category_encoders) (2022.7.1)\n",
            "Requirement already satisfied: six in /usr/local/lib/python3.10/dist-packages (from patsy>=0.5.1->category_encoders) (1.16.0)\n",
            "Requirement already satisfied: joblib>=1.1.1 in /usr/local/lib/python3.10/dist-packages (from scikit-learn>=0.20.0->category_encoders) (1.2.0)\n",
            "Requirement already satisfied: threadpoolctl>=2.0.0 in /usr/local/lib/python3.10/dist-packages (from scikit-learn>=0.20.0->category_encoders) (3.1.0)\n",
            "Requirement already satisfied: packaging>=21.3 in /usr/local/lib/python3.10/dist-packages (from statsmodels>=0.9.0->category_encoders) (23.1)\n"
          ]
        }
      ]
    },
    {
      "cell_type": "code",
      "source": [
        "# encode categorical variables with ordinal encoding\n",
        "\n",
        "encoder = ce.OrdinalEncoder(cols=['Type','Rooms','Distance','Bathroom','Car','Landsize','BuildingArea','YearBuilt', 'Regionname'])\n",
        "\n",
        "\n",
        "X_train = encoder.fit_transform(X_train)\n",
        "\n",
        "X_test = encoder.transform(X_test)"
      ],
      "metadata": {
        "id": "AbffAD6werx_"
      },
      "execution_count": null,
      "outputs": []
    },
    {
      "cell_type": "code",
      "source": [
        "X_train.head()"
      ],
      "metadata": {
        "colab": {
          "base_uri": "https://localhost:8080/",
          "height": 206
        },
        "id": "ZhKtc_2xe1zB",
        "outputId": "8dd29b59-c550-4583-c2a2-3e1e1fe30d0b"
      },
      "execution_count": null,
      "outputs": [
        {
          "output_type": "execute_result",
          "data": {
            "text/plain": [
              "      Type  Rooms  Distance  Bathroom  Car  Landsize  BuildingArea  YearBuilt  \\\n",
              "5447     1      1         1         1    1         1             1          1   \n",
              "4813     1      2         2         2    2         2             2          2   \n",
              "219      1      3         2         1    2         3             3          3   \n",
              "1288     1      4         3         2    2         4             4          4   \n",
              "582      1      2         4         2    1         5             5          2   \n",
              "\n",
              "      Regionname  \n",
              "5447           1  \n",
              "4813           2  \n",
              "219            2  \n",
              "1288           1  \n",
              "582            3  "
            ],
            "text/html": [
              "\n",
              "  <div id=\"df-7f6ed412-0ee7-44e8-99ac-5f9ab9d791d5\">\n",
              "    <div class=\"colab-df-container\">\n",
              "      <div>\n",
              "<style scoped>\n",
              "    .dataframe tbody tr th:only-of-type {\n",
              "        vertical-align: middle;\n",
              "    }\n",
              "\n",
              "    .dataframe tbody tr th {\n",
              "        vertical-align: top;\n",
              "    }\n",
              "\n",
              "    .dataframe thead th {\n",
              "        text-align: right;\n",
              "    }\n",
              "</style>\n",
              "<table border=\"1\" class=\"dataframe\">\n",
              "  <thead>\n",
              "    <tr style=\"text-align: right;\">\n",
              "      <th></th>\n",
              "      <th>Type</th>\n",
              "      <th>Rooms</th>\n",
              "      <th>Distance</th>\n",
              "      <th>Bathroom</th>\n",
              "      <th>Car</th>\n",
              "      <th>Landsize</th>\n",
              "      <th>BuildingArea</th>\n",
              "      <th>YearBuilt</th>\n",
              "      <th>Regionname</th>\n",
              "    </tr>\n",
              "  </thead>\n",
              "  <tbody>\n",
              "    <tr>\n",
              "      <th>5447</th>\n",
              "      <td>1</td>\n",
              "      <td>1</td>\n",
              "      <td>1</td>\n",
              "      <td>1</td>\n",
              "      <td>1</td>\n",
              "      <td>1</td>\n",
              "      <td>1</td>\n",
              "      <td>1</td>\n",
              "      <td>1</td>\n",
              "    </tr>\n",
              "    <tr>\n",
              "      <th>4813</th>\n",
              "      <td>1</td>\n",
              "      <td>2</td>\n",
              "      <td>2</td>\n",
              "      <td>2</td>\n",
              "      <td>2</td>\n",
              "      <td>2</td>\n",
              "      <td>2</td>\n",
              "      <td>2</td>\n",
              "      <td>2</td>\n",
              "    </tr>\n",
              "    <tr>\n",
              "      <th>219</th>\n",
              "      <td>1</td>\n",
              "      <td>3</td>\n",
              "      <td>2</td>\n",
              "      <td>1</td>\n",
              "      <td>2</td>\n",
              "      <td>3</td>\n",
              "      <td>3</td>\n",
              "      <td>3</td>\n",
              "      <td>2</td>\n",
              "    </tr>\n",
              "    <tr>\n",
              "      <th>1288</th>\n",
              "      <td>1</td>\n",
              "      <td>4</td>\n",
              "      <td>3</td>\n",
              "      <td>2</td>\n",
              "      <td>2</td>\n",
              "      <td>4</td>\n",
              "      <td>4</td>\n",
              "      <td>4</td>\n",
              "      <td>1</td>\n",
              "    </tr>\n",
              "    <tr>\n",
              "      <th>582</th>\n",
              "      <td>1</td>\n",
              "      <td>2</td>\n",
              "      <td>4</td>\n",
              "      <td>2</td>\n",
              "      <td>1</td>\n",
              "      <td>5</td>\n",
              "      <td>5</td>\n",
              "      <td>2</td>\n",
              "      <td>3</td>\n",
              "    </tr>\n",
              "  </tbody>\n",
              "</table>\n",
              "</div>\n",
              "      <button class=\"colab-df-convert\" onclick=\"convertToInteractive('df-7f6ed412-0ee7-44e8-99ac-5f9ab9d791d5')\"\n",
              "              title=\"Convert this dataframe to an interactive table.\"\n",
              "              style=\"display:none;\">\n",
              "        \n",
              "  <svg xmlns=\"http://www.w3.org/2000/svg\" height=\"24px\"viewBox=\"0 0 24 24\"\n",
              "       width=\"24px\">\n",
              "    <path d=\"M0 0h24v24H0V0z\" fill=\"none\"/>\n",
              "    <path d=\"M18.56 5.44l.94 2.06.94-2.06 2.06-.94-2.06-.94-.94-2.06-.94 2.06-2.06.94zm-11 1L8.5 8.5l.94-2.06 2.06-.94-2.06-.94L8.5 2.5l-.94 2.06-2.06.94zm10 10l.94 2.06.94-2.06 2.06-.94-2.06-.94-.94-2.06-.94 2.06-2.06.94z\"/><path d=\"M17.41 7.96l-1.37-1.37c-.4-.4-.92-.59-1.43-.59-.52 0-1.04.2-1.43.59L10.3 9.45l-7.72 7.72c-.78.78-.78 2.05 0 2.83L4 21.41c.39.39.9.59 1.41.59.51 0 1.02-.2 1.41-.59l7.78-7.78 2.81-2.81c.8-.78.8-2.07 0-2.86zM5.41 20L4 18.59l7.72-7.72 1.47 1.35L5.41 20z\"/>\n",
              "  </svg>\n",
              "      </button>\n",
              "      \n",
              "  <style>\n",
              "    .colab-df-container {\n",
              "      display:flex;\n",
              "      flex-wrap:wrap;\n",
              "      gap: 12px;\n",
              "    }\n",
              "\n",
              "    .colab-df-convert {\n",
              "      background-color: #E8F0FE;\n",
              "      border: none;\n",
              "      border-radius: 50%;\n",
              "      cursor: pointer;\n",
              "      display: none;\n",
              "      fill: #1967D2;\n",
              "      height: 32px;\n",
              "      padding: 0 0 0 0;\n",
              "      width: 32px;\n",
              "    }\n",
              "\n",
              "    .colab-df-convert:hover {\n",
              "      background-color: #E2EBFA;\n",
              "      box-shadow: 0px 1px 2px rgba(60, 64, 67, 0.3), 0px 1px 3px 1px rgba(60, 64, 67, 0.15);\n",
              "      fill: #174EA6;\n",
              "    }\n",
              "\n",
              "    [theme=dark] .colab-df-convert {\n",
              "      background-color: #3B4455;\n",
              "      fill: #D2E3FC;\n",
              "    }\n",
              "\n",
              "    [theme=dark] .colab-df-convert:hover {\n",
              "      background-color: #434B5C;\n",
              "      box-shadow: 0px 1px 3px 1px rgba(0, 0, 0, 0.15);\n",
              "      filter: drop-shadow(0px 1px 2px rgba(0, 0, 0, 0.3));\n",
              "      fill: #FFFFFF;\n",
              "    }\n",
              "  </style>\n",
              "\n",
              "      <script>\n",
              "        const buttonEl =\n",
              "          document.querySelector('#df-7f6ed412-0ee7-44e8-99ac-5f9ab9d791d5 button.colab-df-convert');\n",
              "        buttonEl.style.display =\n",
              "          google.colab.kernel.accessAllowed ? 'block' : 'none';\n",
              "\n",
              "        async function convertToInteractive(key) {\n",
              "          const element = document.querySelector('#df-7f6ed412-0ee7-44e8-99ac-5f9ab9d791d5');\n",
              "          const dataTable =\n",
              "            await google.colab.kernel.invokeFunction('convertToInteractive',\n",
              "                                                     [key], {});\n",
              "          if (!dataTable) return;\n",
              "\n",
              "          const docLinkHtml = 'Like what you see? Visit the ' +\n",
              "            '<a target=\"_blank\" href=https://colab.research.google.com/notebooks/data_table.ipynb>data table notebook</a>'\n",
              "            + ' to learn more about interactive tables.';\n",
              "          element.innerHTML = '';\n",
              "          dataTable['output_type'] = 'display_data';\n",
              "          await google.colab.output.renderOutput(dataTable, element);\n",
              "          const docLink = document.createElement('div');\n",
              "          docLink.innerHTML = docLinkHtml;\n",
              "          element.appendChild(docLink);\n",
              "        }\n",
              "      </script>\n",
              "    </div>\n",
              "  </div>\n",
              "  "
            ]
          },
          "metadata": {},
          "execution_count": 321
        }
      ]
    },
    {
      "cell_type": "code",
      "source": [
        "X_test.head()"
      ],
      "metadata": {
        "colab": {
          "base_uri": "https://localhost:8080/",
          "height": 206
        },
        "id": "s0mjjd3xe3Eg",
        "outputId": "83499093-07c4-4869-abed-86622ff9325f"
      },
      "execution_count": null,
      "outputs": [
        {
          "output_type": "execute_result",
          "data": {
            "text/plain": [
              "      Type  Rooms  Distance  Bathroom  Car  Landsize  BuildingArea  YearBuilt  \\\n",
              "4716     3      4     183.0       2.0  2.0     645.0          32.0       49.0   \n",
              "2098     1      2      57.0       2.0  2.0     293.0         207.0       24.0   \n",
              "4609     1      4      56.0       1.0  2.0     606.0           9.0       16.0   \n",
              "4700     2      4      56.0       1.0  2.0     581.0         182.0        7.0   \n",
              "4359     3      4      87.0       1.0  2.0      11.0          17.0       18.0   \n",
              "\n",
              "      Regionname  \n",
              "4716           7  \n",
              "2098           3  \n",
              "4609           5  \n",
              "4700           2  \n",
              "4359           2  "
            ],
            "text/html": [
              "\n",
              "  <div id=\"df-6fe60669-4664-479b-8d46-45101c7d646f\">\n",
              "    <div class=\"colab-df-container\">\n",
              "      <div>\n",
              "<style scoped>\n",
              "    .dataframe tbody tr th:only-of-type {\n",
              "        vertical-align: middle;\n",
              "    }\n",
              "\n",
              "    .dataframe tbody tr th {\n",
              "        vertical-align: top;\n",
              "    }\n",
              "\n",
              "    .dataframe thead th {\n",
              "        text-align: right;\n",
              "    }\n",
              "</style>\n",
              "<table border=\"1\" class=\"dataframe\">\n",
              "  <thead>\n",
              "    <tr style=\"text-align: right;\">\n",
              "      <th></th>\n",
              "      <th>Type</th>\n",
              "      <th>Rooms</th>\n",
              "      <th>Distance</th>\n",
              "      <th>Bathroom</th>\n",
              "      <th>Car</th>\n",
              "      <th>Landsize</th>\n",
              "      <th>BuildingArea</th>\n",
              "      <th>YearBuilt</th>\n",
              "      <th>Regionname</th>\n",
              "    </tr>\n",
              "  </thead>\n",
              "  <tbody>\n",
              "    <tr>\n",
              "      <th>4716</th>\n",
              "      <td>3</td>\n",
              "      <td>4</td>\n",
              "      <td>183.0</td>\n",
              "      <td>2.0</td>\n",
              "      <td>2.0</td>\n",
              "      <td>645.0</td>\n",
              "      <td>32.0</td>\n",
              "      <td>49.0</td>\n",
              "      <td>7</td>\n",
              "    </tr>\n",
              "    <tr>\n",
              "      <th>2098</th>\n",
              "      <td>1</td>\n",
              "      <td>2</td>\n",
              "      <td>57.0</td>\n",
              "      <td>2.0</td>\n",
              "      <td>2.0</td>\n",
              "      <td>293.0</td>\n",
              "      <td>207.0</td>\n",
              "      <td>24.0</td>\n",
              "      <td>3</td>\n",
              "    </tr>\n",
              "    <tr>\n",
              "      <th>4609</th>\n",
              "      <td>1</td>\n",
              "      <td>4</td>\n",
              "      <td>56.0</td>\n",
              "      <td>1.0</td>\n",
              "      <td>2.0</td>\n",
              "      <td>606.0</td>\n",
              "      <td>9.0</td>\n",
              "      <td>16.0</td>\n",
              "      <td>5</td>\n",
              "    </tr>\n",
              "    <tr>\n",
              "      <th>4700</th>\n",
              "      <td>2</td>\n",
              "      <td>4</td>\n",
              "      <td>56.0</td>\n",
              "      <td>1.0</td>\n",
              "      <td>2.0</td>\n",
              "      <td>581.0</td>\n",
              "      <td>182.0</td>\n",
              "      <td>7.0</td>\n",
              "      <td>2</td>\n",
              "    </tr>\n",
              "    <tr>\n",
              "      <th>4359</th>\n",
              "      <td>3</td>\n",
              "      <td>4</td>\n",
              "      <td>87.0</td>\n",
              "      <td>1.0</td>\n",
              "      <td>2.0</td>\n",
              "      <td>11.0</td>\n",
              "      <td>17.0</td>\n",
              "      <td>18.0</td>\n",
              "      <td>2</td>\n",
              "    </tr>\n",
              "  </tbody>\n",
              "</table>\n",
              "</div>\n",
              "      <button class=\"colab-df-convert\" onclick=\"convertToInteractive('df-6fe60669-4664-479b-8d46-45101c7d646f')\"\n",
              "              title=\"Convert this dataframe to an interactive table.\"\n",
              "              style=\"display:none;\">\n",
              "        \n",
              "  <svg xmlns=\"http://www.w3.org/2000/svg\" height=\"24px\"viewBox=\"0 0 24 24\"\n",
              "       width=\"24px\">\n",
              "    <path d=\"M0 0h24v24H0V0z\" fill=\"none\"/>\n",
              "    <path d=\"M18.56 5.44l.94 2.06.94-2.06 2.06-.94-2.06-.94-.94-2.06-.94 2.06-2.06.94zm-11 1L8.5 8.5l.94-2.06 2.06-.94-2.06-.94L8.5 2.5l-.94 2.06-2.06.94zm10 10l.94 2.06.94-2.06 2.06-.94-2.06-.94-.94-2.06-.94 2.06-2.06.94z\"/><path d=\"M17.41 7.96l-1.37-1.37c-.4-.4-.92-.59-1.43-.59-.52 0-1.04.2-1.43.59L10.3 9.45l-7.72 7.72c-.78.78-.78 2.05 0 2.83L4 21.41c.39.39.9.59 1.41.59.51 0 1.02-.2 1.41-.59l7.78-7.78 2.81-2.81c.8-.78.8-2.07 0-2.86zM5.41 20L4 18.59l7.72-7.72 1.47 1.35L5.41 20z\"/>\n",
              "  </svg>\n",
              "      </button>\n",
              "      \n",
              "  <style>\n",
              "    .colab-df-container {\n",
              "      display:flex;\n",
              "      flex-wrap:wrap;\n",
              "      gap: 12px;\n",
              "    }\n",
              "\n",
              "    .colab-df-convert {\n",
              "      background-color: #E8F0FE;\n",
              "      border: none;\n",
              "      border-radius: 50%;\n",
              "      cursor: pointer;\n",
              "      display: none;\n",
              "      fill: #1967D2;\n",
              "      height: 32px;\n",
              "      padding: 0 0 0 0;\n",
              "      width: 32px;\n",
              "    }\n",
              "\n",
              "    .colab-df-convert:hover {\n",
              "      background-color: #E2EBFA;\n",
              "      box-shadow: 0px 1px 2px rgba(60, 64, 67, 0.3), 0px 1px 3px 1px rgba(60, 64, 67, 0.15);\n",
              "      fill: #174EA6;\n",
              "    }\n",
              "\n",
              "    [theme=dark] .colab-df-convert {\n",
              "      background-color: #3B4455;\n",
              "      fill: #D2E3FC;\n",
              "    }\n",
              "\n",
              "    [theme=dark] .colab-df-convert:hover {\n",
              "      background-color: #434B5C;\n",
              "      box-shadow: 0px 1px 3px 1px rgba(0, 0, 0, 0.15);\n",
              "      filter: drop-shadow(0px 1px 2px rgba(0, 0, 0, 0.3));\n",
              "      fill: #FFFFFF;\n",
              "    }\n",
              "  </style>\n",
              "\n",
              "      <script>\n",
              "        const buttonEl =\n",
              "          document.querySelector('#df-6fe60669-4664-479b-8d46-45101c7d646f button.colab-df-convert');\n",
              "        buttonEl.style.display =\n",
              "          google.colab.kernel.accessAllowed ? 'block' : 'none';\n",
              "\n",
              "        async function convertToInteractive(key) {\n",
              "          const element = document.querySelector('#df-6fe60669-4664-479b-8d46-45101c7d646f');\n",
              "          const dataTable =\n",
              "            await google.colab.kernel.invokeFunction('convertToInteractive',\n",
              "                                                     [key], {});\n",
              "          if (!dataTable) return;\n",
              "\n",
              "          const docLinkHtml = 'Like what you see? Visit the ' +\n",
              "            '<a target=\"_blank\" href=https://colab.research.google.com/notebooks/data_table.ipynb>data table notebook</a>'\n",
              "            + ' to learn more about interactive tables.';\n",
              "          element.innerHTML = '';\n",
              "          dataTable['output_type'] = 'display_data';\n",
              "          await google.colab.output.renderOutput(dataTable, element);\n",
              "          const docLink = document.createElement('div');\n",
              "          docLink.innerHTML = docLinkHtml;\n",
              "          element.appendChild(docLink);\n",
              "        }\n",
              "      </script>\n",
              "    </div>\n",
              "  </div>\n",
              "  "
            ]
          },
          "metadata": {},
          "execution_count": 322
        }
      ]
    },
    {
      "cell_type": "markdown",
      "source": [
        "Bây giờ chúng tôi đã có bộ đào tạo và thử nghiệm sẵn sàng để xây dựng mô hình."
      ],
      "metadata": {
        "id": "maSiW1G_fEHf"
      }
    },
    {
      "cell_type": "markdown",
      "source": [
        "**Mô hình phân loại rừng ngẫu nhiên với các tham số mặc định**"
      ],
      "metadata": {
        "id": "X_a8zx-LfHUY"
      }
    },
    {
      "cell_type": "code",
      "source": [
        "# import Random Forest classifier\n",
        "\n",
        "from sklearn.ensemble import RandomForestClassifier\n",
        "\n",
        "\n",
        "\n",
        "# instantiate the classifier \n",
        "\n",
        "rfc = RandomForestClassifier(random_state=0)\n",
        "\n",
        "\n",
        "\n",
        "# fit the model\n",
        "\n",
        "rfc.fit(X_train, y_train)\n",
        "\n",
        "\n",
        "\n",
        "# Predict the Test set results\n",
        "\n",
        "y_pred = rfc.predict(X_test)\n",
        "\n",
        "\n",
        "\n",
        "# Check accuracy score \n",
        "\n",
        "from sklearn.metrics import accuracy_score\n",
        "\n",
        "print('Model accuracy score with 10 decision-trees : {0:0.4f}'. format(accuracy_score(y_test, y_pred)))"
      ],
      "metadata": {
        "colab": {
          "base_uri": "https://localhost:8080/"
        },
        "id": "g4dajyiofBDV",
        "outputId": "0eaf84e5-2829-475b-a0f8-acd7bbd308a3"
      },
      "execution_count": null,
      "outputs": [
        {
          "output_type": "stream",
          "name": "stdout",
          "text": [
            "Model accuracy score with 10 decision-trees : 0.8327\n"
          ]
        }
      ]
    },
    {
      "cell_type": "markdown",
      "source": [
        "Ở đây, y_test là nhãn lớp thực và y_pred là nhãn lớp dự đoán trong tập kiểm tra.\n",
        "\n",
        "mã liên kết\n",
        "\n",
        "Ở đây, tôi đã xây dựng mô hình Random Forest Classifier với tham số mặc định là n_estimators = 10. Vì vậy, tôi đã sử dụng 10 cây quyết định để xây dựng mô hình. Bây giờ, tôi sẽ tăng số lượng cây quyết định và xem ảnh hưởng của nó đối với độ chính xác."
      ],
      "metadata": {
        "id": "EFczVOL4fSGK"
      }
    },
    {
      "cell_type": "markdown",
      "source": [
        "**Random Forest Classifier model with parameter n_estimators=100**"
      ],
      "metadata": {
        "id": "h0CalQEJfUWp"
      }
    },
    {
      "cell_type": "code",
      "source": [
        "# instantiate the classifier with n_estimators = 100\n",
        "\n",
        "rfc_100 = RandomForestClassifier(n_estimators=100, random_state=0)\n",
        "\n",
        "\n",
        "\n",
        "# fit the model to the training set\n",
        "\n",
        "rfc_100.fit(X_train, y_train)\n",
        "\n",
        "\n",
        "\n",
        "# Predict on the test set results\n",
        "\n",
        "y_pred_100 = rfc_100.predict(X_test)\n",
        "\n",
        "\n",
        "\n",
        "# Check accuracy score \n",
        "\n",
        "print('Model accuracy score with 100 decision-trees : {0:0.4f}'. format(accuracy_score(y_test, y_pred_100)))"
      ],
      "metadata": {
        "colab": {
          "base_uri": "https://localhost:8080/"
        },
        "id": "UUVrF9m4fKFn",
        "outputId": "b33c2c41-fac8-40db-d4b8-a68a6210b844"
      },
      "execution_count": null,
      "outputs": [
        {
          "output_type": "stream",
          "name": "stdout",
          "text": [
            "Model accuracy score with 100 decision-trees : 0.8327\n"
          ]
        }
      ]
    },
    {
      "cell_type": "markdown",
      "source": [
        "Điểm chính xác của mô hình với 10 cây quyết định là 0,8194 nhưng tương tự với 100 cây quyết định là 0,8194. Vì vậy, độ chính xác dự kiến ​​sẽ tăng theo số lượng cây quyết định trong mô hình."
      ],
      "metadata": {
        "id": "k3QveCuafZZg"
      }
    },
    {
      "cell_type": "markdown",
      "source": [
        "**Các tính năng quan trọng với mô hình Random Forest**"
      ],
      "metadata": {
        "id": "0Qf3E0IyfhDi"
      }
    },
    {
      "cell_type": "markdown",
      "source": [
        "Cho đến bây giờ, tôi đã sử dụng tất cả các tính năng được đưa ra trong mô hình. Bây giờ, tôi sẽ chỉ chọn các tính năng quan trọng, xây dựng mô hình bằng cách sử dụng các tính năng này và xem ảnh hưởng của nó đối với độ chính xác.\n",
        "\n",
        "Đầu tiên mình sẽ tạo mô hình Random Forest như sau:-"
      ],
      "metadata": {
        "id": "NQxIpBC1flyx"
      }
    },
    {
      "cell_type": "code",
      "source": [
        "# create the classifier with n_estimators = 100\n",
        "\n",
        "clf = RandomForestClassifier(n_estimators=100, random_state=0)\n",
        "\n",
        "\n",
        "\n",
        "# fit the model to the training set\n",
        "\n",
        "clf.fit(X_train, y_train)"
      ],
      "metadata": {
        "colab": {
          "base_uri": "https://localhost:8080/",
          "height": 74
        },
        "id": "JOqsD3GHfeo4",
        "outputId": "801fc613-32a7-483d-f94f-205b8de6c98c"
      },
      "execution_count": null,
      "outputs": [
        {
          "output_type": "execute_result",
          "data": {
            "text/plain": [
              "RandomForestClassifier(random_state=0)"
            ],
            "text/html": [
              "<style>#sk-container-id-9 {color: black;background-color: white;}#sk-container-id-9 pre{padding: 0;}#sk-container-id-9 div.sk-toggleable {background-color: white;}#sk-container-id-9 label.sk-toggleable__label {cursor: pointer;display: block;width: 100%;margin-bottom: 0;padding: 0.3em;box-sizing: border-box;text-align: center;}#sk-container-id-9 label.sk-toggleable__label-arrow:before {content: \"▸\";float: left;margin-right: 0.25em;color: #696969;}#sk-container-id-9 label.sk-toggleable__label-arrow:hover:before {color: black;}#sk-container-id-9 div.sk-estimator:hover label.sk-toggleable__label-arrow:before {color: black;}#sk-container-id-9 div.sk-toggleable__content {max-height: 0;max-width: 0;overflow: hidden;text-align: left;background-color: #f0f8ff;}#sk-container-id-9 div.sk-toggleable__content pre {margin: 0.2em;color: black;border-radius: 0.25em;background-color: #f0f8ff;}#sk-container-id-9 input.sk-toggleable__control:checked~div.sk-toggleable__content {max-height: 200px;max-width: 100%;overflow: auto;}#sk-container-id-9 input.sk-toggleable__control:checked~label.sk-toggleable__label-arrow:before {content: \"▾\";}#sk-container-id-9 div.sk-estimator input.sk-toggleable__control:checked~label.sk-toggleable__label {background-color: #d4ebff;}#sk-container-id-9 div.sk-label input.sk-toggleable__control:checked~label.sk-toggleable__label {background-color: #d4ebff;}#sk-container-id-9 input.sk-hidden--visually {border: 0;clip: rect(1px 1px 1px 1px);clip: rect(1px, 1px, 1px, 1px);height: 1px;margin: -1px;overflow: hidden;padding: 0;position: absolute;width: 1px;}#sk-container-id-9 div.sk-estimator {font-family: monospace;background-color: #f0f8ff;border: 1px dotted black;border-radius: 0.25em;box-sizing: border-box;margin-bottom: 0.5em;}#sk-container-id-9 div.sk-estimator:hover {background-color: #d4ebff;}#sk-container-id-9 div.sk-parallel-item::after {content: \"\";width: 100%;border-bottom: 1px solid gray;flex-grow: 1;}#sk-container-id-9 div.sk-label:hover label.sk-toggleable__label {background-color: #d4ebff;}#sk-container-id-9 div.sk-serial::before {content: \"\";position: absolute;border-left: 1px solid gray;box-sizing: border-box;top: 0;bottom: 0;left: 50%;z-index: 0;}#sk-container-id-9 div.sk-serial {display: flex;flex-direction: column;align-items: center;background-color: white;padding-right: 0.2em;padding-left: 0.2em;position: relative;}#sk-container-id-9 div.sk-item {position: relative;z-index: 1;}#sk-container-id-9 div.sk-parallel {display: flex;align-items: stretch;justify-content: center;background-color: white;position: relative;}#sk-container-id-9 div.sk-item::before, #sk-container-id-9 div.sk-parallel-item::before {content: \"\";position: absolute;border-left: 1px solid gray;box-sizing: border-box;top: 0;bottom: 0;left: 50%;z-index: -1;}#sk-container-id-9 div.sk-parallel-item {display: flex;flex-direction: column;z-index: 1;position: relative;background-color: white;}#sk-container-id-9 div.sk-parallel-item:first-child::after {align-self: flex-end;width: 50%;}#sk-container-id-9 div.sk-parallel-item:last-child::after {align-self: flex-start;width: 50%;}#sk-container-id-9 div.sk-parallel-item:only-child::after {width: 0;}#sk-container-id-9 div.sk-dashed-wrapped {border: 1px dashed gray;margin: 0 0.4em 0.5em 0.4em;box-sizing: border-box;padding-bottom: 0.4em;background-color: white;}#sk-container-id-9 div.sk-label label {font-family: monospace;font-weight: bold;display: inline-block;line-height: 1.2em;}#sk-container-id-9 div.sk-label-container {text-align: center;}#sk-container-id-9 div.sk-container {/* jupyter's `normalize.less` sets `[hidden] { display: none; }` but bootstrap.min.css set `[hidden] { display: none !important; }` so we also need the `!important` here to be able to override the default hidden behavior on the sphinx rendered scikit-learn.org. See: https://github.com/scikit-learn/scikit-learn/issues/21755 */display: inline-block !important;position: relative;}#sk-container-id-9 div.sk-text-repr-fallback {display: none;}</style><div id=\"sk-container-id-9\" class=\"sk-top-container\"><div class=\"sk-text-repr-fallback\"><pre>RandomForestClassifier(random_state=0)</pre><b>In a Jupyter environment, please rerun this cell to show the HTML representation or trust the notebook. <br />On GitHub, the HTML representation is unable to render, please try loading this page with nbviewer.org.</b></div><div class=\"sk-container\" hidden><div class=\"sk-item\"><div class=\"sk-estimator sk-toggleable\"><input class=\"sk-toggleable__control sk-hidden--visually\" id=\"sk-estimator-id-9\" type=\"checkbox\" checked><label for=\"sk-estimator-id-9\" class=\"sk-toggleable__label sk-toggleable__label-arrow\">RandomForestClassifier</label><div class=\"sk-toggleable__content\"><pre>RandomForestClassifier(random_state=0)</pre></div></div></div></div></div>"
            ]
          },
          "metadata": {},
          "execution_count": 325
        }
      ]
    },
    {
      "cell_type": "code",
      "source": [
        "# view the feature scores\n",
        "\n",
        "feature_scores = pd.Series(clf.feature_importances_, index=X_train.columns).sort_values(ascending=False)\n",
        "\n",
        "feature_scores"
      ],
      "metadata": {
        "colab": {
          "base_uri": "https://localhost:8080/"
        },
        "id": "NXVQyrslfWtL",
        "outputId": "261afb17-b3b0-4ec0-b896-8ce6e467d977"
      },
      "execution_count": null,
      "outputs": [
        {
          "output_type": "execute_result",
          "data": {
            "text/plain": [
              "Regionname      0.158801\n",
              "Distance        0.151841\n",
              "Landsize        0.131618\n",
              "BuildingArea    0.125717\n",
              "YearBuilt       0.122769\n",
              "Type            0.114856\n",
              "Bathroom        0.078535\n",
              "Rooms           0.073785\n",
              "Car             0.042077\n",
              "dtype: float64"
            ]
          },
          "metadata": {},
          "execution_count": 326
        }
      ]
    },
    {
      "cell_type": "markdown",
      "source": [
        "Chúng ta có thể thấy rằng tính năng quan trọng nhất là safety và tính năng ít quan trọng nhất là Bathroom."
      ],
      "metadata": {
        "id": "uCWFZZiBfvI3"
      }
    },
    {
      "cell_type": "markdown",
      "source": [
        "**Trực quan hóa điểm số của các tính năng**"
      ],
      "metadata": {
        "id": "nHu2GjXvf6GQ"
      }
    },
    {
      "cell_type": "code",
      "source": [
        "# Creating a seaborn bar plot\n",
        "\n",
        "sns.barplot(x=feature_scores, y=feature_scores.index)\n",
        "\n",
        "\n",
        "\n",
        "# Add labels to the graph\n",
        "\n",
        "plt.xlabel('Feature Importance Score')\n",
        "\n",
        "plt.ylabel('Features')\n",
        "\n",
        "\n",
        "\n",
        "# Add title to the graph\n",
        "\n",
        "plt.title(\"Visualizing Important Features\")\n",
        "\n",
        "\n",
        "\n",
        "# Visualize the graph\n",
        "\n",
        "plt.show()"
      ],
      "metadata": {
        "colab": {
          "base_uri": "https://localhost:8080/",
          "height": 472
        },
        "id": "vBA8yqF2fsRP",
        "outputId": "b2830f98-ab97-489b-98e4-1677f8ea4ce3"
      },
      "execution_count": null,
      "outputs": [
        {
          "output_type": "display_data",
          "data": {
            "text/plain": [
              "<Figure size 640x480 with 1 Axes>"
            ],
            "image/png": "[encoded data removed]"
          },
          "metadata": {}
        }
      ]
    },
    {
      "cell_type": "markdown",
      "source": [
        "**Xây dựng mô hình Rừng ngẫu nhiên trên các tính năng đã chọn**"
      ],
      "metadata": {
        "id": "V5opRXMSgApr"
      }
    },
    {
      "cell_type": "markdown",
      "source": [
        "Bây giờ, tôi sẽ loại bỏ các cửa tính năng ít quan trọng nhất khỏi mô hình, xây dựng lại mô hình và kiểm tra ảnh hưởng của nó đối với độ chính xác."
      ],
      "metadata": {
        "id": "KQMM5GNTgFRI"
      }
    },
    {
      "cell_type": "code",
      "source": [
        "# declare feature vector and target variable\n",
        "\n",
        "X = df.drop(['Encoded_Price', 'Car'], axis=1)\n",
        "\n",
        "y = df['Encoded_Price']"
      ],
      "metadata": {
        "id": "E-rTXf5nf8nI"
      },
      "execution_count": null,
      "outputs": []
    },
    {
      "cell_type": "code",
      "source": [
        "# split data into training and testing sets\n",
        "\n",
        "from sklearn.model_selection import train_test_split\n",
        "\n",
        "X_train, X_test, y_train, y_test = train_test_split(X, y, test_size = 0.33, random_state = 42)"
      ],
      "metadata": {
        "id": "_4itPhhYgGvA"
      },
      "execution_count": null,
      "outputs": []
    },
    {
      "cell_type": "markdown",
      "source": [
        "Bây giờ, em sẽ xây dựng mô hình rừng ngẫu nhiên và kiểm tra độ chính xác."
      ],
      "metadata": {
        "id": "IqKal7VtgMKx"
      }
    },
    {
      "cell_type": "code",
      "source": [
        "# encode categorical variables with ordinal encoding\n",
        "\n",
        "encoder = ce.OrdinalEncoder(cols=['Type','Rooms','Distance','Bathroom','Landsize','BuildingArea','YearBuilt', 'Regionname'])\n",
        "\n",
        "\n",
        "X_train = encoder.fit_transform(X_train)\n",
        "\n",
        "X_test = encoder.transform(X_test)"
      ],
      "metadata": {
        "id": "tio7AnOCgJcg"
      },
      "execution_count": null,
      "outputs": []
    },
    {
      "cell_type": "code",
      "source": [
        "# instantiate the classifier with n_estimators = 100\n",
        "\n",
        "clf = RandomForestClassifier(random_state=0)\n",
        "\n",
        "\n",
        "\n",
        "# fit the model to the training set\n",
        "\n",
        "clf.fit(X_train, y_train)\n",
        "\n",
        "\n",
        "# Predict on the test set results\n",
        "\n",
        "y_pred = clf.predict(X_test)\n",
        "\n",
        "\n",
        "\n",
        "# Check accuracy score \n",
        "\n",
        "print('Model accuracy score with Bathroom variable removed : {0:0.4f}'. format(accuracy_score(y_test, y_pred)))"
      ],
      "metadata": {
        "colab": {
          "base_uri": "https://localhost:8080/"
        },
        "id": "vy5QiSDhgOMU",
        "outputId": "0d0abf36-4d07-4230-82be-9f6e6d1b4ba3"
      },
      "execution_count": null,
      "outputs": [
        {
          "output_type": "stream",
          "name": "stdout",
          "text": [
            "Model accuracy score with Bathroom variable removed : 0.8345\n"
          ]
        }
      ]
    },
    {
      "cell_type": "markdown",
      "source": [
        "Em đã loại bỏ biến \"Car\" khỏi mô hình, xây dựng lại và kiểm tra độ chính xác của nó. Độ chính xác của mô hình sau khi loại bỏ biến \"Car\" là .... Độ chính xác của mô hình khi tính đến tất cả các biến là ..... Vì vậy, chúng ta có thể thấy rằng độ chính xác của mô hình đã được cải thiện khi loại bỏ biến \"Bathroom\" khỏi mô hình.\n",
        "\n",
        "Dựa trên phân tích trên, chúng ta có thể kết luận rằng độ chính xác của mô hình phân loại của chúng ta rất tốt. Mô hình của chúng ta đang làm rất tốt trong việc dự đoán nhãn lớp.\n",
        "\n",
        "Tuy nhiên, mô hình không cung cấp phân phối giá trị bên trong. Ngoài ra, nó không cho biết về loại lỗi mà bộ phân loại của chúng ta đang gặp phải.\n",
        "\n",
        "Chúng ta có một công cụ khác gọi là **Confusion matrix** giúp chúng ta giải quyết vấn đề này."
      ],
      "metadata": {
        "id": "SzL_dzmohNZk"
      }
    },
    {
      "cell_type": "markdown",
      "source": [
        "**Confusion matrix**"
      ],
      "metadata": {
        "id": "cEyswZ-BhSLJ"
      }
    },
    {
      "cell_type": "markdown",
      "source": [
        "\n",
        "Ma trận nhầm lẫn (confusion matrix) là một công cụ để tổng hợp hiệu suất của một thuật toán phân loại. Ma trận nhầm lẫn cung cấp cho chúng ta một cái nhìn rõ ràng về hiệu suất của mô hình phân loại và các loại lỗi mà mô hình tạo ra. Nó cung cấp cho chúng ta một tóm tắt về các dự đoán đúng và sai lệch phân loại theo từng nhãn.\n",
        "\n",
        "Có bốn loại kết quả có thể xảy ra trong quá trình đánh giá hiệu suất của một mô hình phân loại. Bốn loại kết quả này được mô tả như sau:\n",
        "\n",
        "True Positives (TP) - True Positives xảy ra khi chúng ta dự đoán một quan sát thuộc về một lớp nhất định và quan sát thực tế thuộc về lớp đó.\n",
        "\n",
        "True Negatives (TN) - True Negatives xảy ra khi chúng ta dự đoán một quan sát không thuộc về một lớp nhất định và quan sát thực tế cũng không thuộc về lớp đó.\n",
        "\n",
        "False Positives (FP) - False Positives xảy ra khi chúng ta dự đoán một quan sát thuộc về một lớp nhất định nhưng quan sát thực tế không thuộc về lớp đó. Loại lỗi này được gọi là lỗi Loại I.\n",
        "\n",
        "False Negatives (FN) - False Negatives xảy ra khi chúng ta dự đoán một quan sát không thuộc về một lớp nhất định nhưng quan sát thực tế thuộc về lớp đó. Đây là một loại lỗi rất nghiêm trọng và được gọi là lỗi Loại II.\n",
        "\n",
        "Bốn kết quả này được tổng hợp trong một ma trận nhầm lẫn như dưới đây."
      ],
      "metadata": {
        "id": "GzTPhRUEhoAv"
      }
    },
    {
      "cell_type": "code",
      "source": [
        "# declare feature vector and target variable\n",
        "\n",
        "X = df.drop(['Encoded_Price', 'Car', 'Distance'], axis=1)\n",
        "\n",
        "y = df['Encoded_Price']"
      ],
      "metadata": {
        "id": "ih3BSmlP2q8Y"
      },
      "execution_count": null,
      "outputs": []
    },
    {
      "cell_type": "code",
      "source": [
        "# split data into training and testing sets\n",
        "\n",
        "from sklearn.model_selection import train_test_split\n",
        "\n",
        "X_train, X_test, y_train, y_test = train_test_split(X, y, test_size = 0.33, random_state = 42)"
      ],
      "metadata": {
        "id": "6ACpMEnX2yye"
      },
      "execution_count": null,
      "outputs": []
    },
    {
      "cell_type": "code",
      "source": [
        "# encode categorical variables with ordinal encoding\n",
        "\n",
        "encoder = ce.OrdinalEncoder(cols=['Type','Rooms','Bathroom','Landsize','BuildingArea','YearBuilt', 'Regionname'])\n",
        "\n",
        "\n",
        "X_train = encoder.fit_transform(X_train)\n",
        "\n",
        "X_test = encoder.transform(X_test)"
      ],
      "metadata": {
        "id": "T6WiOwoS20sS"
      },
      "execution_count": null,
      "outputs": []
    },
    {
      "cell_type": "code",
      "source": [
        "# instantiate the classifier with n_estimators = 100\n",
        "\n",
        "clf = RandomForestClassifier(random_state=0)\n",
        "\n",
        "\n",
        "\n",
        "# fit the model to the training set\n",
        "\n",
        "clf.fit(X_train, y_train)\n",
        "\n",
        "\n",
        "# Predict on the test set results\n",
        "\n",
        "y_pred = clf.predict(X_test)\n",
        "\n",
        "\n",
        "\n",
        "# Check accuracy score \n",
        "\n",
        "print('Model accuracy score with Bathroom variable removed : {0:0.4f}'. format(accuracy_score(y_test, y_pred)))"
      ],
      "metadata": {
        "colab": {
          "base_uri": "https://localhost:8080/"
        },
        "id": "6TgaPfLL23l4",
        "outputId": "beb94fba-e4cd-4173-d7b6-00ab366d5f42"
      },
      "execution_count": null,
      "outputs": [
        {
          "output_type": "stream",
          "name": "stdout",
          "text": [
            "Model accuracy score with Bathroom variable removed : 0.8092\n"
          ]
        }
      ]
    },
    {
      "cell_type": "markdown",
      "source": [
        "Nhận thấy, khi bỏ Distance (Một biến có độ ảnh hưởng quyết định giá nhà đứng thứ 2) thì ta thấy độ chính xác giảm xuống đáng kể, điều đó cho thấy, Distance là một biến có độ ảnh hưởng lớn là đúng. Suy ra thuật toán có độ chuẩn xác cao."
      ],
      "metadata": {
        "id": "gvjXrEuy27N_"
      }
    },
    {
      "cell_type": "code",
      "source": [
        "# Print the Confusion Matrix and slice it into four pieces\n",
        "\n",
        "from sklearn.metrics import confusion_matrix\n",
        "\n",
        "cm = confusion_matrix(y_test, y_pred)\n",
        "\n",
        "print('Confusion matrix\\n\\n', cm)"
      ],
      "metadata": {
        "colab": {
          "base_uri": "https://localhost:8080/"
        },
        "id": "Qyw2byG-gPre",
        "outputId": "67a8b64d-7bf9-4ecd-ccd8-34b101458fe7"
      },
      "execution_count": null,
      "outputs": [
        {
          "output_type": "stream",
          "name": "stdout",
          "text": [
            "Confusion matrix\n",
            "\n",
            " [[1206  187]\n",
            " [ 243  618]]\n"
          ]
        }
      ]
    },
    {
      "cell_type": "markdown",
      "source": [
        "**Classification Report**"
      ],
      "metadata": {
        "id": "ESKLE4gthc4B"
      }
    },
    {
      "cell_type": "markdown",
      "source": [
        "Báo cáo phân loại là một cách khác để đánh giá hiệu suất của mô hình phân loại. Nó hiển thị điểm chính xác, thu hồi, f1 và hỗ trợ cho mô hình. Tôi đã mô tả các thuật ngữ này sau.\n",
        "\n",
        "Chúng tôi có thể in một báo cáo phân loại như sau: -"
      ],
      "metadata": {
        "id": "D-VJYtGuhhoo"
      }
    },
    {
      "cell_type": "code",
      "source": [
        "from sklearn.metrics import classification_report\n",
        "\n",
        "print(classification_report(y_test, y_pred))"
      ],
      "metadata": {
        "colab": {
          "base_uri": "https://localhost:8080/"
        },
        "id": "FyXFlVO2haQd",
        "outputId": "4c8bc71a-ea78-4d49-ba01-7d66b8467b67"
      },
      "execution_count": null,
      "outputs": [
        {
          "output_type": "stream",
          "name": "stdout",
          "text": [
            "              precision    recall  f1-score   support\n",
            "\n",
            "           0       0.83      0.87      0.85      1393\n",
            "           1       0.77      0.72      0.74       861\n",
            "\n",
            "    accuracy                           0.81      2254\n",
            "   macro avg       0.80      0.79      0.80      2254\n",
            "weighted avg       0.81      0.81      0.81      2254\n",
            "\n"
          ]
        }
      ]
    },
    {
      "cell_type": "markdown",
      "source": [
        "**Kết quả và kết luận**"
      ],
      "metadata": {
        "id": "scXfg0JChzPI"
      }
    },
    {
      "cell_type": "markdown",
      "source": [
        "Trong dự án này, em đã sử dụng thuật toán Rừng ngẫu nhiên để xây dựng bộ phân loại dự đoán loại nhà. Em đã xây dựng hai mô hình, một với 10 cây quyết định và một với 100 cây quyết định.\n",
        "\n",
        "Độ chính xác của mô hình với 10 cây quyết định là ..., trong khi độ chính xác của mô hình với 100 cây quyết định là .... Do đó, dự kiến độ chính xác sẽ tăng theo số lượng cây quyết định trong mô hình.\n",
        "\n",
        "Em đã sử dụng mô hình Rừng ngẫu nhiên để xác định các tính năng quan trọng, xây dựng mô hình bằng cách sử dụng những tính năng này và xem xét ảnh hưởng của chúng đối với độ chính xác. Tính năng quan trọng nhất là tính năng an toàn và tính năng ít quan trọng nhất là YearBuilt (Năm xây dựng).\n",
        "\n",
        "Em đã loại bỏ biến số phòng tắm ra khỏi mô hình, xây dựng lại và kiểm tra độ chính xác của nó. Độ chính xác của mô hình khi loại bỏ biến số phòng tắm là .... Độ chính xác của mô hình với tất cả các biến được tính đến là .... Do đó, ta thấy rằng độ chính xác của mô hình đã được cải thiện khi loại bỏ biến số phòng tắm ra khỏi mô hình.\n",
        "\n",
        "Tuy nhiên, nếu bạn loại bỏ tính năng năm xây dựng khỏi mô hình và xây dựng lại, độ chính xác giảm đáng kể xuống còn .... Vì vậy, bạn quyết định giữ tính năng này trong mô hình.\n",
        "\n",
        "Để có cái nhìn rõ hơn về hiệu suất của mô hình phân loại, em sử dụng ma trận nhầm lẫn và báo cáo phân loại. Chúng giúp trực quan hóa hiệu suất của mô hình và phân tích các loại lỗi mà mô hình tạo ra."
      ],
      "metadata": {
        "id": "p3Tpi4CRiCMQ"
      }
    },
    {
      "cell_type": "code",
      "source": [],
      "metadata": {
        "id": "I67L9N8C7H4V"
      },
      "execution_count": null,
      "outputs": []
    }
  ]
}