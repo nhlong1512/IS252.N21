{
  "nbformat": 4,
  "nbformat_minor": 0,
  "metadata": {
    "colab": {
      "provenance": [],
      "authorship_tag": "ABX9TyNwJ7yUPYIASmgZZfPsf8Px",
      "include_colab_link": true
    },
    "kernelspec": {
      "name": "python3",
      "display_name": "Python 3"
    },
    "language_info": {
      "name": "python"
    }
  },
  "cells": [
    {
      "cell_type": "markdown",
      "metadata": {
        "id": "view-in-github",
        "colab_type": "text"
      },
      "source": [
        "<a href=\"https://colab.research.google.com/github/nhlong1512/IS252.N21/blob/main/RandomForestClassifier/k_nearest_neighbours_classifier_melb_house.ipynb\" target=\"_parent\"><img src=\"https://colab.research.google.com/assets/colab-badge.svg\" alt=\"Open In Colab\"/></a>"
      ]
    },
    {
      "cell_type": "markdown",
      "source": [
        "<h3>'Type': Loại nhà, ví dụ: 'h' (nhà riêng), 'u' (căn hộ), 't' (nhà liền kề).\n",
        "<br>\n",
        "Với đề tài của em là quyết định loại nhà, em có thể chọn các biến phụ thuộc sau:\n",
        "<br>\n",
        "1. 'Rooms': Số lượng phòng ngủ trong nhà.\n",
        "<br>\n",
        "2. 'Distance': Khoảng cách từ nhà đến trung tâm thành phố hoặc điểm quan trọng gần nhất.\n",
        "<br>\n",
        "3. 'Bathroom': Số lượng phòng tắm trong nhà.\n",
        "<br>\n",
        "4. 'Car': Số lượng chỗ đậu xe trong nhà.\n",
        "<br>\n",
        "5. 'Landsize': Diện tích đất.\n",
        "<br>\n",
        "6. 'BuildingArea': Diện tích xây dựng của nhà.\n",
        "<br>\n",
        "7. 'YearBuilt': Năm xây dựng nhà.</h3>"
      ],
      "metadata": {
        "id": "3pJYgml4pFbX"
      }
    },
    {
      "cell_type": "markdown",
      "source": [
        "Import libraries \n"
      ],
      "metadata": {
        "id": "3EhIqlEAbrAh"
      }
    },
    {
      "cell_type": "code",
      "source": [
        "# This Python 3 environment comes with many helpful analytics libraries installed\n",
        "# It is defined by the kaggle/python docker image: https://github.com/kaggle/docker-python\n",
        "# For example, here's several helpful packages to load in \n",
        "\n",
        "import numpy as np # linear algebra\n",
        "import pandas as pd # data processing, CSV file I/O (e.g. pd.read_csv)\n",
        "import matplotlib.pyplot as plt # data visualization\n",
        "import seaborn as sns # statistical data visualization\n",
        "%matplotlib inline\n",
        "\n",
        "sns.set(style='darkgrid', font_scale=1.4)\n",
        "from sklearn.model_selection import train_test_split\n",
        "from scipy import stats\n",
        "import time\n",
        "\n",
        "# Input data files are available in the \"../input/\" directory.\n",
        "# For example, running this (by clicking run or pressing Shift+Enter) will list all files under the input directory\n"
      ],
      "metadata": {
        "id": "Lt4USorHbsgl"
      },
      "execution_count": 101,
      "outputs": []
    },
    {
      "cell_type": "code",
      "source": [
        "import warnings\n",
        "\n",
        "warnings.filterwarnings('ignore')"
      ],
      "metadata": {
        "id": "-1k6zQkpbwFz"
      },
      "execution_count": 102,
      "outputs": []
    },
    {
      "cell_type": "markdown",
      "source": [
        "Import dataset\n"
      ],
      "metadata": {
        "id": "xjpQIs1ccuRf"
      }
    },
    {
      "cell_type": "code",
      "source": [
        "data = 'melb_data1.csv'\n",
        "\n",
        "df = pd.read_csv(data)\n",
        "df"
      ],
      "metadata": {
        "colab": {
          "base_uri": "https://localhost:8080/",
          "height": 713
        },
        "id": "J3jeBoBhbzxm",
        "outputId": "fae6dc70-8450-45ca-8f1e-bc10faad0b60"
      },
      "execution_count": 103,
      "outputs": [
        {
          "output_type": "execute_result",
          "data": {
            "text/plain": [
              "               Suburb            Address  Rooms Type    Price        SellerG  \\\n",
              "0        Airport West      154 Halsey Rd      3    t   840000         Nelson   \n",
              "1         Albert Park     105 Kerferd Rd      2    h  1275000  hockingstuart   \n",
              "2         Albert Park   85 Richardson St      2    h  1455000        Thomson   \n",
              "3          Alphington         6 Smith St      4    h  2000000          Brace   \n",
              "4          Alphington    5/6 Yarralea St      3    h  1110000         Jellis   \n",
              "...               ...                ...    ...  ...      ...            ...   \n",
              "13575  West Footscray    32 Richelieu St      5    h  1030000        Village   \n",
              "13576  West Footscray     121 Suffolk St      3    h   878000        Village   \n",
              "13577          Albion       3 Barclay St      2    h   460000          Barry   \n",
              "13578          Albion     5/25 Ridley St      2    u   190000        Burnham   \n",
              "13579        Oakleigh  9/126 Atherton Rd      3    u   665000        O'Brien   \n",
              "\n",
              "             Date  Distance  Postcode  Bathroom  Car  Landsize  BuildingArea  \\\n",
              "0        3/9/2016      13.5      3042         2  1.0       303         225.0   \n",
              "1        3/9/2016       3.3      3206         1  0.0       120          82.0   \n",
              "2        3/9/2016       3.3      3206         1  0.0       159           NaN   \n",
              "3        3/9/2016       6.4      3078         2  4.0       853         263.0   \n",
              "4        3/9/2016       6.4      3078         2  2.0       208           NaN   \n",
              "...           ...       ...       ...       ...  ...       ...           ...   \n",
              "13575  30/07/2016       8.2      3012         2  2.0       352           NaN   \n",
              "13576  30/07/2016       8.2      3012         1  1.0       397         127.0   \n",
              "13577  30/07/2016      13.9      3020         1  2.0       463          85.0   \n",
              "13578  30/07/2016      13.9      3020         1  1.0         0           NaN   \n",
              "13579  30/07/2016      14.0      3166         1  1.0       112           NaN   \n",
              "\n",
              "       YearBuilt    CouncilArea  Lattitude  Longtitude             Regionname  \\\n",
              "0         2016.0  Moonee Valley   -37.7180    144.8780   Western Metropolitan   \n",
              "1         1900.0   Port Phillip   -37.8459    144.9555  Southern Metropolitan   \n",
              "2            NaN   Port Phillip   -37.8450    144.9538  Southern Metropolitan   \n",
              "3         1930.0        Darebin   -37.7707    145.0318  Northern Metropolitan   \n",
              "4         2013.0          Yarra   -37.7854    145.0325  Northern Metropolitan   \n",
              "...          ...            ...        ...         ...                    ...   \n",
              "13575        NaN    Maribyrnong   -37.7908    144.8711   Western Metropolitan   \n",
              "13576     1960.0    Maribyrnong   -37.7901    144.8682   Western Metropolitan   \n",
              "13577        NaN       Brimbank   -37.7813    144.8234   Western Metropolitan   \n",
              "13578        NaN       Brimbank   -37.7839    144.8239   Western Metropolitan   \n",
              "13579        NaN         Monash   -37.9008    145.0980  Southern Metropolitan   \n",
              "\n",
              "       Propertycount  \n",
              "0               3464  \n",
              "1               3280  \n",
              "2               3280  \n",
              "3               2211  \n",
              "4               2211  \n",
              "...              ...  \n",
              "13575           5058  \n",
              "13576           5058  \n",
              "13577           2185  \n",
              "13578           2185  \n",
              "13579           3224  \n",
              "\n",
              "[13580 rows x 19 columns]"
            ],
            "text/html": [
              "\n",
              "  <div id=\"df-9adcb677-0e14-4825-9ce9-912aa62b9c60\">\n",
              "    <div class=\"colab-df-container\">\n",
              "      <div>\n",
              "<style scoped>\n",
              "    .dataframe tbody tr th:only-of-type {\n",
              "        vertical-align: middle;\n",
              "    }\n",
              "\n",
              "    .dataframe tbody tr th {\n",
              "        vertical-align: top;\n",
              "    }\n",
              "\n",
              "    .dataframe thead th {\n",
              "        text-align: right;\n",
              "    }\n",
              "</style>\n",
              "<table border=\"1\" class=\"dataframe\">\n",
              "  <thead>\n",
              "    <tr style=\"text-align: right;\">\n",
              "      <th></th>\n",
              "      <th>Suburb</th>\n",
              "      <th>Address</th>\n",
              "      <th>Rooms</th>\n",
              "      <th>Type</th>\n",
              "      <th>Price</th>\n",
              "      <th>SellerG</th>\n",
              "      <th>Date</th>\n",
              "      <th>Distance</th>\n",
              "      <th>Postcode</th>\n",
              "      <th>Bathroom</th>\n",
              "      <th>Car</th>\n",
              "      <th>Landsize</th>\n",
              "      <th>BuildingArea</th>\n",
              "      <th>YearBuilt</th>\n",
              "      <th>CouncilArea</th>\n",
              "      <th>Lattitude</th>\n",
              "      <th>Longtitude</th>\n",
              "      <th>Regionname</th>\n",
              "      <th>Propertycount</th>\n",
              "    </tr>\n",
              "  </thead>\n",
              "  <tbody>\n",
              "    <tr>\n",
              "      <th>0</th>\n",
              "      <td>Airport West</td>\n",
              "      <td>154 Halsey Rd</td>\n",
              "      <td>3</td>\n",
              "      <td>t</td>\n",
              "      <td>840000</td>\n",
              "      <td>Nelson</td>\n",
              "      <td>3/9/2016</td>\n",
              "      <td>13.5</td>\n",
              "      <td>3042</td>\n",
              "      <td>2</td>\n",
              "      <td>1.0</td>\n",
              "      <td>303</td>\n",
              "      <td>225.0</td>\n",
              "      <td>2016.0</td>\n",
              "      <td>Moonee Valley</td>\n",
              "      <td>-37.7180</td>\n",
              "      <td>144.8780</td>\n",
              "      <td>Western Metropolitan</td>\n",
              "      <td>3464</td>\n",
              "    </tr>\n",
              "    <tr>\n",
              "      <th>1</th>\n",
              "      <td>Albert Park</td>\n",
              "      <td>105 Kerferd Rd</td>\n",
              "      <td>2</td>\n",
              "      <td>h</td>\n",
              "      <td>1275000</td>\n",
              "      <td>hockingstuart</td>\n",
              "      <td>3/9/2016</td>\n",
              "      <td>3.3</td>\n",
              "      <td>3206</td>\n",
              "      <td>1</td>\n",
              "      <td>0.0</td>\n",
              "      <td>120</td>\n",
              "      <td>82.0</td>\n",
              "      <td>1900.0</td>\n",
              "      <td>Port Phillip</td>\n",
              "      <td>-37.8459</td>\n",
              "      <td>144.9555</td>\n",
              "      <td>Southern Metropolitan</td>\n",
              "      <td>3280</td>\n",
              "    </tr>\n",
              "    <tr>\n",
              "      <th>2</th>\n",
              "      <td>Albert Park</td>\n",
              "      <td>85 Richardson St</td>\n",
              "      <td>2</td>\n",
              "      <td>h</td>\n",
              "      <td>1455000</td>\n",
              "      <td>Thomson</td>\n",
              "      <td>3/9/2016</td>\n",
              "      <td>3.3</td>\n",
              "      <td>3206</td>\n",
              "      <td>1</td>\n",
              "      <td>0.0</td>\n",
              "      <td>159</td>\n",
              "      <td>NaN</td>\n",
              "      <td>NaN</td>\n",
              "      <td>Port Phillip</td>\n",
              "      <td>-37.8450</td>\n",
              "      <td>144.9538</td>\n",
              "      <td>Southern Metropolitan</td>\n",
              "      <td>3280</td>\n",
              "    </tr>\n",
              "    <tr>\n",
              "      <th>3</th>\n",
              "      <td>Alphington</td>\n",
              "      <td>6 Smith St</td>\n",
              "      <td>4</td>\n",
              "      <td>h</td>\n",
              "      <td>2000000</td>\n",
              "      <td>Brace</td>\n",
              "      <td>3/9/2016</td>\n",
              "      <td>6.4</td>\n",
              "      <td>3078</td>\n",
              "      <td>2</td>\n",
              "      <td>4.0</td>\n",
              "      <td>853</td>\n",
              "      <td>263.0</td>\n",
              "      <td>1930.0</td>\n",
              "      <td>Darebin</td>\n",
              "      <td>-37.7707</td>\n",
              "      <td>145.0318</td>\n",
              "      <td>Northern Metropolitan</td>\n",
              "      <td>2211</td>\n",
              "    </tr>\n",
              "    <tr>\n",
              "      <th>4</th>\n",
              "      <td>Alphington</td>\n",
              "      <td>5/6 Yarralea St</td>\n",
              "      <td>3</td>\n",
              "      <td>h</td>\n",
              "      <td>1110000</td>\n",
              "      <td>Jellis</td>\n",
              "      <td>3/9/2016</td>\n",
              "      <td>6.4</td>\n",
              "      <td>3078</td>\n",
              "      <td>2</td>\n",
              "      <td>2.0</td>\n",
              "      <td>208</td>\n",
              "      <td>NaN</td>\n",
              "      <td>2013.0</td>\n",
              "      <td>Yarra</td>\n",
              "      <td>-37.7854</td>\n",
              "      <td>145.0325</td>\n",
              "      <td>Northern Metropolitan</td>\n",
              "      <td>2211</td>\n",
              "    </tr>\n",
              "    <tr>\n",
              "      <th>...</th>\n",
              "      <td>...</td>\n",
              "      <td>...</td>\n",
              "      <td>...</td>\n",
              "      <td>...</td>\n",
              "      <td>...</td>\n",
              "      <td>...</td>\n",
              "      <td>...</td>\n",
              "      <td>...</td>\n",
              "      <td>...</td>\n",
              "      <td>...</td>\n",
              "      <td>...</td>\n",
              "      <td>...</td>\n",
              "      <td>...</td>\n",
              "      <td>...</td>\n",
              "      <td>...</td>\n",
              "      <td>...</td>\n",
              "      <td>...</td>\n",
              "      <td>...</td>\n",
              "      <td>...</td>\n",
              "    </tr>\n",
              "    <tr>\n",
              "      <th>13575</th>\n",
              "      <td>West Footscray</td>\n",
              "      <td>32 Richelieu St</td>\n",
              "      <td>5</td>\n",
              "      <td>h</td>\n",
              "      <td>1030000</td>\n",
              "      <td>Village</td>\n",
              "      <td>30/07/2016</td>\n",
              "      <td>8.2</td>\n",
              "      <td>3012</td>\n",
              "      <td>2</td>\n",
              "      <td>2.0</td>\n",
              "      <td>352</td>\n",
              "      <td>NaN</td>\n",
              "      <td>NaN</td>\n",
              "      <td>Maribyrnong</td>\n",
              "      <td>-37.7908</td>\n",
              "      <td>144.8711</td>\n",
              "      <td>Western Metropolitan</td>\n",
              "      <td>5058</td>\n",
              "    </tr>\n",
              "    <tr>\n",
              "      <th>13576</th>\n",
              "      <td>West Footscray</td>\n",
              "      <td>121 Suffolk St</td>\n",
              "      <td>3</td>\n",
              "      <td>h</td>\n",
              "      <td>878000</td>\n",
              "      <td>Village</td>\n",
              "      <td>30/07/2016</td>\n",
              "      <td>8.2</td>\n",
              "      <td>3012</td>\n",
              "      <td>1</td>\n",
              "      <td>1.0</td>\n",
              "      <td>397</td>\n",
              "      <td>127.0</td>\n",
              "      <td>1960.0</td>\n",
              "      <td>Maribyrnong</td>\n",
              "      <td>-37.7901</td>\n",
              "      <td>144.8682</td>\n",
              "      <td>Western Metropolitan</td>\n",
              "      <td>5058</td>\n",
              "    </tr>\n",
              "    <tr>\n",
              "      <th>13577</th>\n",
              "      <td>Albion</td>\n",
              "      <td>3 Barclay St</td>\n",
              "      <td>2</td>\n",
              "      <td>h</td>\n",
              "      <td>460000</td>\n",
              "      <td>Barry</td>\n",
              "      <td>30/07/2016</td>\n",
              "      <td>13.9</td>\n",
              "      <td>3020</td>\n",
              "      <td>1</td>\n",
              "      <td>2.0</td>\n",
              "      <td>463</td>\n",
              "      <td>85.0</td>\n",
              "      <td>NaN</td>\n",
              "      <td>Brimbank</td>\n",
              "      <td>-37.7813</td>\n",
              "      <td>144.8234</td>\n",
              "      <td>Western Metropolitan</td>\n",
              "      <td>2185</td>\n",
              "    </tr>\n",
              "    <tr>\n",
              "      <th>13578</th>\n",
              "      <td>Albion</td>\n",
              "      <td>5/25 Ridley St</td>\n",
              "      <td>2</td>\n",
              "      <td>u</td>\n",
              "      <td>190000</td>\n",
              "      <td>Burnham</td>\n",
              "      <td>30/07/2016</td>\n",
              "      <td>13.9</td>\n",
              "      <td>3020</td>\n",
              "      <td>1</td>\n",
              "      <td>1.0</td>\n",
              "      <td>0</td>\n",
              "      <td>NaN</td>\n",
              "      <td>NaN</td>\n",
              "      <td>Brimbank</td>\n",
              "      <td>-37.7839</td>\n",
              "      <td>144.8239</td>\n",
              "      <td>Western Metropolitan</td>\n",
              "      <td>2185</td>\n",
              "    </tr>\n",
              "    <tr>\n",
              "      <th>13579</th>\n",
              "      <td>Oakleigh</td>\n",
              "      <td>9/126 Atherton Rd</td>\n",
              "      <td>3</td>\n",
              "      <td>u</td>\n",
              "      <td>665000</td>\n",
              "      <td>O'Brien</td>\n",
              "      <td>30/07/2016</td>\n",
              "      <td>14.0</td>\n",
              "      <td>3166</td>\n",
              "      <td>1</td>\n",
              "      <td>1.0</td>\n",
              "      <td>112</td>\n",
              "      <td>NaN</td>\n",
              "      <td>NaN</td>\n",
              "      <td>Monash</td>\n",
              "      <td>-37.9008</td>\n",
              "      <td>145.0980</td>\n",
              "      <td>Southern Metropolitan</td>\n",
              "      <td>3224</td>\n",
              "    </tr>\n",
              "  </tbody>\n",
              "</table>\n",
              "<p>13580 rows × 19 columns</p>\n",
              "</div>\n",
              "      <button class=\"colab-df-convert\" onclick=\"convertToInteractive('df-9adcb677-0e14-4825-9ce9-912aa62b9c60')\"\n",
              "              title=\"Convert this dataframe to an interactive table.\"\n",
              "              style=\"display:none;\">\n",
              "        \n",
              "  <svg xmlns=\"http://www.w3.org/2000/svg\" height=\"24px\"viewBox=\"0 0 24 24\"\n",
              "       width=\"24px\">\n",
              "    <path d=\"M0 0h24v24H0V0z\" fill=\"none\"/>\n",
              "    <path d=\"M18.56 5.44l.94 2.06.94-2.06 2.06-.94-2.06-.94-.94-2.06-.94 2.06-2.06.94zm-11 1L8.5 8.5l.94-2.06 2.06-.94-2.06-.94L8.5 2.5l-.94 2.06-2.06.94zm10 10l.94 2.06.94-2.06 2.06-.94-2.06-.94-.94-2.06-.94 2.06-2.06.94z\"/><path d=\"M17.41 7.96l-1.37-1.37c-.4-.4-.92-.59-1.43-.59-.52 0-1.04.2-1.43.59L10.3 9.45l-7.72 7.72c-.78.78-.78 2.05 0 2.83L4 21.41c.39.39.9.59 1.41.59.51 0 1.02-.2 1.41-.59l7.78-7.78 2.81-2.81c.8-.78.8-2.07 0-2.86zM5.41 20L4 18.59l7.72-7.72 1.47 1.35L5.41 20z\"/>\n",
              "  </svg>\n",
              "      </button>\n",
              "      \n",
              "  <style>\n",
              "    .colab-df-container {\n",
              "      display:flex;\n",
              "      flex-wrap:wrap;\n",
              "      gap: 12px;\n",
              "    }\n",
              "\n",
              "    .colab-df-convert {\n",
              "      background-color: #E8F0FE;\n",
              "      border: none;\n",
              "      border-radius: 50%;\n",
              "      cursor: pointer;\n",
              "      display: none;\n",
              "      fill: #1967D2;\n",
              "      height: 32px;\n",
              "      padding: 0 0 0 0;\n",
              "      width: 32px;\n",
              "    }\n",
              "\n",
              "    .colab-df-convert:hover {\n",
              "      background-color: #E2EBFA;\n",
              "      box-shadow: 0px 1px 2px rgba(60, 64, 67, 0.3), 0px 1px 3px 1px rgba(60, 64, 67, 0.15);\n",
              "      fill: #174EA6;\n",
              "    }\n",
              "\n",
              "    [theme=dark] .colab-df-convert {\n",
              "      background-color: #3B4455;\n",
              "      fill: #D2E3FC;\n",
              "    }\n",
              "\n",
              "    [theme=dark] .colab-df-convert:hover {\n",
              "      background-color: #434B5C;\n",
              "      box-shadow: 0px 1px 3px 1px rgba(0, 0, 0, 0.15);\n",
              "      filter: drop-shadow(0px 1px 2px rgba(0, 0, 0, 0.3));\n",
              "      fill: #FFFFFF;\n",
              "    }\n",
              "  </style>\n",
              "\n",
              "      <script>\n",
              "        const buttonEl =\n",
              "          document.querySelector('#df-9adcb677-0e14-4825-9ce9-912aa62b9c60 button.colab-df-convert');\n",
              "        buttonEl.style.display =\n",
              "          google.colab.kernel.accessAllowed ? 'block' : 'none';\n",
              "\n",
              "        async function convertToInteractive(key) {\n",
              "          const element = document.querySelector('#df-9adcb677-0e14-4825-9ce9-912aa62b9c60');\n",
              "          const dataTable =\n",
              "            await google.colab.kernel.invokeFunction('convertToInteractive',\n",
              "                                                     [key], {});\n",
              "          if (!dataTable) return;\n",
              "\n",
              "          const docLinkHtml = 'Like what you see? Visit the ' +\n",
              "            '<a target=\"_blank\" href=https://colab.research.google.com/notebooks/data_table.ipynb>data table notebook</a>'\n",
              "            + ' to learn more about interactive tables.';\n",
              "          element.innerHTML = '';\n",
              "          dataTable['output_type'] = 'display_data';\n",
              "          await google.colab.output.renderOutput(dataTable, element);\n",
              "          const docLink = document.createElement('div');\n",
              "          docLink.innerHTML = docLinkHtml;\n",
              "          element.appendChild(docLink);\n",
              "        }\n",
              "      </script>\n",
              "    </div>\n",
              "  </div>\n",
              "  "
            ]
          },
          "metadata": {},
          "execution_count": 103
        }
      ]
    },
    {
      "cell_type": "markdown",
      "source": [
        "Phân tích dữ liệu"
      ],
      "metadata": {
        "id": "-yQCirp4cyu4"
      }
    },
    {
      "cell_type": "code",
      "source": [
        "# view dimensions of dataset\n",
        "\n",
        "df.shape"
      ],
      "metadata": {
        "colab": {
          "base_uri": "https://localhost:8080/"
        },
        "id": "Od6wVDAXcg8v",
        "outputId": "56a6ea64-3e9e-47a6-b49f-7e64cbd6fe2c"
      },
      "execution_count": 104,
      "outputs": [
        {
          "output_type": "execute_result",
          "data": {
            "text/plain": [
              "(13580, 19)"
            ]
          },
          "metadata": {},
          "execution_count": 104
        }
      ]
    },
    {
      "cell_type": "markdown",
      "source": [
        "Chúng ta có thể thấy rằng có 13580 trường hợp và 19 biến trong tập dữ liệu."
      ],
      "metadata": {
        "id": "BPuRNY9Vc8yI"
      }
    },
    {
      "cell_type": "markdown",
      "source": [
        "Cắt những dữ liệu cần thiết\n",
        "'Type','Rooms','Distance','Bathroom','Car','Landsize','BuildingArea','YearBuilt'"
      ],
      "metadata": {
        "id": "WXHSrzyrtsby"
      }
    },
    {
      "cell_type": "code",
      "source": [
        "selected_columns = ['Type','Rooms','Distance','Bathroom','Car','Landsize','BuildingArea','YearBuilt']\n",
        "df = df[selected_columns]"
      ],
      "metadata": {
        "id": "Xvlfsi47twPQ"
      },
      "execution_count": 107,
      "outputs": []
    },
    {
      "cell_type": "code",
      "source": [
        "df.head()"
      ],
      "metadata": {
        "colab": {
          "base_uri": "https://localhost:8080/",
          "height": 206
        },
        "id": "yZoqlxypc5Wm",
        "outputId": "ecf1b86e-37d2-443a-b416-e6a0fab52cd4"
      },
      "execution_count": 108,
      "outputs": [
        {
          "output_type": "execute_result",
          "data": {
            "text/plain": [
              "  Type  Rooms  Distance  Bathroom  Car  Landsize  BuildingArea  YearBuilt\n",
              "0    t      3      13.5         2  1.0       303         225.0     2016.0\n",
              "1    h      2       3.3         1  0.0       120          82.0     1900.0\n",
              "2    h      2       3.3         1  0.0       159           NaN        NaN\n",
              "3    h      4       6.4         2  4.0       853         263.0     1930.0\n",
              "4    h      3       6.4         2  2.0       208           NaN     2013.0"
            ],
            "text/html": [
              "\n",
              "  <div id=\"df-975d6228-50c8-4fe9-a8eb-8edb7af7a1f2\">\n",
              "    <div class=\"colab-df-container\">\n",
              "      <div>\n",
              "<style scoped>\n",
              "    .dataframe tbody tr th:only-of-type {\n",
              "        vertical-align: middle;\n",
              "    }\n",
              "\n",
              "    .dataframe tbody tr th {\n",
              "        vertical-align: top;\n",
              "    }\n",
              "\n",
              "    .dataframe thead th {\n",
              "        text-align: right;\n",
              "    }\n",
              "</style>\n",
              "<table border=\"1\" class=\"dataframe\">\n",
              "  <thead>\n",
              "    <tr style=\"text-align: right;\">\n",
              "      <th></th>\n",
              "      <th>Type</th>\n",
              "      <th>Rooms</th>\n",
              "      <th>Distance</th>\n",
              "      <th>Bathroom</th>\n",
              "      <th>Car</th>\n",
              "      <th>Landsize</th>\n",
              "      <th>BuildingArea</th>\n",
              "      <th>YearBuilt</th>\n",
              "    </tr>\n",
              "  </thead>\n",
              "  <tbody>\n",
              "    <tr>\n",
              "      <th>0</th>\n",
              "      <td>t</td>\n",
              "      <td>3</td>\n",
              "      <td>13.5</td>\n",
              "      <td>2</td>\n",
              "      <td>1.0</td>\n",
              "      <td>303</td>\n",
              "      <td>225.0</td>\n",
              "      <td>2016.0</td>\n",
              "    </tr>\n",
              "    <tr>\n",
              "      <th>1</th>\n",
              "      <td>h</td>\n",
              "      <td>2</td>\n",
              "      <td>3.3</td>\n",
              "      <td>1</td>\n",
              "      <td>0.0</td>\n",
              "      <td>120</td>\n",
              "      <td>82.0</td>\n",
              "      <td>1900.0</td>\n",
              "    </tr>\n",
              "    <tr>\n",
              "      <th>2</th>\n",
              "      <td>h</td>\n",
              "      <td>2</td>\n",
              "      <td>3.3</td>\n",
              "      <td>1</td>\n",
              "      <td>0.0</td>\n",
              "      <td>159</td>\n",
              "      <td>NaN</td>\n",
              "      <td>NaN</td>\n",
              "    </tr>\n",
              "    <tr>\n",
              "      <th>3</th>\n",
              "      <td>h</td>\n",
              "      <td>4</td>\n",
              "      <td>6.4</td>\n",
              "      <td>2</td>\n",
              "      <td>4.0</td>\n",
              "      <td>853</td>\n",
              "      <td>263.0</td>\n",
              "      <td>1930.0</td>\n",
              "    </tr>\n",
              "    <tr>\n",
              "      <th>4</th>\n",
              "      <td>h</td>\n",
              "      <td>3</td>\n",
              "      <td>6.4</td>\n",
              "      <td>2</td>\n",
              "      <td>2.0</td>\n",
              "      <td>208</td>\n",
              "      <td>NaN</td>\n",
              "      <td>2013.0</td>\n",
              "    </tr>\n",
              "  </tbody>\n",
              "</table>\n",
              "</div>\n",
              "      <button class=\"colab-df-convert\" onclick=\"convertToInteractive('df-975d6228-50c8-4fe9-a8eb-8edb7af7a1f2')\"\n",
              "              title=\"Convert this dataframe to an interactive table.\"\n",
              "              style=\"display:none;\">\n",
              "        \n",
              "  <svg xmlns=\"http://www.w3.org/2000/svg\" height=\"24px\"viewBox=\"0 0 24 24\"\n",
              "       width=\"24px\">\n",
              "    <path d=\"M0 0h24v24H0V0z\" fill=\"none\"/>\n",
              "    <path d=\"M18.56 5.44l.94 2.06.94-2.06 2.06-.94-2.06-.94-.94-2.06-.94 2.06-2.06.94zm-11 1L8.5 8.5l.94-2.06 2.06-.94-2.06-.94L8.5 2.5l-.94 2.06-2.06.94zm10 10l.94 2.06.94-2.06 2.06-.94-2.06-.94-.94-2.06-.94 2.06-2.06.94z\"/><path d=\"M17.41 7.96l-1.37-1.37c-.4-.4-.92-.59-1.43-.59-.52 0-1.04.2-1.43.59L10.3 9.45l-7.72 7.72c-.78.78-.78 2.05 0 2.83L4 21.41c.39.39.9.59 1.41.59.51 0 1.02-.2 1.41-.59l7.78-7.78 2.81-2.81c.8-.78.8-2.07 0-2.86zM5.41 20L4 18.59l7.72-7.72 1.47 1.35L5.41 20z\"/>\n",
              "  </svg>\n",
              "      </button>\n",
              "      \n",
              "  <style>\n",
              "    .colab-df-container {\n",
              "      display:flex;\n",
              "      flex-wrap:wrap;\n",
              "      gap: 12px;\n",
              "    }\n",
              "\n",
              "    .colab-df-convert {\n",
              "      background-color: #E8F0FE;\n",
              "      border: none;\n",
              "      border-radius: 50%;\n",
              "      cursor: pointer;\n",
              "      display: none;\n",
              "      fill: #1967D2;\n",
              "      height: 32px;\n",
              "      padding: 0 0 0 0;\n",
              "      width: 32px;\n",
              "    }\n",
              "\n",
              "    .colab-df-convert:hover {\n",
              "      background-color: #E2EBFA;\n",
              "      box-shadow: 0px 1px 2px rgba(60, 64, 67, 0.3), 0px 1px 3px 1px rgba(60, 64, 67, 0.15);\n",
              "      fill: #174EA6;\n",
              "    }\n",
              "\n",
              "    [theme=dark] .colab-df-convert {\n",
              "      background-color: #3B4455;\n",
              "      fill: #D2E3FC;\n",
              "    }\n",
              "\n",
              "    [theme=dark] .colab-df-convert:hover {\n",
              "      background-color: #434B5C;\n",
              "      box-shadow: 0px 1px 3px 1px rgba(0, 0, 0, 0.15);\n",
              "      filter: drop-shadow(0px 1px 2px rgba(0, 0, 0, 0.3));\n",
              "      fill: #FFFFFF;\n",
              "    }\n",
              "  </style>\n",
              "\n",
              "      <script>\n",
              "        const buttonEl =\n",
              "          document.querySelector('#df-975d6228-50c8-4fe9-a8eb-8edb7af7a1f2 button.colab-df-convert');\n",
              "        buttonEl.style.display =\n",
              "          google.colab.kernel.accessAllowed ? 'block' : 'none';\n",
              "\n",
              "        async function convertToInteractive(key) {\n",
              "          const element = document.querySelector('#df-975d6228-50c8-4fe9-a8eb-8edb7af7a1f2');\n",
              "          const dataTable =\n",
              "            await google.colab.kernel.invokeFunction('convertToInteractive',\n",
              "                                                     [key], {});\n",
              "          if (!dataTable) return;\n",
              "\n",
              "          const docLinkHtml = 'Like what you see? Visit the ' +\n",
              "            '<a target=\"_blank\" href=https://colab.research.google.com/notebooks/data_table.ipynb>data table notebook</a>'\n",
              "            + ' to learn more about interactive tables.';\n",
              "          element.innerHTML = '';\n",
              "          dataTable['output_type'] = 'display_data';\n",
              "          await google.colab.output.renderOutput(dataTable, element);\n",
              "          const docLink = document.createElement('div');\n",
              "          docLink.innerHTML = docLinkHtml;\n",
              "          element.appendChild(docLink);\n",
              "        }\n",
              "      </script>\n",
              "    </div>\n",
              "  </div>\n",
              "  "
            ]
          },
          "metadata": {},
          "execution_count": 108
        }
      ]
    },
    {
      "cell_type": "markdown",
      "source": [
        "Xem tóm tắt tập dữ liệu"
      ],
      "metadata": {
        "id": "dgvKzCQndQjg"
      }
    },
    {
      "cell_type": "code",
      "source": [
        "df.info()\n"
      ],
      "metadata": {
        "colab": {
          "base_uri": "https://localhost:8080/"
        },
        "id": "_jL2haamdMFL",
        "outputId": "a56b4688-183c-4f94-98ea-a2d67ad3adf7"
      },
      "execution_count": 109,
      "outputs": [
        {
          "output_type": "stream",
          "name": "stdout",
          "text": [
            "<class 'pandas.core.frame.DataFrame'>\n",
            "RangeIndex: 13580 entries, 0 to 13579\n",
            "Data columns (total 8 columns):\n",
            " #   Column        Non-Null Count  Dtype  \n",
            "---  ------        --------------  -----  \n",
            " 0   Type          13580 non-null  object \n",
            " 1   Rooms         13580 non-null  int64  \n",
            " 2   Distance      13580 non-null  float64\n",
            " 3   Bathroom      13580 non-null  int64  \n",
            " 4   Car           13518 non-null  float64\n",
            " 5   Landsize      13580 non-null  int64  \n",
            " 6   BuildingArea  7130 non-null   float64\n",
            " 7   YearBuilt     8205 non-null   float64\n",
            "dtypes: float64(4), int64(3), object(1)\n",
            "memory usage: 848.9+ KB\n"
          ]
        }
      ]
    },
    {
      "cell_type": "code",
      "source": [
        "for var in df.columns:\n",
        "    \n",
        "    print(df[var].value_counts())"
      ],
      "metadata": {
        "colab": {
          "base_uri": "https://localhost:8080/"
        },
        "id": "X-VJ0S2JEyvn",
        "outputId": "683148cc-e141-4977-a4e2-cdcc5d3878c3"
      },
      "execution_count": 110,
      "outputs": [
        {
          "output_type": "stream",
          "name": "stdout",
          "text": [
            "h    9449\n",
            "u    3017\n",
            "t    1114\n",
            "Name: Type, dtype: int64\n",
            "3     5881\n",
            "2     3648\n",
            "4     2688\n",
            "1      681\n",
            "5      596\n",
            "6       67\n",
            "7       10\n",
            "8        8\n",
            "10       1\n",
            "Name: Rooms, dtype: int64\n",
            "11.2    739\n",
            "9.2     367\n",
            "13.9    324\n",
            "7.8     306\n",
            "4.6     263\n",
            "       ... \n",
            "16.6      1\n",
            "43.3      1\n",
            "37.5      1\n",
            "45.2      1\n",
            "35.5      1\n",
            "Name: Distance, Length: 202, dtype: int64\n",
            "1    7512\n",
            "2    4974\n",
            "3     917\n",
            "4     106\n",
            "0      34\n",
            "5      28\n",
            "6       5\n",
            "7       2\n",
            "8       2\n",
            "Name: Bathroom, dtype: int64\n",
            "2.0     5591\n",
            "1.0     5509\n",
            "0.0     1026\n",
            "3.0      748\n",
            "4.0      506\n",
            "5.0       63\n",
            "6.0       54\n",
            "8.0        9\n",
            "7.0        8\n",
            "10.0       3\n",
            "9.0        1\n",
            "Name: Car, dtype: int64\n",
            "0       1939\n",
            "650      103\n",
            "697       71\n",
            "700       48\n",
            "585       47\n",
            "        ... \n",
            "1334       1\n",
            "1197       1\n",
            "1022       1\n",
            "34         1\n",
            "1357       1\n",
            "Name: Landsize, Length: 1448, dtype: int64\n",
            "120.00    114\n",
            "110.00     89\n",
            "100.00     88\n",
            "130.00     84\n",
            "115.00     77\n",
            "         ... \n",
            "103.60      1\n",
            "63.70       1\n",
            "106.76      1\n",
            "39.50       1\n",
            "357.00      1\n",
            "Name: BuildingArea, Length: 602, dtype: int64\n",
            "1970.0    866\n",
            "1960.0    725\n",
            "1950.0    580\n",
            "1900.0    341\n",
            "1980.0    338\n",
            "         ... \n",
            "1856.0      1\n",
            "1897.0      1\n",
            "1893.0      1\n",
            "1830.0      1\n",
            "1857.0      1\n",
            "Name: YearBuilt, Length: 144, dtype: int64\n"
          ]
        }
      ]
    },
    {
      "cell_type": "code",
      "source": [
        "df.dtypes"
      ],
      "metadata": {
        "colab": {
          "base_uri": "https://localhost:8080/"
        },
        "id": "WpbG4YvjE3wA",
        "outputId": "8b96445a-2a3a-4cf3-96d0-88ceb3186405"
      },
      "execution_count": 111,
      "outputs": [
        {
          "output_type": "execute_result",
          "data": {
            "text/plain": [
              "Type             object\n",
              "Rooms             int64\n",
              "Distance        float64\n",
              "Bathroom          int64\n",
              "Car             float64\n",
              "Landsize          int64\n",
              "BuildingArea    float64\n",
              "YearBuilt       float64\n",
              "dtype: object"
            ]
          },
          "metadata": {},
          "execution_count": 111
        }
      ]
    },
    {
      "cell_type": "code",
      "source": [
        "# check missing values in variables\n",
        "\n",
        "df.isnull().sum()"
      ],
      "metadata": {
        "colab": {
          "base_uri": "https://localhost:8080/"
        },
        "id": "J7C5pprZE7Ew",
        "outputId": "04950518-70dc-4236-9bf2-15a3233c4bb6"
      },
      "execution_count": 112,
      "outputs": [
        {
          "output_type": "execute_result",
          "data": {
            "text/plain": [
              "Type               0\n",
              "Rooms              0\n",
              "Distance           0\n",
              "Bathroom           0\n",
              "Car               62\n",
              "Landsize           0\n",
              "BuildingArea    6450\n",
              "YearBuilt       5375\n",
              "dtype: int64"
            ]
          },
          "metadata": {},
          "execution_count": 112
        }
      ]
    },
    {
      "cell_type": "code",
      "source": [
        "df.isna().sum()"
      ],
      "metadata": {
        "colab": {
          "base_uri": "https://localhost:8080/"
        },
        "id": "1A_N1vA2FEVQ",
        "outputId": "7ca4b668-12d9-4650-a51e-642669337134"
      },
      "execution_count": 113,
      "outputs": [
        {
          "output_type": "execute_result",
          "data": {
            "text/plain": [
              "Type               0\n",
              "Rooms              0\n",
              "Distance           0\n",
              "Bathroom           0\n",
              "Car               62\n",
              "Landsize           0\n",
              "BuildingArea    6450\n",
              "YearBuilt       5375\n",
              "dtype: int64"
            ]
          },
          "metadata": {},
          "execution_count": 113
        }
      ]
    },
    {
      "cell_type": "markdown",
      "source": [
        "Ngoại lệ trong các biến số"
      ],
      "metadata": {
        "id": "_E7BrzIXFeJd"
      }
    },
    {
      "cell_type": "code",
      "source": [
        "print(round(df.describe(),2))"
      ],
      "metadata": {
        "colab": {
          "base_uri": "https://localhost:8080/"
        },
        "id": "_1cZDXkkFaig",
        "outputId": "025da891-37bb-4c9a-98bf-a1b5e0296012"
      },
      "execution_count": 118,
      "outputs": [
        {
          "output_type": "stream",
          "name": "stdout",
          "text": [
            "          Rooms  Distance  Bathroom       Car   Landsize  BuildingArea  \\\n",
            "count  13580.00  13580.00  13580.00  13518.00   13580.00       7130.00   \n",
            "mean       2.94     10.14      1.53      1.61     558.42        151.97   \n",
            "std        0.96      5.87      0.69      0.96    3990.67        541.01   \n",
            "min        1.00      0.00      0.00      0.00       0.00          0.00   \n",
            "25%        2.00      6.10      1.00      1.00     177.00         93.00   \n",
            "50%        3.00      9.20      1.00      2.00     440.00        126.00   \n",
            "75%        3.00     13.00      2.00      2.00     651.00        174.00   \n",
            "max       10.00     48.10      8.00     10.00  433014.00      44515.00   \n",
            "\n",
            "       YearBuilt  \n",
            "count    8205.00  \n",
            "mean     1964.68  \n",
            "std        37.27  \n",
            "min      1196.00  \n",
            "25%      1940.00  \n",
            "50%      1970.00  \n",
            "75%      1999.00  \n",
            "max      2018.00  \n"
          ]
        }
      ]
    },
    {
      "cell_type": "code",
      "source": [
        "df['Type'].value_counts()"
      ],
      "metadata": {
        "colab": {
          "base_uri": "https://localhost:8080/"
        },
        "id": "2bos4d68GiEK",
        "outputId": "da4d2606-6987-45c7-f444-fd0d448c192e"
      },
      "execution_count": 123,
      "outputs": [
        {
          "output_type": "execute_result",
          "data": {
            "text/plain": [
              "h    9449\n",
              "u    3017\n",
              "t    1114\n",
              "Name: Type, dtype: int64"
            ]
          },
          "metadata": {},
          "execution_count": 123
        }
      ]
    },
    {
      "cell_type": "code",
      "source": [
        "# import category encoders\n",
        "!pip install --upgrade category_encoders\n",
        "import category_encoders as ce"
      ],
      "metadata": {
        "colab": {
          "base_uri": "https://localhost:8080/"
        },
        "id": "8dLRCFz-Hdwb",
        "outputId": "43beffbb-8ef6-49c9-b426-7954c488612c"
      },
      "execution_count": 131,
      "outputs": [
        {
          "output_type": "stream",
          "name": "stdout",
          "text": [
            "Looking in indexes: https://pypi.org/simple, https://us-python.pkg.dev/colab-wheels/public/simple/\n",
            "Collecting category_encoders\n",
            "  Downloading category_encoders-2.6.1-py2.py3-none-any.whl (81 kB)\n",
            "\u001b[?25l     \u001b[90m━━━━━━━━━━━━━━━━━━━━━━━━━━━━━━━━━━━━━━━━\u001b[0m \u001b[32m0.0/81.9 kB\u001b[0m \u001b[31m?\u001b[0m eta \u001b[36m-:--:--\u001b[0m\r\u001b[2K     \u001b[90m━━━━━━━━━━━━━━━━━━━━━━━━━━━━━━━━━━━━━━━━\u001b[0m \u001b[32m81.9/81.9 kB\u001b[0m \u001b[31m3.5 MB/s\u001b[0m eta \u001b[36m0:00:00\u001b[0m\n",
            "\u001b[?25hRequirement already satisfied: numpy>=1.14.0 in /usr/local/lib/python3.10/dist-packages (from category_encoders) (1.22.4)\n",
            "Requirement already satisfied: scikit-learn>=0.20.0 in /usr/local/lib/python3.10/dist-packages (from category_encoders) (1.2.2)\n",
            "Requirement already satisfied: scipy>=1.0.0 in /usr/local/lib/python3.10/dist-packages (from category_encoders) (1.10.1)\n",
            "Requirement already satisfied: statsmodels>=0.9.0 in /usr/local/lib/python3.10/dist-packages (from category_encoders) (0.13.5)\n",
            "Requirement already satisfied: pandas>=1.0.5 in /usr/local/lib/python3.10/dist-packages (from category_encoders) (1.5.3)\n",
            "Requirement already satisfied: patsy>=0.5.1 in /usr/local/lib/python3.10/dist-packages (from category_encoders) (0.5.3)\n",
            "Requirement already satisfied: python-dateutil>=2.8.1 in /usr/local/lib/python3.10/dist-packages (from pandas>=1.0.5->category_encoders) (2.8.2)\n",
            "Requirement already satisfied: pytz>=2020.1 in /usr/local/lib/python3.10/dist-packages (from pandas>=1.0.5->category_encoders) (2022.7.1)\n",
            "Requirement already satisfied: six in /usr/local/lib/python3.10/dist-packages (from patsy>=0.5.1->category_encoders) (1.16.0)\n",
            "Requirement already satisfied: joblib>=1.1.1 in /usr/local/lib/python3.10/dist-packages (from scikit-learn>=0.20.0->category_encoders) (1.2.0)\n",
            "Requirement already satisfied: threadpoolctl>=2.0.0 in /usr/local/lib/python3.10/dist-packages (from scikit-learn>=0.20.0->category_encoders) (3.1.0)\n",
            "Requirement already satisfied: packaging>=21.3 in /usr/local/lib/python3.10/dist-packages (from statsmodels>=0.9.0->category_encoders) (23.1)\n",
            "Installing collected packages: category_encoders\n",
            "Successfully installed category_encoders-2.6.1\n"
          ]
        }
      ]
    },
    {
      "cell_type": "code",
      "source": [
        "encoder = ce.OrdinalEncoder(cols=['Rooms','Distance','Bathroom','Car','Landsize','BuildingArea','YearBuilt', 'Type'])"
      ],
      "metadata": {
        "id": "Izj5-cc0HnvN"
      },
      "execution_count": 132,
      "outputs": []
    },
    {
      "cell_type": "code",
      "source": [
        "df= encoder.fit_transform(df)"
      ],
      "metadata": {
        "id": "AjM3yLq7HumV"
      },
      "execution_count": 133,
      "outputs": []
    },
    {
      "cell_type": "markdown",
      "source": [
        "thuật toán kNN mạnh mẽ đối với các ngoại lệ."
      ],
      "metadata": {
        "id": "iM1i_A_1FiHY"
      }
    },
    {
      "cell_type": "code",
      "source": [
        "# view percentage of frequency distribution of values in `Class` variable\n",
        "\n",
        "df['Type'].value_counts()/np.float(len(df))"
      ],
      "metadata": {
        "colab": {
          "base_uri": "https://localhost:8080/"
        },
        "id": "cyLARYzPFIzb",
        "outputId": "ff506f0f-0397-44fc-d326-3f57e3f6a261"
      },
      "execution_count": 134,
      "outputs": [
        {
          "output_type": "execute_result",
          "data": {
            "text/plain": [
              "2    0.695803\n",
              "3    0.222165\n",
              "1    0.082032\n",
              "Name: Type, dtype: float64"
            ]
          },
          "metadata": {},
          "execution_count": 134
        }
      ]
    },
    {
      "cell_type": "code",
      "source": [
        "print(round(df.describe(),2))"
      ],
      "metadata": {
        "colab": {
          "base_uri": "https://localhost:8080/"
        },
        "id": "jKRMP_lbGo_6",
        "outputId": "0ec8aae8-b33b-48ab-f0c2-0e4abc448390"
      },
      "execution_count": 135,
      "outputs": [
        {
          "output_type": "stream",
          "name": "stdout",
          "text": [
            "           Type     Rooms  Distance  Bathroom       Car  Landsize  \\\n",
            "count  13580.00  13580.00  13580.00  13580.00  13580.00  13580.00   \n",
            "mean       2.14      2.03     56.58      1.74      2.77    397.54   \n",
            "std        0.53      1.17     45.05      0.69      1.76    339.83   \n",
            "min        1.00      1.00      1.00      1.00      1.00      1.00   \n",
            "25%        2.00      1.00     18.00      1.00      1.00    101.00   \n",
            "50%        2.00      2.00     46.00      2.00      3.00    336.00   \n",
            "75%        2.00      3.00     82.00      2.00      4.00    620.00   \n",
            "max        3.00      9.00    202.00      9.00     12.00   1448.00   \n",
            "\n",
            "       BuildingArea  YearBuilt  \n",
            "count      13580.00   13580.00  \n",
            "mean         360.14      71.83  \n",
            "std          244.60      61.74  \n",
            "min            1.00       1.00  \n",
            "25%          115.00      13.00  \n",
            "50%          369.50      39.00  \n",
            "75%          603.00     145.00  \n",
            "max          603.00     145.00  \n"
          ]
        }
      ]
    },
    {
      "cell_type": "markdown",
      "source": [
        "**Trực quan hóa dữ liệu**"
      ],
      "metadata": {
        "id": "rXfEMmZ6Fkyc"
      }
    },
    {
      "cell_type": "code",
      "source": [
        "# plot histograms of the variables\n",
        "\n",
        "\n",
        "plt.rcParams['figure.figsize']=(30,25)\n",
        "\n",
        "df.plot(kind='hist', bins=10, subplots=True, layout=(5,2), sharex=False, sharey=False)\n",
        "\n",
        "plt.show()"
      ],
      "metadata": {
        "colab": {
          "base_uri": "https://localhost:8080/",
          "height": 733
        },
        "id": "6ZpSAr9Vu0jX",
        "outputId": "56376689-75c1-41b9-ae41-8bab56b0a6f8"
      },
      "execution_count": 136,
      "outputs": [
        {
          "output_type": "display_data",
          "data": {
            "text/plain": [
              "<Figure size 3000x2500 with 10 Axes>"
            ],
            "image/png": "[encoded data removed]"
          },
          "metadata": {}
        }
      ]
    },
    {
      "cell_type": "markdown",
      "source": [
        "Ước lượng các hệ số tương quan\n",
        "\n",
        "Tập dữ liệu của chúng tôi rất nhỏ. Vì vậy, chúng ta có thể tính toán hệ số tương quan tiêu chuẩn (còn gọi là Pearson's r) giữa mọi cặp thuộc tính. Chúng ta có thể tính toán nó bằng phương thức df.corr() như sau: -"
      ],
      "metadata": {
        "id": "5QWlOPAZF2wh"
      }
    },
    {
      "cell_type": "code",
      "source": [
        "correlation = df.corr()"
      ],
      "metadata": {
        "id": "cuwditKDF5Pw"
      },
      "execution_count": 137,
      "outputs": []
    },
    {
      "cell_type": "code",
      "source": [
        "correlation['Type'].sort_values(ascending=False)"
      ],
      "metadata": {
        "colab": {
          "base_uri": "https://localhost:8080/"
        },
        "id": "QqjQnLw8F9nQ",
        "outputId": "dc810f59-0dac-43cf-dd30-d02ba1ad2e5d"
      },
      "execution_count": 138,
      "outputs": [
        {
          "output_type": "execute_result",
          "data": {
            "text/plain": [
              "Type            1.000000\n",
              "Rooms           0.210862\n",
              "Bathroom        0.117930\n",
              "BuildingArea    0.022485\n",
              "Distance       -0.019665\n",
              "YearBuilt      -0.043944\n",
              "Landsize       -0.141179\n",
              "Car            -0.270527\n",
              "Name: Type, dtype: float64"
            ]
          },
          "metadata": {},
          "execution_count": 138
        }
      ]
    },
    {
      "cell_type": "markdown",
      "source": [
        "**Heat Map**"
      ],
      "metadata": {
        "id": "eRtl9mTgIT0n"
      }
    },
    {
      "cell_type": "code",
      "source": [
        "plt.figure(figsize=(10,8))\n",
        "plt.title('Correlation of Attributes with Type variable')\n",
        "a = sns.heatmap(correlation, square=True, annot=True, fmt='.2f', linecolor='white')\n",
        "a.set_xticklabels(a.get_xticklabels(), rotation=90)\n",
        "a.set_yticklabels(a.get_yticklabels(), rotation=30)           \n",
        "plt.show()"
      ],
      "metadata": {
        "colab": {
          "base_uri": "https://localhost:8080/",
          "height": 828
        },
        "id": "Is0t6TokIWjS",
        "outputId": "1848945c-30a3-44f8-aee3-76457a74684d"
      },
      "execution_count": 139,
      "outputs": [
        {
          "output_type": "display_data",
          "data": {
            "text/plain": [
              "<Figure size 1000x800 with 2 Axes>"
            ],
            "image/png": "[encoded data removed]"
          },
          "metadata": {}
        }
      ]
    },
    {
      "cell_type": "markdown",
      "source": [
        "**Declare feature vector and target variable**"
      ],
      "metadata": {
        "id": "2G4yHmohInaA"
      }
    },
    {
      "cell_type": "code",
      "source": [
        "X = df.drop(['Type'], axis=1)\n",
        "\n",
        "y = df['Type']"
      ],
      "metadata": {
        "id": "qMvvlDWGIZex"
      },
      "execution_count": 140,
      "outputs": []
    },
    {
      "cell_type": "markdown",
      "source": [
        "**Tách dữ liệu thành tập huấn luyện và kiểm tra riêng biệt**"
      ],
      "metadata": {
        "id": "d2zKPZhqItg4"
      }
    },
    {
      "cell_type": "code",
      "source": [
        "# split X and y into training and testing sets\n",
        "\n",
        "from sklearn.model_selection import train_test_split\n",
        "\n",
        "X_train, X_test, y_train, y_test = train_test_split(X, y, test_size = 0.33, random_state = 0)"
      ],
      "metadata": {
        "id": "DmZPfiEbIqr1"
      },
      "execution_count": 141,
      "outputs": []
    },
    {
      "cell_type": "code",
      "source": [
        "# check the shape of X_train and X_test\n",
        "\n",
        "X_train.shape, X_test.shape"
      ],
      "metadata": {
        "colab": {
          "base_uri": "https://localhost:8080/"
        },
        "id": "hpuRQCE3Iwo8",
        "outputId": "eef5c534-12c6-4795-9a03-2b45c87c4c6b"
      },
      "execution_count": 142,
      "outputs": [
        {
          "output_type": "execute_result",
          "data": {
            "text/plain": [
              "((9098, 7), (4482, 7))"
            ]
          },
          "metadata": {},
          "execution_count": 142
        }
      ]
    },
    {
      "cell_type": "markdown",
      "source": [
        "**Feature Engineering**"
      ],
      "metadata": {
        "id": "0KbTsa4KIzvf"
      }
    },
    {
      "cell_type": "code",
      "source": [
        "# check data types in X_train\n",
        "\n",
        "X_train.dtypes"
      ],
      "metadata": {
        "colab": {
          "base_uri": "https://localhost:8080/"
        },
        "id": "KW9KdvwxIxxF",
        "outputId": "d478d6b6-8508-424a-dd50-11a8a748d3f2"
      },
      "execution_count": 143,
      "outputs": [
        {
          "output_type": "execute_result",
          "data": {
            "text/plain": [
              "Rooms           int64\n",
              "Distance        int64\n",
              "Bathroom        int64\n",
              "Car             int64\n",
              "Landsize        int64\n",
              "BuildingArea    int64\n",
              "YearBuilt       int64\n",
              "dtype: object"
            ]
          },
          "metadata": {},
          "execution_count": 143
        }
      ]
    },
    {
      "cell_type": "markdown",
      "source": [
        "Kỹ thuật thiếu giá trị trong các biến\n"
      ],
      "metadata": {
        "id": "Dl-hTL47I5DR"
      }
    },
    {
      "cell_type": "code",
      "source": [
        "# check missing values in numerical variables in X_train\n",
        "\n",
        "X_train.isnull().sum()"
      ],
      "metadata": {
        "colab": {
          "base_uri": "https://localhost:8080/"
        },
        "id": "dAcQAKpoI1oC",
        "outputId": "f92392bd-f8a0-43ca-aa19-89c1c9dbb841"
      },
      "execution_count": 144,
      "outputs": [
        {
          "output_type": "execute_result",
          "data": {
            "text/plain": [
              "Rooms           0\n",
              "Distance        0\n",
              "Bathroom        0\n",
              "Car             0\n",
              "Landsize        0\n",
              "BuildingArea    0\n",
              "YearBuilt       0\n",
              "dtype: int64"
            ]
          },
          "metadata": {},
          "execution_count": 144
        }
      ]
    },
    {
      "cell_type": "code",
      "source": [
        "# check missing values in numerical variables in X_test\n",
        "\n",
        "X_test.isnull().sum()"
      ],
      "metadata": {
        "colab": {
          "base_uri": "https://localhost:8080/"
        },
        "id": "C-js3EayI6xF",
        "outputId": "5e02ead2-cbfd-4eab-b41c-911878f0ae72"
      },
      "execution_count": 145,
      "outputs": [
        {
          "output_type": "execute_result",
          "data": {
            "text/plain": [
              "Rooms           0\n",
              "Distance        0\n",
              "Bathroom        0\n",
              "Car             0\n",
              "Landsize        0\n",
              "BuildingArea    0\n",
              "YearBuilt       0\n",
              "dtype: int64"
            ]
          },
          "metadata": {},
          "execution_count": 145
        }
      ]
    },
    {
      "cell_type": "code",
      "source": [
        "# print percentage of missing values in the numerical variables in training set\n",
        "\n",
        "for col in X_train.columns:\n",
        "    if X_train[col].isnull().mean()>0:\n",
        "        print(col, round(X_train[col].isnull().mean(),4))"
      ],
      "metadata": {
        "id": "7D9SXYP0I8Oq"
      },
      "execution_count": 146,
      "outputs": []
    },
    {
      "cell_type": "markdown",
      "source": [
        "iả thiết\n",
        "\n",
        "Tôi cho rằng dữ liệu bị thiếu hoàn toàn ngẫu nhiên (MCAR). Có hai phương pháp có thể được sử dụng để quy các giá trị còn thiếu. Một là quy nạp trung bình hoặc trung vị và một là quy nạp mẫu ngẫu nhiên. Khi có các giá trị ngoại lệ trong tập dữ liệu, chúng ta nên sử dụng phương pháp quy nạp trung bình. Vì vậy, tôi sẽ sử dụng phương pháp quy ước trung vị vì quy ước trung bình rất mạnh đối với các giá trị ngoại lai.\n",
        "\n",
        "Tôi sẽ gán các giá trị còn thiếu bằng các biện pháp thống kê thích hợp của dữ liệu, trong trường hợp này là trung vị. Việc quy nạp nên được thực hiện trên tập huấn luyện, sau đó được truyền sang tập kiểm tra. Điều đó có nghĩa là các biện pháp thống kê được sử dụng để lấp đầy các giá trị còn thiếu cả trong tập huấn luyện và tập kiểm tra, chỉ nên được trích xuất từ ​​​​tập huấn luyện. Điều này là để tránh trang bị quá mức."
      ],
      "metadata": {
        "id": "YmOgSsymJGI4"
      }
    },
    {
      "cell_type": "code",
      "source": [
        "# impute missing values in X_train and X_test with respective column median in X_train\n",
        "\n",
        "for df1 in [X_train, X_test]:\n",
        "    for col in X_train.columns:\n",
        "        col_median=X_train[col].median()\n",
        "        df1[col].fillna(col_median, inplace=True)           \n",
        "      "
      ],
      "metadata": {
        "id": "Re1RFhuEI-ef"
      },
      "execution_count": 147,
      "outputs": []
    },
    {
      "cell_type": "code",
      "source": [
        "# check again missing values in numerical variables in X_train\n",
        "\n",
        "X_train.isnull().sum()"
      ],
      "metadata": {
        "colab": {
          "base_uri": "https://localhost:8080/"
        },
        "id": "sMKGO16kJJWQ",
        "outputId": "03af245f-e7aa-4e6b-9edf-f2a8b5da39ae"
      },
      "execution_count": 148,
      "outputs": [
        {
          "output_type": "execute_result",
          "data": {
            "text/plain": [
              "Rooms           0\n",
              "Distance        0\n",
              "Bathroom        0\n",
              "Car             0\n",
              "Landsize        0\n",
              "BuildingArea    0\n",
              "YearBuilt       0\n",
              "dtype: int64"
            ]
          },
          "metadata": {},
          "execution_count": 148
        }
      ]
    },
    {
      "cell_type": "code",
      "source": [
        "# check missing values in numerical variables in X_test\n",
        "\n",
        "X_test.isnull().sum()"
      ],
      "metadata": {
        "colab": {
          "base_uri": "https://localhost:8080/"
        },
        "id": "z4oETxByJH3e",
        "outputId": "20b40f15-6dd7-40e3-b87e-164a8b2485ad"
      },
      "execution_count": 149,
      "outputs": [
        {
          "output_type": "execute_result",
          "data": {
            "text/plain": [
              "Rooms           0\n",
              "Distance        0\n",
              "Bathroom        0\n",
              "Car             0\n",
              "Landsize        0\n",
              "BuildingArea    0\n",
              "YearBuilt       0\n",
              "dtype: int64"
            ]
          },
          "metadata": {},
          "execution_count": 149
        }
      ]
    },
    {
      "cell_type": "code",
      "source": [
        "X_train.head()"
      ],
      "metadata": {
        "colab": {
          "base_uri": "https://localhost:8080/",
          "height": 206
        },
        "id": "jj57WGNhJK5x",
        "outputId": "93ac505b-b62f-4235-ed4f-3105591b7f76"
      },
      "execution_count": 150,
      "outputs": [
        {
          "output_type": "execute_result",
          "data": {
            "text/plain": [
              "       Rooms  Distance  Bathroom  Car  Landsize  BuildingArea  YearBuilt\n",
              "12520      1        60         2    4       281           603         28\n",
              "6371       1        15         1    4       349            27         14\n",
              "12339      2        82         2    1         9           603        145\n",
              "5625       2        49         2    1         9           167         45\n",
              "9223       1        20         1    1       431           603        145"
            ],
            "text/html": [
              "\n",
              "  <div id=\"df-c1795c35-b28a-41f6-ba0c-0f925c01beaa\">\n",
              "    <div class=\"colab-df-container\">\n",
              "      <div>\n",
              "<style scoped>\n",
              "    .dataframe tbody tr th:only-of-type {\n",
              "        vertical-align: middle;\n",
              "    }\n",
              "\n",
              "    .dataframe tbody tr th {\n",
              "        vertical-align: top;\n",
              "    }\n",
              "\n",
              "    .dataframe thead th {\n",
              "        text-align: right;\n",
              "    }\n",
              "</style>\n",
              "<table border=\"1\" class=\"dataframe\">\n",
              "  <thead>\n",
              "    <tr style=\"text-align: right;\">\n",
              "      <th></th>\n",
              "      <th>Rooms</th>\n",
              "      <th>Distance</th>\n",
              "      <th>Bathroom</th>\n",
              "      <th>Car</th>\n",
              "      <th>Landsize</th>\n",
              "      <th>BuildingArea</th>\n",
              "      <th>YearBuilt</th>\n",
              "    </tr>\n",
              "  </thead>\n",
              "  <tbody>\n",
              "    <tr>\n",
              "      <th>12520</th>\n",
              "      <td>1</td>\n",
              "      <td>60</td>\n",
              "      <td>2</td>\n",
              "      <td>4</td>\n",
              "      <td>281</td>\n",
              "      <td>603</td>\n",
              "      <td>28</td>\n",
              "    </tr>\n",
              "    <tr>\n",
              "      <th>6371</th>\n",
              "      <td>1</td>\n",
              "      <td>15</td>\n",
              "      <td>1</td>\n",
              "      <td>4</td>\n",
              "      <td>349</td>\n",
              "      <td>27</td>\n",
              "      <td>14</td>\n",
              "    </tr>\n",
              "    <tr>\n",
              "      <th>12339</th>\n",
              "      <td>2</td>\n",
              "      <td>82</td>\n",
              "      <td>2</td>\n",
              "      <td>1</td>\n",
              "      <td>9</td>\n",
              "      <td>603</td>\n",
              "      <td>145</td>\n",
              "    </tr>\n",
              "    <tr>\n",
              "      <th>5625</th>\n",
              "      <td>2</td>\n",
              "      <td>49</td>\n",
              "      <td>2</td>\n",
              "      <td>1</td>\n",
              "      <td>9</td>\n",
              "      <td>167</td>\n",
              "      <td>45</td>\n",
              "    </tr>\n",
              "    <tr>\n",
              "      <th>9223</th>\n",
              "      <td>1</td>\n",
              "      <td>20</td>\n",
              "      <td>1</td>\n",
              "      <td>1</td>\n",
              "      <td>431</td>\n",
              "      <td>603</td>\n",
              "      <td>145</td>\n",
              "    </tr>\n",
              "  </tbody>\n",
              "</table>\n",
              "</div>\n",
              "      <button class=\"colab-df-convert\" onclick=\"convertToInteractive('df-c1795c35-b28a-41f6-ba0c-0f925c01beaa')\"\n",
              "              title=\"Convert this dataframe to an interactive table.\"\n",
              "              style=\"display:none;\">\n",
              "        \n",
              "  <svg xmlns=\"http://www.w3.org/2000/svg\" height=\"24px\"viewBox=\"0 0 24 24\"\n",
              "       width=\"24px\">\n",
              "    <path d=\"M0 0h24v24H0V0z\" fill=\"none\"/>\n",
              "    <path d=\"M18.56 5.44l.94 2.06.94-2.06 2.06-.94-2.06-.94-.94-2.06-.94 2.06-2.06.94zm-11 1L8.5 8.5l.94-2.06 2.06-.94-2.06-.94L8.5 2.5l-.94 2.06-2.06.94zm10 10l.94 2.06.94-2.06 2.06-.94-2.06-.94-.94-2.06-.94 2.06-2.06.94z\"/><path d=\"M17.41 7.96l-1.37-1.37c-.4-.4-.92-.59-1.43-.59-.52 0-1.04.2-1.43.59L10.3 9.45l-7.72 7.72c-.78.78-.78 2.05 0 2.83L4 21.41c.39.39.9.59 1.41.59.51 0 1.02-.2 1.41-.59l7.78-7.78 2.81-2.81c.8-.78.8-2.07 0-2.86zM5.41 20L4 18.59l7.72-7.72 1.47 1.35L5.41 20z\"/>\n",
              "  </svg>\n",
              "      </button>\n",
              "      \n",
              "  <style>\n",
              "    .colab-df-container {\n",
              "      display:flex;\n",
              "      flex-wrap:wrap;\n",
              "      gap: 12px;\n",
              "    }\n",
              "\n",
              "    .colab-df-convert {\n",
              "      background-color: #E8F0FE;\n",
              "      border: none;\n",
              "      border-radius: 50%;\n",
              "      cursor: pointer;\n",
              "      display: none;\n",
              "      fill: #1967D2;\n",
              "      height: 32px;\n",
              "      padding: 0 0 0 0;\n",
              "      width: 32px;\n",
              "    }\n",
              "\n",
              "    .colab-df-convert:hover {\n",
              "      background-color: #E2EBFA;\n",
              "      box-shadow: 0px 1px 2px rgba(60, 64, 67, 0.3), 0px 1px 3px 1px rgba(60, 64, 67, 0.15);\n",
              "      fill: #174EA6;\n",
              "    }\n",
              "\n",
              "    [theme=dark] .colab-df-convert {\n",
              "      background-color: #3B4455;\n",
              "      fill: #D2E3FC;\n",
              "    }\n",
              "\n",
              "    [theme=dark] .colab-df-convert:hover {\n",
              "      background-color: #434B5C;\n",
              "      box-shadow: 0px 1px 3px 1px rgba(0, 0, 0, 0.15);\n",
              "      filter: drop-shadow(0px 1px 2px rgba(0, 0, 0, 0.3));\n",
              "      fill: #FFFFFF;\n",
              "    }\n",
              "  </style>\n",
              "\n",
              "      <script>\n",
              "        const buttonEl =\n",
              "          document.querySelector('#df-c1795c35-b28a-41f6-ba0c-0f925c01beaa button.colab-df-convert');\n",
              "        buttonEl.style.display =\n",
              "          google.colab.kernel.accessAllowed ? 'block' : 'none';\n",
              "\n",
              "        async function convertToInteractive(key) {\n",
              "          const element = document.querySelector('#df-c1795c35-b28a-41f6-ba0c-0f925c01beaa');\n",
              "          const dataTable =\n",
              "            await google.colab.kernel.invokeFunction('convertToInteractive',\n",
              "                                                     [key], {});\n",
              "          if (!dataTable) return;\n",
              "\n",
              "          const docLinkHtml = 'Like what you see? Visit the ' +\n",
              "            '<a target=\"_blank\" href=https://colab.research.google.com/notebooks/data_table.ipynb>data table notebook</a>'\n",
              "            + ' to learn more about interactive tables.';\n",
              "          element.innerHTML = '';\n",
              "          dataTable['output_type'] = 'display_data';\n",
              "          await google.colab.output.renderOutput(dataTable, element);\n",
              "          const docLink = document.createElement('div');\n",
              "          docLink.innerHTML = docLinkHtml;\n",
              "          element.appendChild(docLink);\n",
              "        }\n",
              "      </script>\n",
              "    </div>\n",
              "  </div>\n",
              "  "
            ]
          },
          "metadata": {},
          "execution_count": 150
        }
      ]
    },
    {
      "cell_type": "code",
      "source": [
        "X_test.head()"
      ],
      "metadata": {
        "colab": {
          "base_uri": "https://localhost:8080/",
          "height": 206
        },
        "id": "MoWuf6LuJMZ1",
        "outputId": "494ee53b-7962-40e2-f516-70458c259d8d"
      },
      "execution_count": 151,
      "outputs": [
        {
          "output_type": "execute_result",
          "data": {
            "text/plain": [
              "       Rooms  Distance  Bathroom  Car  Landsize  BuildingArea  YearBuilt\n",
              "8505       5         2         2    1         9            45          7\n",
              "5523       3        67         1    4         9           603        145\n",
              "12852      2         2         2    1        54           603        145\n",
              "4818       3        40         1    4       890           603        145\n",
              "12812      1        65         2    1        39           603        145"
            ],
            "text/html": [
              "\n",
              "  <div id=\"df-bb4c6b61-85f6-4b2d-9268-a629e2166be0\">\n",
              "    <div class=\"colab-df-container\">\n",
              "      <div>\n",
              "<style scoped>\n",
              "    .dataframe tbody tr th:only-of-type {\n",
              "        vertical-align: middle;\n",
              "    }\n",
              "\n",
              "    .dataframe tbody tr th {\n",
              "        vertical-align: top;\n",
              "    }\n",
              "\n",
              "    .dataframe thead th {\n",
              "        text-align: right;\n",
              "    }\n",
              "</style>\n",
              "<table border=\"1\" class=\"dataframe\">\n",
              "  <thead>\n",
              "    <tr style=\"text-align: right;\">\n",
              "      <th></th>\n",
              "      <th>Rooms</th>\n",
              "      <th>Distance</th>\n",
              "      <th>Bathroom</th>\n",
              "      <th>Car</th>\n",
              "      <th>Landsize</th>\n",
              "      <th>BuildingArea</th>\n",
              "      <th>YearBuilt</th>\n",
              "    </tr>\n",
              "  </thead>\n",
              "  <tbody>\n",
              "    <tr>\n",
              "      <th>8505</th>\n",
              "      <td>5</td>\n",
              "      <td>2</td>\n",
              "      <td>2</td>\n",
              "      <td>1</td>\n",
              "      <td>9</td>\n",
              "      <td>45</td>\n",
              "      <td>7</td>\n",
              "    </tr>\n",
              "    <tr>\n",
              "      <th>5523</th>\n",
              "      <td>3</td>\n",
              "      <td>67</td>\n",
              "      <td>1</td>\n",
              "      <td>4</td>\n",
              "      <td>9</td>\n",
              "      <td>603</td>\n",
              "      <td>145</td>\n",
              "    </tr>\n",
              "    <tr>\n",
              "      <th>12852</th>\n",
              "      <td>2</td>\n",
              "      <td>2</td>\n",
              "      <td>2</td>\n",
              "      <td>1</td>\n",
              "      <td>54</td>\n",
              "      <td>603</td>\n",
              "      <td>145</td>\n",
              "    </tr>\n",
              "    <tr>\n",
              "      <th>4818</th>\n",
              "      <td>3</td>\n",
              "      <td>40</td>\n",
              "      <td>1</td>\n",
              "      <td>4</td>\n",
              "      <td>890</td>\n",
              "      <td>603</td>\n",
              "      <td>145</td>\n",
              "    </tr>\n",
              "    <tr>\n",
              "      <th>12812</th>\n",
              "      <td>1</td>\n",
              "      <td>65</td>\n",
              "      <td>2</td>\n",
              "      <td>1</td>\n",
              "      <td>39</td>\n",
              "      <td>603</td>\n",
              "      <td>145</td>\n",
              "    </tr>\n",
              "  </tbody>\n",
              "</table>\n",
              "</div>\n",
              "      <button class=\"colab-df-convert\" onclick=\"convertToInteractive('df-bb4c6b61-85f6-4b2d-9268-a629e2166be0')\"\n",
              "              title=\"Convert this dataframe to an interactive table.\"\n",
              "              style=\"display:none;\">\n",
              "        \n",
              "  <svg xmlns=\"http://www.w3.org/2000/svg\" height=\"24px\"viewBox=\"0 0 24 24\"\n",
              "       width=\"24px\">\n",
              "    <path d=\"M0 0h24v24H0V0z\" fill=\"none\"/>\n",
              "    <path d=\"M18.56 5.44l.94 2.06.94-2.06 2.06-.94-2.06-.94-.94-2.06-.94 2.06-2.06.94zm-11 1L8.5 8.5l.94-2.06 2.06-.94-2.06-.94L8.5 2.5l-.94 2.06-2.06.94zm10 10l.94 2.06.94-2.06 2.06-.94-2.06-.94-.94-2.06-.94 2.06-2.06.94z\"/><path d=\"M17.41 7.96l-1.37-1.37c-.4-.4-.92-.59-1.43-.59-.52 0-1.04.2-1.43.59L10.3 9.45l-7.72 7.72c-.78.78-.78 2.05 0 2.83L4 21.41c.39.39.9.59 1.41.59.51 0 1.02-.2 1.41-.59l7.78-7.78 2.81-2.81c.8-.78.8-2.07 0-2.86zM5.41 20L4 18.59l7.72-7.72 1.47 1.35L5.41 20z\"/>\n",
              "  </svg>\n",
              "      </button>\n",
              "      \n",
              "  <style>\n",
              "    .colab-df-container {\n",
              "      display:flex;\n",
              "      flex-wrap:wrap;\n",
              "      gap: 12px;\n",
              "    }\n",
              "\n",
              "    .colab-df-convert {\n",
              "      background-color: #E8F0FE;\n",
              "      border: none;\n",
              "      border-radius: 50%;\n",
              "      cursor: pointer;\n",
              "      display: none;\n",
              "      fill: #1967D2;\n",
              "      height: 32px;\n",
              "      padding: 0 0 0 0;\n",
              "      width: 32px;\n",
              "    }\n",
              "\n",
              "    .colab-df-convert:hover {\n",
              "      background-color: #E2EBFA;\n",
              "      box-shadow: 0px 1px 2px rgba(60, 64, 67, 0.3), 0px 1px 3px 1px rgba(60, 64, 67, 0.15);\n",
              "      fill: #174EA6;\n",
              "    }\n",
              "\n",
              "    [theme=dark] .colab-df-convert {\n",
              "      background-color: #3B4455;\n",
              "      fill: #D2E3FC;\n",
              "    }\n",
              "\n",
              "    [theme=dark] .colab-df-convert:hover {\n",
              "      background-color: #434B5C;\n",
              "      box-shadow: 0px 1px 3px 1px rgba(0, 0, 0, 0.15);\n",
              "      filter: drop-shadow(0px 1px 2px rgba(0, 0, 0, 0.3));\n",
              "      fill: #FFFFFF;\n",
              "    }\n",
              "  </style>\n",
              "\n",
              "      <script>\n",
              "        const buttonEl =\n",
              "          document.querySelector('#df-bb4c6b61-85f6-4b2d-9268-a629e2166be0 button.colab-df-convert');\n",
              "        buttonEl.style.display =\n",
              "          google.colab.kernel.accessAllowed ? 'block' : 'none';\n",
              "\n",
              "        async function convertToInteractive(key) {\n",
              "          const element = document.querySelector('#df-bb4c6b61-85f6-4b2d-9268-a629e2166be0');\n",
              "          const dataTable =\n",
              "            await google.colab.kernel.invokeFunction('convertToInteractive',\n",
              "                                                     [key], {});\n",
              "          if (!dataTable) return;\n",
              "\n",
              "          const docLinkHtml = 'Like what you see? Visit the ' +\n",
              "            '<a target=\"_blank\" href=https://colab.research.google.com/notebooks/data_table.ipynb>data table notebook</a>'\n",
              "            + ' to learn more about interactive tables.';\n",
              "          element.innerHTML = '';\n",
              "          dataTable['output_type'] = 'display_data';\n",
              "          await google.colab.output.renderOutput(dataTable, element);\n",
              "          const docLink = document.createElement('div');\n",
              "          docLink.innerHTML = docLinkHtml;\n",
              "          element.appendChild(docLink);\n",
              "        }\n",
              "      </script>\n",
              "    </div>\n",
              "  </div>\n",
              "  "
            ]
          },
          "metadata": {},
          "execution_count": 151
        }
      ]
    },
    {
      "cell_type": "markdown",
      "source": [
        "Bây giờ chúng tôi đã có bộ đào tạo và thử nghiệm sẵn sàng để xây dựng mô hình. Trước đó, chúng ta nên ánh xạ tất cả các biến đặc trưng trên cùng một tỷ lệ. Nó được gọi là nhân rộng tính năng. Tôi sẽ làm như sau."
      ],
      "metadata": {
        "id": "gytkzLbnJQxZ"
      }
    },
    {
      "cell_type": "markdown",
      "source": [
        "**Feature Scaling**"
      ],
      "metadata": {
        "id": "uPdvcrpXJSr3"
      }
    },
    {
      "cell_type": "code",
      "source": [
        "cols = X_train.columns"
      ],
      "metadata": {
        "id": "PrZUg947JNo4"
      },
      "execution_count": 152,
      "outputs": []
    },
    {
      "cell_type": "code",
      "source": [
        "from sklearn.preprocessing import StandardScaler\n",
        "\n",
        "scaler = StandardScaler()\n",
        "\n",
        "X_train = scaler.fit_transform(X_train)\n",
        "\n",
        "X_test = scaler.transform(X_test)"
      ],
      "metadata": {
        "id": "beTwM0IVJWBd"
      },
      "execution_count": 153,
      "outputs": []
    },
    {
      "cell_type": "code",
      "source": [
        "X_train = pd.DataFrame(X_train, columns=[cols])"
      ],
      "metadata": {
        "id": "Dou9SQZ1JXP_"
      },
      "execution_count": 154,
      "outputs": []
    },
    {
      "cell_type": "code",
      "source": [
        "X_test = pd.DataFrame(X_test, columns=[cols])"
      ],
      "metadata": {
        "id": "urc4CsGTJYHu"
      },
      "execution_count": 155,
      "outputs": []
    },
    {
      "cell_type": "code",
      "source": [
        "X_train.head()"
      ],
      "metadata": {
        "colab": {
          "base_uri": "https://localhost:8080/",
          "height": 206
        },
        "id": "WGgQ9hMCJZLc",
        "outputId": "0c59d77b-b88d-43db-b1e6-85288f44709c"
      },
      "execution_count": 156,
      "outputs": [
        {
          "output_type": "execute_result",
          "data": {
            "text/plain": [
              "      Rooms  Distance  Bathroom       Car  Landsize BuildingArea YearBuilt\n",
              "0 -0.878733  0.080930  0.381814  0.708765 -0.343442     0.991210 -0.715899\n",
              "1 -0.878733 -0.922445 -1.061371  0.708765 -0.142974    -1.365522 -0.942305\n",
              "2 -0.024688  0.571468  0.381814 -1.006676 -1.145312     0.991210  1.176208\n",
              "3 -0.024688 -0.164340  0.381814 -1.006676 -1.145312    -0.792705 -0.440977\n",
              "4 -0.878733 -0.810959 -1.061371 -1.006676  0.098766     0.991210  1.176208"
            ],
            "text/html": [
              "\n",
              "  <div id=\"df-43700664-38a1-4b61-a189-1d3f5768e4bc\">\n",
              "    <div class=\"colab-df-container\">\n",
              "      <div>\n",
              "<style scoped>\n",
              "    .dataframe tbody tr th:only-of-type {\n",
              "        vertical-align: middle;\n",
              "    }\n",
              "\n",
              "    .dataframe tbody tr th {\n",
              "        vertical-align: top;\n",
              "    }\n",
              "\n",
              "    .dataframe thead tr th {\n",
              "        text-align: left;\n",
              "    }\n",
              "</style>\n",
              "<table border=\"1\" class=\"dataframe\">\n",
              "  <thead>\n",
              "    <tr>\n",
              "      <th></th>\n",
              "      <th>Rooms</th>\n",
              "      <th>Distance</th>\n",
              "      <th>Bathroom</th>\n",
              "      <th>Car</th>\n",
              "      <th>Landsize</th>\n",
              "      <th>BuildingArea</th>\n",
              "      <th>YearBuilt</th>\n",
              "    </tr>\n",
              "  </thead>\n",
              "  <tbody>\n",
              "    <tr>\n",
              "      <th>0</th>\n",
              "      <td>-0.878733</td>\n",
              "      <td>0.080930</td>\n",
              "      <td>0.381814</td>\n",
              "      <td>0.708765</td>\n",
              "      <td>-0.343442</td>\n",
              "      <td>0.991210</td>\n",
              "      <td>-0.715899</td>\n",
              "    </tr>\n",
              "    <tr>\n",
              "      <th>1</th>\n",
              "      <td>-0.878733</td>\n",
              "      <td>-0.922445</td>\n",
              "      <td>-1.061371</td>\n",
              "      <td>0.708765</td>\n",
              "      <td>-0.142974</td>\n",
              "      <td>-1.365522</td>\n",
              "      <td>-0.942305</td>\n",
              "    </tr>\n",
              "    <tr>\n",
              "      <th>2</th>\n",
              "      <td>-0.024688</td>\n",
              "      <td>0.571468</td>\n",
              "      <td>0.381814</td>\n",
              "      <td>-1.006676</td>\n",
              "      <td>-1.145312</td>\n",
              "      <td>0.991210</td>\n",
              "      <td>1.176208</td>\n",
              "    </tr>\n",
              "    <tr>\n",
              "      <th>3</th>\n",
              "      <td>-0.024688</td>\n",
              "      <td>-0.164340</td>\n",
              "      <td>0.381814</td>\n",
              "      <td>-1.006676</td>\n",
              "      <td>-1.145312</td>\n",
              "      <td>-0.792705</td>\n",
              "      <td>-0.440977</td>\n",
              "    </tr>\n",
              "    <tr>\n",
              "      <th>4</th>\n",
              "      <td>-0.878733</td>\n",
              "      <td>-0.810959</td>\n",
              "      <td>-1.061371</td>\n",
              "      <td>-1.006676</td>\n",
              "      <td>0.098766</td>\n",
              "      <td>0.991210</td>\n",
              "      <td>1.176208</td>\n",
              "    </tr>\n",
              "  </tbody>\n",
              "</table>\n",
              "</div>\n",
              "      <button class=\"colab-df-convert\" onclick=\"convertToInteractive('df-43700664-38a1-4b61-a189-1d3f5768e4bc')\"\n",
              "              title=\"Convert this dataframe to an interactive table.\"\n",
              "              style=\"display:none;\">\n",
              "        \n",
              "  <svg xmlns=\"http://www.w3.org/2000/svg\" height=\"24px\"viewBox=\"0 0 24 24\"\n",
              "       width=\"24px\">\n",
              "    <path d=\"M0 0h24v24H0V0z\" fill=\"none\"/>\n",
              "    <path d=\"M18.56 5.44l.94 2.06.94-2.06 2.06-.94-2.06-.94-.94-2.06-.94 2.06-2.06.94zm-11 1L8.5 8.5l.94-2.06 2.06-.94-2.06-.94L8.5 2.5l-.94 2.06-2.06.94zm10 10l.94 2.06.94-2.06 2.06-.94-2.06-.94-.94-2.06-.94 2.06-2.06.94z\"/><path d=\"M17.41 7.96l-1.37-1.37c-.4-.4-.92-.59-1.43-.59-.52 0-1.04.2-1.43.59L10.3 9.45l-7.72 7.72c-.78.78-.78 2.05 0 2.83L4 21.41c.39.39.9.59 1.41.59.51 0 1.02-.2 1.41-.59l7.78-7.78 2.81-2.81c.8-.78.8-2.07 0-2.86zM5.41 20L4 18.59l7.72-7.72 1.47 1.35L5.41 20z\"/>\n",
              "  </svg>\n",
              "      </button>\n",
              "      \n",
              "  <style>\n",
              "    .colab-df-container {\n",
              "      display:flex;\n",
              "      flex-wrap:wrap;\n",
              "      gap: 12px;\n",
              "    }\n",
              "\n",
              "    .colab-df-convert {\n",
              "      background-color: #E8F0FE;\n",
              "      border: none;\n",
              "      border-radius: 50%;\n",
              "      cursor: pointer;\n",
              "      display: none;\n",
              "      fill: #1967D2;\n",
              "      height: 32px;\n",
              "      padding: 0 0 0 0;\n",
              "      width: 32px;\n",
              "    }\n",
              "\n",
              "    .colab-df-convert:hover {\n",
              "      background-color: #E2EBFA;\n",
              "      box-shadow: 0px 1px 2px rgba(60, 64, 67, 0.3), 0px 1px 3px 1px rgba(60, 64, 67, 0.15);\n",
              "      fill: #174EA6;\n",
              "    }\n",
              "\n",
              "    [theme=dark] .colab-df-convert {\n",
              "      background-color: #3B4455;\n",
              "      fill: #D2E3FC;\n",
              "    }\n",
              "\n",
              "    [theme=dark] .colab-df-convert:hover {\n",
              "      background-color: #434B5C;\n",
              "      box-shadow: 0px 1px 3px 1px rgba(0, 0, 0, 0.15);\n",
              "      filter: drop-shadow(0px 1px 2px rgba(0, 0, 0, 0.3));\n",
              "      fill: #FFFFFF;\n",
              "    }\n",
              "  </style>\n",
              "\n",
              "      <script>\n",
              "        const buttonEl =\n",
              "          document.querySelector('#df-43700664-38a1-4b61-a189-1d3f5768e4bc button.colab-df-convert');\n",
              "        buttonEl.style.display =\n",
              "          google.colab.kernel.accessAllowed ? 'block' : 'none';\n",
              "\n",
              "        async function convertToInteractive(key) {\n",
              "          const element = document.querySelector('#df-43700664-38a1-4b61-a189-1d3f5768e4bc');\n",
              "          const dataTable =\n",
              "            await google.colab.kernel.invokeFunction('convertToInteractive',\n",
              "                                                     [key], {});\n",
              "          if (!dataTable) return;\n",
              "\n",
              "          const docLinkHtml = 'Like what you see? Visit the ' +\n",
              "            '<a target=\"_blank\" href=https://colab.research.google.com/notebooks/data_table.ipynb>data table notebook</a>'\n",
              "            + ' to learn more about interactive tables.';\n",
              "          element.innerHTML = '';\n",
              "          dataTable['output_type'] = 'display_data';\n",
              "          await google.colab.output.renderOutput(dataTable, element);\n",
              "          const docLink = document.createElement('div');\n",
              "          docLink.innerHTML = docLinkHtml;\n",
              "          element.appendChild(docLink);\n",
              "        }\n",
              "      </script>\n",
              "    </div>\n",
              "  </div>\n",
              "  "
            ]
          },
          "metadata": {},
          "execution_count": 156
        }
      ]
    },
    {
      "cell_type": "markdown",
      "source": [
        "Bây giờ chúng ta đã có bộ dữ liệu X_train sẵn sàng để đưa vào bộ phân loại Hồi quy logistic. Em sẽ làm như sau."
      ],
      "metadata": {
        "id": "1cQgeHsfJd8N"
      }
    },
    {
      "cell_type": "markdown",
      "source": [
        "**Fit K Neighbors Classifier để đào tạo**"
      ],
      "metadata": {
        "id": "CcgEu5ssJkol"
      }
    },
    {
      "cell_type": "code",
      "source": [
        "# import KNeighbors ClaSSifier from sklearn\n",
        "from sklearn.neighbors import KNeighborsClassifier\n",
        "\n",
        "\n",
        "# instantiate the model\n",
        "knn = KNeighborsClassifier(n_neighbors=3)\n",
        "\n",
        "\n",
        "# fit the model to the training set\n",
        "knn.fit(X_train, y_train)"
      ],
      "metadata": {
        "colab": {
          "base_uri": "https://localhost:8080/",
          "height": 74
        },
        "id": "-rwNeuEZJaAb",
        "outputId": "13176981-89bd-4105-8c18-01133c148dd1"
      },
      "execution_count": 157,
      "outputs": [
        {
          "output_type": "execute_result",
          "data": {
            "text/plain": [
              "KNeighborsClassifier(n_neighbors=3)"
            ],
            "text/html": [
              "<style>#sk-container-id-1 {color: black;background-color: white;}#sk-container-id-1 pre{padding: 0;}#sk-container-id-1 div.sk-toggleable {background-color: white;}#sk-container-id-1 label.sk-toggleable__label {cursor: pointer;display: block;width: 100%;margin-bottom: 0;padding: 0.3em;box-sizing: border-box;text-align: center;}#sk-container-id-1 label.sk-toggleable__label-arrow:before {content: \"▸\";float: left;margin-right: 0.25em;color: #696969;}#sk-container-id-1 label.sk-toggleable__label-arrow:hover:before {color: black;}#sk-container-id-1 div.sk-estimator:hover label.sk-toggleable__label-arrow:before {color: black;}#sk-container-id-1 div.sk-toggleable__content {max-height: 0;max-width: 0;overflow: hidden;text-align: left;background-color: #f0f8ff;}#sk-container-id-1 div.sk-toggleable__content pre {margin: 0.2em;color: black;border-radius: 0.25em;background-color: #f0f8ff;}#sk-container-id-1 input.sk-toggleable__control:checked~div.sk-toggleable__content {max-height: 200px;max-width: 100%;overflow: auto;}#sk-container-id-1 input.sk-toggleable__control:checked~label.sk-toggleable__label-arrow:before {content: \"▾\";}#sk-container-id-1 div.sk-estimator input.sk-toggleable__control:checked~label.sk-toggleable__label {background-color: #d4ebff;}#sk-container-id-1 div.sk-label input.sk-toggleable__control:checked~label.sk-toggleable__label {background-color: #d4ebff;}#sk-container-id-1 input.sk-hidden--visually {border: 0;clip: rect(1px 1px 1px 1px);clip: rect(1px, 1px, 1px, 1px);height: 1px;margin: -1px;overflow: hidden;padding: 0;position: absolute;width: 1px;}#sk-container-id-1 div.sk-estimator {font-family: monospace;background-color: #f0f8ff;border: 1px dotted black;border-radius: 0.25em;box-sizing: border-box;margin-bottom: 0.5em;}#sk-container-id-1 div.sk-estimator:hover {background-color: #d4ebff;}#sk-container-id-1 div.sk-parallel-item::after {content: \"\";width: 100%;border-bottom: 1px solid gray;flex-grow: 1;}#sk-container-id-1 div.sk-label:hover label.sk-toggleable__label {background-color: #d4ebff;}#sk-container-id-1 div.sk-serial::before {content: \"\";position: absolute;border-left: 1px solid gray;box-sizing: border-box;top: 0;bottom: 0;left: 50%;z-index: 0;}#sk-container-id-1 div.sk-serial {display: flex;flex-direction: column;align-items: center;background-color: white;padding-right: 0.2em;padding-left: 0.2em;position: relative;}#sk-container-id-1 div.sk-item {position: relative;z-index: 1;}#sk-container-id-1 div.sk-parallel {display: flex;align-items: stretch;justify-content: center;background-color: white;position: relative;}#sk-container-id-1 div.sk-item::before, #sk-container-id-1 div.sk-parallel-item::before {content: \"\";position: absolute;border-left: 1px solid gray;box-sizing: border-box;top: 0;bottom: 0;left: 50%;z-index: -1;}#sk-container-id-1 div.sk-parallel-item {display: flex;flex-direction: column;z-index: 1;position: relative;background-color: white;}#sk-container-id-1 div.sk-parallel-item:first-child::after {align-self: flex-end;width: 50%;}#sk-container-id-1 div.sk-parallel-item:last-child::after {align-self: flex-start;width: 50%;}#sk-container-id-1 div.sk-parallel-item:only-child::after {width: 0;}#sk-container-id-1 div.sk-dashed-wrapped {border: 1px dashed gray;margin: 0 0.4em 0.5em 0.4em;box-sizing: border-box;padding-bottom: 0.4em;background-color: white;}#sk-container-id-1 div.sk-label label {font-family: monospace;font-weight: bold;display: inline-block;line-height: 1.2em;}#sk-container-id-1 div.sk-label-container {text-align: center;}#sk-container-id-1 div.sk-container {/* jupyter's `normalize.less` sets `[hidden] { display: none; }` but bootstrap.min.css set `[hidden] { display: none !important; }` so we also need the `!important` here to be able to override the default hidden behavior on the sphinx rendered scikit-learn.org. See: https://github.com/scikit-learn/scikit-learn/issues/21755 */display: inline-block !important;position: relative;}#sk-container-id-1 div.sk-text-repr-fallback {display: none;}</style><div id=\"sk-container-id-1\" class=\"sk-top-container\"><div class=\"sk-text-repr-fallback\"><pre>KNeighborsClassifier(n_neighbors=3)</pre><b>In a Jupyter environment, please rerun this cell to show the HTML representation or trust the notebook. <br />On GitHub, the HTML representation is unable to render, please try loading this page with nbviewer.org.</b></div><div class=\"sk-container\" hidden><div class=\"sk-item\"><div class=\"sk-estimator sk-toggleable\"><input class=\"sk-toggleable__control sk-hidden--visually\" id=\"sk-estimator-id-1\" type=\"checkbox\" checked><label for=\"sk-estimator-id-1\" class=\"sk-toggleable__label sk-toggleable__label-arrow\">KNeighborsClassifier</label><div class=\"sk-toggleable__content\"><pre>KNeighborsClassifier(n_neighbors=3)</pre></div></div></div></div></div>"
            ]
          },
          "metadata": {},
          "execution_count": 157
        }
      ]
    },
    {
      "cell_type": "markdown",
      "source": [
        "**Predict test-set results**"
      ],
      "metadata": {
        "id": "STqdQe4mJopY"
      }
    },
    {
      "cell_type": "code",
      "source": [
        "y_pred = knn.predict(X_test)\n",
        "\n",
        "y_pred"
      ],
      "metadata": {
        "colab": {
          "base_uri": "https://localhost:8080/"
        },
        "id": "Eg2kxL9wJmzW",
        "outputId": "6a184b07-46a9-431c-8ff6-6a14eaf0ae7b"
      },
      "execution_count": 158,
      "outputs": [
        {
          "output_type": "execute_result",
          "data": {
            "text/plain": [
              "array([3, 2, 3, ..., 2, 2, 2])"
            ]
          },
          "metadata": {},
          "execution_count": 158
        }
      ]
    },
    {
      "cell_type": "markdown",
      "source": [
        "**phương pháp dự đoán_proba**"
      ],
      "metadata": {
        "id": "OeBqpAbtJu9f"
      }
    },
    {
      "cell_type": "markdown",
      "source": [
        "Predict_proba đưa ra xác suất cho biến mục tiêu (2 và 4) trong trường hợp này, ở dạng mảng.\n",
        "\n",
        "2 là xác suất ung thư lành tính và 4 là xác suất ung thư ác tính."
      ],
      "metadata": {
        "id": "UfBxNcckJxV-"
      }
    },
    {
      "cell_type": "code",
      "source": [
        "# probability of getting output as 2 - benign cancer\n",
        "\n",
        "knn.predict_proba(X_test)[:,0]"
      ],
      "metadata": {
        "colab": {
          "base_uri": "https://localhost:8080/"
        },
        "id": "3nzzI6NaJqiO",
        "outputId": "ba886e72-2f5d-4049-8111-44ed7b61fc8c"
      },
      "execution_count": 159,
      "outputs": [
        {
          "output_type": "execute_result",
          "data": {
            "text/plain": [
              "array([0., 0., 0., ..., 0., 0., 0.])"
            ]
          },
          "metadata": {},
          "execution_count": 159
        }
      ]
    },
    {
      "cell_type": "markdown",
      "source": [
        "**Kiểm tra điểm chính xác**"
      ],
      "metadata": {
        "id": "igD65rcPJ1YE"
      }
    },
    {
      "cell_type": "code",
      "source": [
        "from sklearn.metrics import accuracy_score\n",
        "\n",
        "print('Model accuracy score: {0:0.4f}'. format(accuracy_score(y_test, y_pred)))"
      ],
      "metadata": {
        "colab": {
          "base_uri": "https://localhost:8080/"
        },
        "id": "_3feCaAuJylO",
        "outputId": "3559b995-a6bc-46ca-9648-bc11fb226169"
      },
      "execution_count": 160,
      "outputs": [
        {
          "output_type": "stream",
          "name": "stdout",
          "text": [
            "Model accuracy score: 0.7762\n"
          ]
        }
      ]
    },
    {
      "cell_type": "markdown",
      "source": [
        "Ở đây, y_test là nhãn lớp thực và y_pred là nhãn lớp dự đoán trong tập kiểm tra."
      ],
      "metadata": {
        "id": "7QyZGbAaJ7nz"
      }
    },
    {
      "cell_type": "markdown",
      "source": [
        "So sánh độ chính xác của tập huấn luyện và tập kiểm tra\n",
        "\n",
        "Bây giờ, em sẽ so sánh độ chính xác của tập huấn luyện và tập kiểm tra để kiểm tra xem có trang bị quá mức không."
      ],
      "metadata": {
        "id": "WeXyp1ijJ-iq"
      }
    },
    {
      "cell_type": "code",
      "source": [
        "y_pred_train = knn.predict(X_train)"
      ],
      "metadata": {
        "id": "fs_mAR4YJ3pA"
      },
      "execution_count": 161,
      "outputs": []
    },
    {
      "cell_type": "code",
      "source": [
        "print('Training-set accuracy score: {0:0.4f}'. format(accuracy_score(y_train, y_pred_train)))"
      ],
      "metadata": {
        "colab": {
          "base_uri": "https://localhost:8080/"
        },
        "id": "vwuNvjWvKAxL",
        "outputId": "7011c54e-f1ab-4ac1-f1cb-149d968bd1cc"
      },
      "execution_count": 162,
      "outputs": [
        {
          "output_type": "stream",
          "name": "stdout",
          "text": [
            "Training-set accuracy score: 0.8672\n"
          ]
        }
      ]
    },
    {
      "cell_type": "markdown",
      "source": [
        "**Check for overfitting and underfitting**"
      ],
      "metadata": {
        "id": "xp_lgimtKHY4"
      }
    },
    {
      "cell_type": "code",
      "source": [
        "# print the scores on training and test set\n",
        "\n",
        "print('Training set score: {:.4f}'.format(knn.score(X_train, y_train)))\n",
        "\n",
        "print('Test set score: {:.4f}'.format(knn.score(X_test, y_test)))"
      ],
      "metadata": {
        "colab": {
          "base_uri": "https://localhost:8080/"
        },
        "id": "CfC_AkHZKDJ0",
        "outputId": "dbdb6c24-9d47-4843-d7f7-a4adbcd30dc6"
      },
      "execution_count": 163,
      "outputs": [
        {
          "output_type": "stream",
          "name": "stdout",
          "text": [
            "Training set score: 0.8672\n",
            "Test set score: 0.7762\n"
          ]
        }
      ]
    },
    {
      "cell_type": "markdown",
      "source": [
        "Điểm chính xác của tập huấn luyện là 0,8672 trong khi độ chính xác của tập kiểm tra là 0,7762. Hai giá trị này khá tương đương nhau. Vì vậy, không có câu hỏi về overfitting."
      ],
      "metadata": {
        "id": "P4Ni_Q4DKYMu"
      }
    },
    {
      "cell_type": "markdown",
      "source": [
        "**Xây dựng lại mô hình phân loại kNN sử dụng các giá trị khác nhau của k**"
      ],
      "metadata": {
        "id": "jXpf-uFqKiVy"
      }
    },
    {
      "cell_type": "markdown",
      "source": [
        "Em đã xây dựng mô hình phân loại kNN bằng k=3. Bây giờ, tôi sẽ tăng giá trị của k và xem ảnh hưởng của nó đối với độ chính xác."
      ],
      "metadata": {
        "id": "zJx7xtvNKzJj"
      }
    },
    {
      "cell_type": "code",
      "source": [
        "# instantiate the model with k=5\n",
        "knn_5 = KNeighborsClassifier(n_neighbors=5)\n",
        "\n",
        "\n",
        "# fit the model to the training set\n",
        "knn_5.fit(X_train, y_train)\n",
        "\n",
        "\n",
        "# predict on the test-set\n",
        "y_pred_5 = knn_5.predict(X_test)\n",
        "\n",
        "\n",
        "print('Model accuracy score with k=5 : {0:0.4f}'. format(accuracy_score(y_test, y_pred_5)))"
      ],
      "metadata": {
        "colab": {
          "base_uri": "https://localhost:8080/"
        },
        "id": "39yy_85lKV4f",
        "outputId": "d49eed2f-057d-4763-db87-3c71df367b9a"
      },
      "execution_count": 165,
      "outputs": [
        {
          "output_type": "stream",
          "name": "stdout",
          "text": [
            "Model accuracy score with k=5 : 0.7956\n"
          ]
        }
      ]
    },
    {
      "cell_type": "code",
      "source": [
        "# instantiate the model with k=6\n",
        "knn_6 = KNeighborsClassifier(n_neighbors=6)\n",
        "\n",
        "\n",
        "# fit the model to the training set\n",
        "knn_6.fit(X_train, y_train)\n",
        "\n",
        "\n",
        "# predict on the test-set\n",
        "y_pred_6 = knn_6.predict(X_test)\n",
        "\n",
        "\n",
        "print('Model accuracy score with k=6 : {0:0.4f}'. format(accuracy_score(y_test, y_pred_6)))"
      ],
      "metadata": {
        "colab": {
          "base_uri": "https://localhost:8080/"
        },
        "id": "WQ8wbxdmK15w",
        "outputId": "fe09991a-d6ad-4384-b6c5-3793d31ddc0a"
      },
      "execution_count": 166,
      "outputs": [
        {
          "output_type": "stream",
          "name": "stdout",
          "text": [
            "Model accuracy score with k=6 : 0.7921\n"
          ]
        }
      ]
    },
    {
      "cell_type": "code",
      "source": [
        "# instantiate the model with k=7\n",
        "knn_7 = KNeighborsClassifier(n_neighbors=7)\n",
        "\n",
        "\n",
        "# fit the model to the training set\n",
        "knn_7.fit(X_train, y_train)\n",
        "\n",
        "\n",
        "# predict on the test-set\n",
        "y_pred_7 = knn_7.predict(X_test)\n",
        "\n",
        "\n",
        "print('Model accuracy score with k=7 : {0:0.4f}'. format(accuracy_score(y_test, y_pred_7)))"
      ],
      "metadata": {
        "colab": {
          "base_uri": "https://localhost:8080/"
        },
        "id": "SD8OP6FnK3Y6",
        "outputId": "a61f5a2b-f38b-4ba0-9ce9-febe9f7a8419"
      },
      "execution_count": 167,
      "outputs": [
        {
          "output_type": "stream",
          "name": "stdout",
          "text": [
            "Model accuracy score with k=7 : 0.8003\n"
          ]
        }
      ]
    },
    {
      "cell_type": "code",
      "source": [
        "# instantiate the model with k=8\n",
        "knn_8 = KNeighborsClassifier(n_neighbors=8)\n",
        "\n",
        "\n",
        "# fit the model to the training set\n",
        "knn_8.fit(X_train, y_train)\n",
        "\n",
        "\n",
        "# predict on the test-set\n",
        "y_pred_8 = knn_8.predict(X_test)\n",
        "\n",
        "\n",
        "print('Model accuracy score with k=8 : {0:0.4f}'. format(accuracy_score(y_test, y_pred_8)))"
      ],
      "metadata": {
        "colab": {
          "base_uri": "https://localhost:8080/"
        },
        "id": "BHSr2RU2K6KN",
        "outputId": "609b56d6-5815-49ed-8b3b-fffd7fa68bb3"
      },
      "execution_count": 168,
      "outputs": [
        {
          "output_type": "stream",
          "name": "stdout",
          "text": [
            "Model accuracy score with k=8 : 0.8008\n"
          ]
        }
      ]
    },
    {
      "cell_type": "code",
      "source": [
        "# instantiate the model with k=9\n",
        "knn_9 = KNeighborsClassifier(n_neighbors=9)\n",
        "\n",
        "\n",
        "# fit the model to the training set\n",
        "knn_9.fit(X_train, y_train)\n",
        "\n",
        "\n",
        "# predict on the test-set\n",
        "y_pred_9 = knn_9.predict(X_test)\n",
        "\n",
        "\n",
        "print('Model accuracy score with k=9 : {0:0.4f}'. format(accuracy_score(y_test, y_pred_9)))"
      ],
      "metadata": {
        "colab": {
          "base_uri": "https://localhost:8080/"
        },
        "id": "ccku7LkuK7yz",
        "outputId": "00d18b82-e333-409f-e028-423ddca9c52c"
      },
      "execution_count": 169,
      "outputs": [
        {
          "output_type": "stream",
          "name": "stdout",
          "text": [
            "Model accuracy score with k=9 : 0.8021\n"
          ]
        }
      ]
    },
    {
      "cell_type": "markdown",
      "source": [
        "**Confusion matrix**"
      ],
      "metadata": {
        "id": "0xEIoW-ELSYp"
      }
    },
    {
      "cell_type": "markdown",
      "source": [
        "\n",
        "Ma trận nhầm lẫn (confusion matrix) là một công cụ để tổng hợp hiệu suất của một thuật toán phân loại. Ma trận nhầm lẫn cung cấp cho chúng ta một cái nhìn rõ ràng về hiệu suất của mô hình phân loại và các loại lỗi mà mô hình tạo ra. Nó cung cấp cho chúng ta một tóm tắt về các dự đoán đúng và sai lệch phân loại theo từng nhãn.\n",
        "\n",
        "Có bốn loại kết quả có thể xảy ra trong quá trình đánh giá hiệu suất của một mô hình phân loại. Bốn loại kết quả này được mô tả như sau:\n",
        "\n",
        "True Positives (TP) - True Positives xảy ra khi chúng ta dự đoán một quan sát thuộc về một lớp nhất định và quan sát thực tế thuộc về lớp đó.\n",
        "\n",
        "True Negatives (TN) - True Negatives xảy ra khi chúng ta dự đoán một quan sát không thuộc về một lớp nhất định và quan sát thực tế cũng không thuộc về lớp đó.\n",
        "\n",
        "False Positives (FP) - False Positives xảy ra khi chúng ta dự đoán một quan sát thuộc về một lớp nhất định nhưng quan sát thực tế không thuộc về lớp đó. Loại lỗi này được gọi là lỗi Loại I.\n",
        "\n",
        "False Negatives (FN) - False Negatives xảy ra khi chúng ta dự đoán một quan sát không thuộc về một lớp nhất định nhưng quan sát thực tế thuộc về lớp đó. Đây là một loại lỗi rất nghiêm trọng và được gọi là lỗi Loại II.\n",
        "\n",
        "Bốn kết quả này được tổng hợp trong một ma trận nhầm lẫn như dưới đây."
      ],
      "metadata": {
        "id": "fG25Xn8tLXVx"
      }
    },
    {
      "cell_type": "code",
      "source": [
        "# Print the Confusion Matrix with k =3 and slice it into four pieces\n",
        "\n",
        "from sklearn.metrics import confusion_matrix\n",
        "\n",
        "cm = confusion_matrix(y_test, y_pred)\n",
        "\n",
        "print('Confusion matrix\\n\\n', cm)\n",
        "\n",
        "print('\\nTrue Positives(TP) = ', cm[0,0])\n",
        "\n",
        "print('\\nTrue Negatives(TN) = ', cm[1,1])\n",
        "\n",
        "print('\\nFalse Positives(FP) = ', cm[0,1])\n",
        "\n",
        "print('\\nFalse Negatives(FN) = ', cm[1,0])"
      ],
      "metadata": {
        "colab": {
          "base_uri": "https://localhost:8080/"
        },
        "id": "Vtkg1si2L4KK",
        "outputId": "e448939c-ff54-46bd-b810-04f763ab196f"
      },
      "execution_count": 171,
      "outputs": [
        {
          "output_type": "stream",
          "name": "stdout",
          "text": [
            "Confusion matrix\n",
            "\n",
            " [[  68  220   62]\n",
            " [ 214 2732  171]\n",
            " [  72  264  679]]\n",
            "\n",
            "True Positives(TP) =  68\n",
            "\n",
            "True Negatives(TN) =  2732\n",
            "\n",
            "False Positives(FP) =  220\n",
            "\n",
            "False Negatives(FN) =  214\n"
          ]
        }
      ]
    },
    {
      "cell_type": "code",
      "source": [
        "# Print the Confusion Matrix with k =7 and slice it into four pieces\n",
        "\n",
        "cm_7 = confusion_matrix(y_test, y_pred_7)\n",
        "\n",
        "print('Confusion matrix\\n\\n', cm_7)\n",
        "\n",
        "print('\\nTrue Positives(TP) = ', cm_7[0,0])\n",
        "\n",
        "print('\\nTrue Negatives(TN) = ', cm_7[1,1])\n",
        "\n",
        "print('\\nFalse Positives(FP) = ', cm_7[0,1])\n",
        "\n",
        "print('\\nFalse Negatives(FN) = ', cm_7[1,0])"
      ],
      "metadata": {
        "colab": {
          "base_uri": "https://localhost:8080/"
        },
        "id": "b8qa7KRMK_R8",
        "outputId": "5f1e53cb-b973-4753-879f-b2b479dac580"
      },
      "execution_count": 172,
      "outputs": [
        {
          "output_type": "stream",
          "name": "stdout",
          "text": [
            "Confusion matrix\n",
            "\n",
            " [[  44  248   58]\n",
            " [  90 2856  171]\n",
            " [  30  298  687]]\n",
            "\n",
            "True Positives(TP) =  44\n",
            "\n",
            "True Negatives(TN) =  2856\n",
            "\n",
            "False Positives(FP) =  248\n",
            "\n",
            "False Negatives(FN) =  90\n"
          ]
        }
      ]
    },
    {
      "cell_type": "markdown",
      "source": [
        "Vì vậy, mô hình Phân loại kNN với k=7 hiển thị các dự đoán chính xác hơn và ít lỗi hơn so với mô hình k=3. Do đó, chúng tôi đã cải thiện hiệu suất với k=7."
      ],
      "metadata": {
        "id": "FM3uH-QEMCDg"
      }
    },
    {
      "cell_type": "markdown",
      "source": [
        "**Classification metrices**"
      ],
      "metadata": {
        "id": "z83cr4udMtxw"
      }
    },
    {
      "cell_type": "markdown",
      "source": [
        "Báo cáo phân loại là một cách khác để đánh giá hiệu suất của mô hình phân loại. Nó hiển thị điểm chính xác, thu hồi, f1 và hỗ trợ cho mô hình. Tôi đã mô tả các thuật ngữ này sau.\n",
        "\n",
        "Chúng tôi có thể in một báo cáo phân loại như sau: -"
      ],
      "metadata": {
        "id": "4rFT8WCiMw83"
      }
    },
    {
      "cell_type": "code",
      "source": [
        "from sklearn.metrics import classification_report\n",
        "\n",
        "print(classification_report(y_test, y_pred_7))"
      ],
      "metadata": {
        "colab": {
          "base_uri": "https://localhost:8080/"
        },
        "id": "OJ9lsLlAMHjL",
        "outputId": "20a889c7-c6cb-4607-c0e5-6b6636d41369"
      },
      "execution_count": 176,
      "outputs": [
        {
          "output_type": "stream",
          "name": "stdout",
          "text": [
            "              precision    recall  f1-score   support\n",
            "\n",
            "           1       0.27      0.13      0.17       350\n",
            "           2       0.84      0.92      0.88      3117\n",
            "           3       0.75      0.68      0.71      1015\n",
            "\n",
            "    accuracy                           0.80      4482\n",
            "   macro avg       0.62      0.57      0.59      4482\n",
            "weighted avg       0.77      0.80      0.78      4482\n",
            "\n"
          ]
        }
      ]
    },
    {
      "cell_type": "code",
      "source": [
        "TP = cm_7[0,0]\n",
        "TN = cm_7[1,1]\n",
        "FP = cm_7[0,1]\n",
        "FN = cm_7[1,0]"
      ],
      "metadata": {
        "id": "RL2_DX4YMyTK"
      },
      "execution_count": 177,
      "outputs": []
    },
    {
      "cell_type": "code",
      "source": [
        "# print classification accuracy\n",
        "\n",
        "classification_accuracy = (TP + TN) / float(TP + TN + FP + FN)\n",
        "\n",
        "print('Classification accuracy : {0:0.4f}'.format(classification_accuracy))"
      ],
      "metadata": {
        "colab": {
          "base_uri": "https://localhost:8080/"
        },
        "id": "1fbqGvbdM0ik",
        "outputId": "ab42bc63-32fe-4f13-9c6c-ca02f67003fe"
      },
      "execution_count": 178,
      "outputs": [
        {
          "output_type": "stream",
          "name": "stdout",
          "text": [
            "Classification accuracy : 0.8956\n"
          ]
        }
      ]
    },
    {
      "cell_type": "code",
      "source": [
        "# print classification error\n",
        "\n",
        "classification_error = (FP + FN) / float(TP + TN + FP + FN)\n",
        "\n",
        "print('Classification error : {0:0.4f}'.format(classification_error))"
      ],
      "metadata": {
        "colab": {
          "base_uri": "https://localhost:8080/"
        },
        "id": "l8pKXIxfM1lF",
        "outputId": "1ae37cc6-8621-4dbe-8e31-85e2100e9b88"
      },
      "execution_count": 179,
      "outputs": [
        {
          "output_type": "stream",
          "name": "stdout",
          "text": [
            "Classification error : 0.1044\n"
          ]
        }
      ]
    },
    {
      "cell_type": "markdown",
      "source": [
        "**Độ chính xác**"
      ],
      "metadata": {
        "id": "3-LgQQRfM5r3"
      }
    },
    {
      "cell_type": "code",
      "source": [
        "# print precision score\n",
        "\n",
        "precision = TP / float(TP + FP)\n",
        "\n",
        "\n",
        "print('Precision : {0:0.4f}'.format(precision))"
      ],
      "metadata": {
        "colab": {
          "base_uri": "https://localhost:8080/"
        },
        "id": "23riebqoM2rR",
        "outputId": "e43a70de-a1e6-41a6-dcdf-1ac758d88744"
      },
      "execution_count": 180,
      "outputs": [
        {
          "output_type": "stream",
          "name": "stdout",
          "text": [
            "Precision : 0.1507\n"
          ]
        }
      ]
    },
    {
      "cell_type": "markdown",
      "source": [
        "**Recall**"
      ],
      "metadata": {
        "id": "8EVScZAxM-u6"
      }
    },
    {
      "cell_type": "markdown",
      "source": [
        "Về mặt toán học, thu hồi có thể được đưa ra dưới dạng tỷ lệ TP trên (TP + FN)."
      ],
      "metadata": {
        "id": "zdVNEvX7NFbW"
      }
    },
    {
      "cell_type": "code",
      "source": [
        "recall = TP / float(TP + FN)\n",
        "\n",
        "print('Recall or Sensitivity : {0:0.4f}'.format(recall))"
      ],
      "metadata": {
        "colab": {
          "base_uri": "https://localhost:8080/"
        },
        "id": "nkn6GGylM81n",
        "outputId": "e82d8c98-57a9-4a0e-879c-d9ce2b3ec857"
      },
      "execution_count": 181,
      "outputs": [
        {
          "output_type": "stream",
          "name": "stdout",
          "text": [
            "Recall or Sensitivity : 0.3284\n"
          ]
        }
      ]
    },
    {
      "cell_type": "markdown",
      "source": [
        "**True Positive Rate(Tỷ lệ tích cực thực sự)**"
      ],
      "metadata": {
        "id": "0w64H9afNIjQ"
      }
    },
    {
      "cell_type": "code",
      "source": [
        "true_positive_rate = TP / float(TP + FN)\n",
        "\n",
        "\n",
        "print('True Positive Rate : {0:0.4f}'.format(true_positive_rate))"
      ],
      "metadata": {
        "colab": {
          "base_uri": "https://localhost:8080/"
        },
        "id": "bECS0ZoKNCLo",
        "outputId": "78e462a3-92df-42c5-f4d6-5c4dcd7ba7bb"
      },
      "execution_count": 182,
      "outputs": [
        {
          "output_type": "stream",
          "name": "stdout",
          "text": [
            "True Positive Rate : 0.3284\n"
          ]
        }
      ]
    },
    {
      "cell_type": "markdown",
      "source": [
        "**False Positive Rate(Tỷ lệ tích cực sai)**"
      ],
      "metadata": {
        "id": "0P6pX3RdNNSO"
      }
    },
    {
      "cell_type": "code",
      "source": [
        "false_positive_rate = FP / float(FP + TN)\n",
        "\n",
        "\n",
        "print('False Positive Rate : {0:0.4f}'.format(false_positive_rate))"
      ],
      "metadata": {
        "colab": {
          "base_uri": "https://localhost:8080/"
        },
        "id": "mVT54PrQNKt7",
        "outputId": "06d53093-a9e9-4d99-dfb6-cd71a02a04e8"
      },
      "execution_count": 183,
      "outputs": [
        {
          "output_type": "stream",
          "name": "stdout",
          "text": [
            "False Positive Rate : 0.0799\n"
          ]
        }
      ]
    },
    {
      "cell_type": "markdown",
      "source": [
        "**Specificity(đặc biệt)**"
      ],
      "metadata": {
        "id": "nuw0vGnpNZWA"
      }
    },
    {
      "cell_type": "code",
      "source": [
        "specificity = TN / (TN + FP)\n",
        "\n",
        "print('Specificity : {0:0.4f}'.format(specificity))"
      ],
      "metadata": {
        "colab": {
          "base_uri": "https://localhost:8080/"
        },
        "id": "AoxjTxy3NXMo",
        "outputId": "447027ef-6f9d-4552-f2d8-ab2e67beba6a"
      },
      "execution_count": 184,
      "outputs": [
        {
          "output_type": "stream",
          "name": "stdout",
          "text": [
            "Specificity : 0.9201\n"
          ]
        }
      ]
    },
    {
      "cell_type": "markdown",
      "source": [
        "**Điều chỉnh mức ngưỡng phân loại**"
      ],
      "metadata": {
        "id": "tveYiAPwNkHc"
      }
    },
    {
      "cell_type": "code",
      "source": [
        "# print the first 10 predicted probabilities of two classes- 2 and 4\n",
        "\n",
        "y_pred_prob = knn.predict_proba(X_test)[0:10]\n",
        "\n",
        "y_pred_prob"
      ],
      "metadata": {
        "colab": {
          "base_uri": "https://localhost:8080/"
        },
        "id": "6gdSDo6bNdT8",
        "outputId": "49e882ba-6a5c-46dc-f174-1dab78b41725"
      },
      "execution_count": 185,
      "outputs": [
        {
          "output_type": "execute_result",
          "data": {
            "text/plain": [
              "array([[0.        , 0.        , 1.        ],\n",
              "       [0.        , 1.        , 0.        ],\n",
              "       [0.        , 0.        , 1.        ],\n",
              "       [0.        , 1.        , 0.        ],\n",
              "       [0.        , 1.        , 0.        ],\n",
              "       [0.        , 1.        , 0.        ],\n",
              "       [0.        , 1.        , 0.        ],\n",
              "       [0.        , 1.        , 0.        ],\n",
              "       [0.        , 0.66666667, 0.33333333],\n",
              "       [0.        , 1.        , 0.        ]])"
            ]
          },
          "metadata": {},
          "execution_count": 185
        }
      ]
    },
    {
      "cell_type": "markdown",
      "source": [
        "**Observations(Quan sát)**"
      ],
      "metadata": {
        "id": "oOVwzOT4NsbY"
      }
    },
    {
      "cell_type": "code",
      "source": [
        "# print the first 10 predicted probabilities for class 4 - Probability of malignant cancer\n",
        "\n",
        "knn.predict_proba(X_test)[0:10, 1]"
      ],
      "metadata": {
        "colab": {
          "base_uri": "https://localhost:8080/"
        },
        "id": "oqiInt_nNo1Z",
        "outputId": "fc95ce6d-9252-4f53-8325-3385e3075f41"
      },
      "execution_count": 187,
      "outputs": [
        {
          "output_type": "execute_result",
          "data": {
            "text/plain": [
              "array([0.        , 1.        , 0.        , 1.        , 1.        ,\n",
              "       1.        , 1.        , 1.        , 0.66666667, 1.        ])"
            ]
          },
          "metadata": {},
          "execution_count": 187
        }
      ]
    },
    {
      "cell_type": "code",
      "source": [
        "# print the first 10 predicted probabilities for class 4 - Probability of malignant cancer\n",
        "\n",
        "knn.predict_proba(X_test)[0:10, 1]"
      ],
      "metadata": {
        "id": "2XWAT5yLNmlF"
      },
      "execution_count": null,
      "outputs": []
    },
    {
      "cell_type": "code",
      "source": [
        "# store the predicted probabilities for class 4 - Probability of malignant cancer\n",
        "\n",
        "y_pred_1 = knn.predict_proba(X_test)[:, 1]"
      ],
      "metadata": {
        "id": "_VLquP15OGys"
      },
      "execution_count": 188,
      "outputs": []
    },
    {
      "cell_type": "code",
      "source": [
        "# plot histogram of predicted probabilities\n",
        "\n",
        "\n",
        "# adjust figure size\n",
        "plt.figure(figsize=(6,4))\n",
        "\n",
        "\n",
        "# adjust the font size \n",
        "plt.rcParams['font.size'] = 12\n",
        "\n",
        "\n",
        "# plot histogram with 10 bins\n",
        "plt.hist(y_pred_1, bins = 10)\n",
        "\n",
        "\n",
        "# set the title of predicted probabilities\n",
        "plt.title('Histogram of predicted probabilities of malignant cancer')\n",
        "\n",
        "\n",
        "# set the x-axis limit\n",
        "plt.xlim(0,1)\n",
        "\n",
        "\n",
        "# set the title\n",
        "plt.xlabel('Predicted probabilities of malignant cancer')\n",
        "plt.ylabel('Frequency')"
      ],
      "metadata": {
        "colab": {
          "base_uri": "https://localhost:8080/",
          "height": 450
        },
        "id": "TabEDhK_OHGJ",
        "outputId": "7bddb162-11bf-48b0-b92d-806af6ba4733"
      },
      "execution_count": 189,
      "outputs": [
        {
          "output_type": "execute_result",
          "data": {
            "text/plain": [
              "Text(0, 0.5, 'Frequency')"
            ]
          },
          "metadata": {},
          "execution_count": 189
        },
        {
          "output_type": "display_data",
          "data": {
            "text/plain": [
              "<Figure size 600x400 with 1 Axes>"
            ],
            "image/png": "[encoded data removed]"
          },
          "metadata": {}
        }
      ]
    },
    {
      "cell_type": "code",
      "source": [],
      "metadata": {
        "id": "LLuCbvIaOI5M"
      },
      "execution_count": null,
      "outputs": []
    }
  ]
}