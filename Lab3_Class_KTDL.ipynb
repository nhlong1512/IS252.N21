{
  "nbformat": 4,
  "nbformat_minor": 0,
  "metadata": {
    "colab": {
      "provenance": [],
      "authorship_tag": "ABX9TyOe3Y8ULe1WBN1pMUWyXkRe",
      "include_colab_link": true
    },
    "kernelspec": {
      "name": "python3",
      "display_name": "Python 3"
    },
    "language_info": {
      "name": "python"
    }
  },
  "cells": [
    {
      "cell_type": "markdown",
      "metadata": {
        "id": "view-in-github",
        "colab_type": "text"
      },
      "source": [
        "<a href=\"https://colab.research.google.com/github/nhlong1512/IS252.N21/blob/main/Lab3_Class_KTDL.ipynb\" target=\"_parent\"><img src=\"https://colab.research.google.com/assets/colab-badge.svg\" alt=\"Open In Colab\"/></a>"
      ]
    },
    {
      "cell_type": "code",
      "execution_count": 1,
      "metadata": {
        "id": "2r4Y7BPRpzUj"
      },
      "outputs": [],
      "source": [
        "%matplotlib inline\n",
        "\n",
        "import matplotlib.pyplot as plt\n",
        "import numpy as np\n",
        "import pandas as pd\n",
        "import seaborn as sns\n",
        "\n",
        "from sklearn.model_selection import train_test_split\n",
        "from sklearn import tree\n",
        "from sklearn.naive_bayes import GaussianNB\n",
        "from sklearn import metrics\n"
      ]
    },
    {
      "cell_type": "code",
      "source": [
        "#import file csv\n",
        "df_training = pd.read_csv(\"adult.data.csv\")\n",
        "df_test = pd.read_csv(\"adult.test.csv\")\n"
      ],
      "metadata": {
        "id": "kGI7w2ggrZkF"
      },
      "execution_count": 2,
      "outputs": []
    },
    {
      "cell_type": "code",
      "source": [
        "# Xóa các hàng có dấu \"?\"\n",
        "df = df_training[df_training != '?'].dropna()"
      ],
      "metadata": {
        "id": "tLrVExpsrzvW"
      },
      "execution_count": 3,
      "outputs": []
    },
    {
      "cell_type": "code",
      "source": [
        "# Xóa các hàng có dấu \"?\"\n",
        "df = df_test[df_test != '?'].dropna()"
      ],
      "metadata": {
        "id": "FsIJFIQiuHOS"
      },
      "execution_count": 4,
      "outputs": []
    },
    {
      "cell_type": "code",
      "source": [
        "count_training = len(df_training.index)\n"
      ],
      "metadata": {
        "id": "OKhoo_nAuLHw"
      },
      "execution_count": 7,
      "outputs": []
    },
    {
      "cell_type": "code",
      "source": [
        "count_test = len(df_test.index)"
      ],
      "metadata": {
        "id": "NUSqSZTJukhR"
      },
      "execution_count": 9,
      "outputs": []
    },
    {
      "cell_type": "code",
      "source": [
        "print(count_training)\n",
        "print(count_test)"
      ],
      "metadata": {
        "colab": {
          "base_uri": "https://localhost:8080/"
        },
        "id": "Ph1exFkwuoBq",
        "outputId": "e9dff907-92ba-49ef-adab-822f2cb108dd"
      },
      "execution_count": 10,
      "outputs": [
        {
          "output_type": "stream",
          "name": "stdout",
          "text": [
            "32561\n",
            "16281\n"
          ]
        }
      ]
    },
    {
      "cell_type": "code",
      "source": [],
      "metadata": {
        "id": "aQtsipijuv5E"
      },
      "execution_count": null,
      "outputs": []
    }
  ]
}